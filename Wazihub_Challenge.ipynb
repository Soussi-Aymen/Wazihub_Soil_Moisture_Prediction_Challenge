{
 "cells": [
  {
   "cell_type": "code",
   "execution_count": 1,
   "metadata": {},
   "outputs": [],
   "source": [
    "import pandas as pd\n",
    "import numpy as np\n",
    "import matplotlib.pyplot as plt\n",
    "%matplotlib inline\n",
    "import seaborn as sns"
   ]
  },
  {
   "cell_type": "code",
   "execution_count": 2,
   "metadata": {},
   "outputs": [],
   "source": [
    "train = pd.read_csv(\"data/Train.csv\")\n",
    "sub = pd.read_csv(\"data/SampleSubmission.csv\")\n",
    "variables = pd.read_csv(\"data/VariableDefinitions.csv\")\n",
    "Maize = pd.read_csv(\"data/Context_Data_Maize.csv\")\n",
    "Peanuts = pd.read_csv(\"data/Context_Data_Peanuts.csv\")\n",
    "\n"
   ]
  },
  {
   "cell_type": "code",
   "execution_count": 3,
   "metadata": {},
   "outputs": [
    {
     "data": {
      "text/html": [
       "<div>\n",
       "<style scoped>\n",
       "    .dataframe tbody tr th:only-of-type {\n",
       "        vertical-align: middle;\n",
       "    }\n",
       "\n",
       "    .dataframe tbody tr th {\n",
       "        vertical-align: top;\n",
       "    }\n",
       "\n",
       "    .dataframe thead th {\n",
       "        text-align: right;\n",
       "    }\n",
       "</style>\n",
       "<table border=\"1\" class=\"dataframe\">\n",
       "  <thead>\n",
       "    <tr style=\"text-align: right;\">\n",
       "      <th></th>\n",
       "      <th>timestamp</th>\n",
       "      <th>Soil humidity 1</th>\n",
       "      <th>Irrigation field 1</th>\n",
       "      <th>Soil humidity 2</th>\n",
       "      <th>Irrigation field 2</th>\n",
       "      <th>Soil humidity 3</th>\n",
       "      <th>Irrigation field 3</th>\n",
       "      <th>Soil humidity 4</th>\n",
       "      <th>Irrigation field 4</th>\n",
       "      <th>Air temperature (C)</th>\n",
       "      <th>Air humidity (%)</th>\n",
       "      <th>Pressure (KPa)</th>\n",
       "      <th>Wind speed (Km/h)</th>\n",
       "      <th>Wind gust (Km/h)</th>\n",
       "      <th>Wind direction (Deg)</th>\n",
       "    </tr>\n",
       "  </thead>\n",
       "  <tbody>\n",
       "    <tr>\n",
       "      <th>0</th>\n",
       "      <td>2019-02-23 00:00:00</td>\n",
       "      <td>67.92</td>\n",
       "      <td>0.0</td>\n",
       "      <td>55.72</td>\n",
       "      <td>0.0</td>\n",
       "      <td>-1.56</td>\n",
       "      <td>1.0</td>\n",
       "      <td>26.57</td>\n",
       "      <td>1.0</td>\n",
       "      <td>19.52</td>\n",
       "      <td>55.04</td>\n",
       "      <td>101.50</td>\n",
       "      <td>2.13</td>\n",
       "      <td>6.30</td>\n",
       "      <td>225.00</td>\n",
       "    </tr>\n",
       "    <tr>\n",
       "      <th>1</th>\n",
       "      <td>2019-02-23 00:05:00</td>\n",
       "      <td>67.89</td>\n",
       "      <td>0.0</td>\n",
       "      <td>55.74</td>\n",
       "      <td>0.0</td>\n",
       "      <td>-1.51</td>\n",
       "      <td>1.0</td>\n",
       "      <td>26.58</td>\n",
       "      <td>1.0</td>\n",
       "      <td>19.49</td>\n",
       "      <td>55.17</td>\n",
       "      <td>101.50</td>\n",
       "      <td>2.01</td>\n",
       "      <td>10.46</td>\n",
       "      <td>123.75</td>\n",
       "    </tr>\n",
       "    <tr>\n",
       "      <th>2</th>\n",
       "      <td>2019-02-23 00:10:00</td>\n",
       "      <td>67.86</td>\n",
       "      <td>0.0</td>\n",
       "      <td>55.77</td>\n",
       "      <td>0.0</td>\n",
       "      <td>-1.47</td>\n",
       "      <td>1.0</td>\n",
       "      <td>26.59</td>\n",
       "      <td>1.0</td>\n",
       "      <td>19.47</td>\n",
       "      <td>55.30</td>\n",
       "      <td>101.51</td>\n",
       "      <td>1.90</td>\n",
       "      <td>14.63</td>\n",
       "      <td>22.50</td>\n",
       "    </tr>\n",
       "    <tr>\n",
       "      <th>3</th>\n",
       "      <td>2019-02-23 00:15:00</td>\n",
       "      <td>67.84</td>\n",
       "      <td>0.0</td>\n",
       "      <td>55.79</td>\n",
       "      <td>0.0</td>\n",
       "      <td>-1.42</td>\n",
       "      <td>1.0</td>\n",
       "      <td>26.61</td>\n",
       "      <td>1.0</td>\n",
       "      <td>19.54</td>\n",
       "      <td>54.20</td>\n",
       "      <td>101.51</td>\n",
       "      <td>2.28</td>\n",
       "      <td>16.08</td>\n",
       "      <td>123.75</td>\n",
       "    </tr>\n",
       "    <tr>\n",
       "      <th>4</th>\n",
       "      <td>2019-02-23 00:20:00</td>\n",
       "      <td>67.81</td>\n",
       "      <td>0.0</td>\n",
       "      <td>55.82</td>\n",
       "      <td>0.0</td>\n",
       "      <td>-1.38</td>\n",
       "      <td>1.0</td>\n",
       "      <td>26.62</td>\n",
       "      <td>1.0</td>\n",
       "      <td>19.61</td>\n",
       "      <td>53.09</td>\n",
       "      <td>101.51</td>\n",
       "      <td>2.66</td>\n",
       "      <td>17.52</td>\n",
       "      <td>225.00</td>\n",
       "    </tr>\n",
       "  </tbody>\n",
       "</table>\n",
       "</div>"
      ],
      "text/plain": [
       "             timestamp  Soil humidity 1  Irrigation field 1  Soil humidity 2  \\\n",
       "0  2019-02-23 00:00:00            67.92                 0.0            55.72   \n",
       "1  2019-02-23 00:05:00            67.89                 0.0            55.74   \n",
       "2  2019-02-23 00:10:00            67.86                 0.0            55.77   \n",
       "3  2019-02-23 00:15:00            67.84                 0.0            55.79   \n",
       "4  2019-02-23 00:20:00            67.81                 0.0            55.82   \n",
       "\n",
       "   Irrigation field 2  Soil humidity 3  Irrigation field 3  Soil humidity 4  \\\n",
       "0                 0.0            -1.56                 1.0            26.57   \n",
       "1                 0.0            -1.51                 1.0            26.58   \n",
       "2                 0.0            -1.47                 1.0            26.59   \n",
       "3                 0.0            -1.42                 1.0            26.61   \n",
       "4                 0.0            -1.38                 1.0            26.62   \n",
       "\n",
       "   Irrigation field 4  Air temperature (C)  Air humidity (%)  Pressure (KPa)  \\\n",
       "0                 1.0                19.52             55.04          101.50   \n",
       "1                 1.0                19.49             55.17          101.50   \n",
       "2                 1.0                19.47             55.30          101.51   \n",
       "3                 1.0                19.54             54.20          101.51   \n",
       "4                 1.0                19.61             53.09          101.51   \n",
       "\n",
       "   Wind speed (Km/h)  Wind gust (Km/h)  Wind direction (Deg)  \n",
       "0               2.13              6.30                225.00  \n",
       "1               2.01             10.46                123.75  \n",
       "2               1.90             14.63                 22.50  \n",
       "3               2.28             16.08                123.75  \n",
       "4               2.66             17.52                225.00  "
      ]
     },
     "execution_count": 3,
     "metadata": {},
     "output_type": "execute_result"
    }
   ],
   "source": [
    "train.head()"
   ]
  },
  {
   "cell_type": "code",
   "execution_count": 4,
   "metadata": {},
   "outputs": [
    {
     "data": {
      "text/plain": [
       "(28049, 15)"
      ]
     },
     "execution_count": 4,
     "metadata": {},
     "output_type": "execute_result"
    }
   ],
   "source": [
    "train.shape"
   ]
  },
  {
   "cell_type": "code",
   "execution_count": 5,
   "metadata": {},
   "outputs": [
    {
     "data": {
      "text/plain": [
       "(5782, 2)"
      ]
     },
     "execution_count": 5,
     "metadata": {},
     "output_type": "execute_result"
    }
   ],
   "source": [
    "sub.shape"
   ]
  },
  {
   "cell_type": "code",
   "execution_count": 6,
   "metadata": {},
   "outputs": [
    {
     "data": {
      "text/html": [
       "<div>\n",
       "<style scoped>\n",
       "    .dataframe tbody tr th:only-of-type {\n",
       "        vertical-align: middle;\n",
       "    }\n",
       "\n",
       "    .dataframe tbody tr th {\n",
       "        vertical-align: top;\n",
       "    }\n",
       "\n",
       "    .dataframe thead th {\n",
       "        text-align: right;\n",
       "    }\n",
       "</style>\n",
       "<table border=\"1\" class=\"dataframe\">\n",
       "  <thead>\n",
       "    <tr style=\"text-align: right;\">\n",
       "      <th></th>\n",
       "      <th>Variabe Definitions</th>\n",
       "      <th>Unnamed: 1</th>\n",
       "    </tr>\n",
       "  </thead>\n",
       "  <tbody>\n",
       "    <tr>\n",
       "      <th>0</th>\n",
       "      <td>NaN</td>\n",
       "      <td>NaN</td>\n",
       "    </tr>\n",
       "    <tr>\n",
       "      <th>1</th>\n",
       "      <td>Train</td>\n",
       "      <td>NaN</td>\n",
       "    </tr>\n",
       "    <tr>\n",
       "      <th>2</th>\n",
       "      <td>timestamp</td>\n",
       "      <td>Time of recording in yyyy-mmm-dd hh-mm-ss</td>\n",
       "    </tr>\n",
       "    <tr>\n",
       "      <th>3</th>\n",
       "      <td>Soil_humidity_1</td>\n",
       "      <td>Soil humidity of field 1</td>\n",
       "    </tr>\n",
       "    <tr>\n",
       "      <th>4</th>\n",
       "      <td>Irrigation field 1</td>\n",
       "      <td>1=irrigation on, 0=irrigation off</td>\n",
       "    </tr>\n",
       "    <tr>\n",
       "      <th>5</th>\n",
       "      <td>Soil_humidity_2</td>\n",
       "      <td>Soil humidity of field 2</td>\n",
       "    </tr>\n",
       "    <tr>\n",
       "      <th>6</th>\n",
       "      <td>Irrigation field 2</td>\n",
       "      <td>1=irrigation on, 0=irrigation off</td>\n",
       "    </tr>\n",
       "    <tr>\n",
       "      <th>7</th>\n",
       "      <td>Soil_humidity_3</td>\n",
       "      <td>Soil humidity of field 3</td>\n",
       "    </tr>\n",
       "    <tr>\n",
       "      <th>8</th>\n",
       "      <td>Irrigation field 3</td>\n",
       "      <td>1=irrigation on, 0=irrigation off</td>\n",
       "    </tr>\n",
       "    <tr>\n",
       "      <th>9</th>\n",
       "      <td>Soil_humidity_4</td>\n",
       "      <td>Soil humidity of field 4</td>\n",
       "    </tr>\n",
       "    <tr>\n",
       "      <th>10</th>\n",
       "      <td>Irrigation field 4</td>\n",
       "      <td>1=irrigation on, 0=irrigation off</td>\n",
       "    </tr>\n",
       "    <tr>\n",
       "      <th>11</th>\n",
       "      <td>Air_temperature</td>\n",
       "      <td>Temprature of the air in degrees Celcius</td>\n",
       "    </tr>\n",
       "    <tr>\n",
       "      <th>12</th>\n",
       "      <td>Air_humidity</td>\n",
       "      <td>Humidity of the air</td>\n",
       "    </tr>\n",
       "    <tr>\n",
       "      <th>13</th>\n",
       "      <td>Air_Pressure</td>\n",
       "      <td>Pressure of the air in kilo pascals</td>\n",
       "    </tr>\n",
       "    <tr>\n",
       "      <th>14</th>\n",
       "      <td>Wind_speed</td>\n",
       "      <td>Speed of the wind in kilometers per hour</td>\n",
       "    </tr>\n",
       "    <tr>\n",
       "      <th>15</th>\n",
       "      <td>Wind_gust</td>\n",
       "      <td>Speed of the gusts of wind in kilometers per hour</td>\n",
       "    </tr>\n",
       "    <tr>\n",
       "      <th>16</th>\n",
       "      <td>Wind_irection</td>\n",
       "      <td>Direction of the wind in degrees from North</td>\n",
       "    </tr>\n",
       "    <tr>\n",
       "      <th>17</th>\n",
       "      <td>NaN</td>\n",
       "      <td>NaN</td>\n",
       "    </tr>\n",
       "    <tr>\n",
       "      <th>18</th>\n",
       "      <td>Context</td>\n",
       "      <td>NaN</td>\n",
       "    </tr>\n",
       "    <tr>\n",
       "      <th>19</th>\n",
       "      <td>Date</td>\n",
       "      <td>Date (MM/DD/YYYY)</td>\n",
       "    </tr>\n",
       "    <tr>\n",
       "      <th>20</th>\n",
       "      <td>Min_Temp</td>\n",
       "      <td>Minimum daily temperature measured in celsius\\n</td>\n",
       "    </tr>\n",
       "    <tr>\n",
       "      <th>21</th>\n",
       "      <td>Max_Temp</td>\n",
       "      <td>Maximum daily temperature measured in celsius\\n</td>\n",
       "    </tr>\n",
       "    <tr>\n",
       "      <th>22</th>\n",
       "      <td>Humidity</td>\n",
       "      <td>Percent air humidity</td>\n",
       "    </tr>\n",
       "    <tr>\n",
       "      <th>23</th>\n",
       "      <td>Wind_Speed</td>\n",
       "      <td>Wind speed measured in meters per second</td>\n",
       "    </tr>\n",
       "    <tr>\n",
       "      <th>24</th>\n",
       "      <td>Solar_Irradiance</td>\n",
       "      <td>The power per unit area (Watt per square metre...</td>\n",
       "    </tr>\n",
       "    <tr>\n",
       "      <th>25</th>\n",
       "      <td>Sun</td>\n",
       "      <td>Radiant energy emitted by the sun measured in ...</td>\n",
       "    </tr>\n",
       "    <tr>\n",
       "      <th>26</th>\n",
       "      <td>Kc</td>\n",
       "      <td>Crop coefficient Kc. A property of plants used...</td>\n",
       "    </tr>\n",
       "    <tr>\n",
       "      <th>27</th>\n",
       "      <td>ETc</td>\n",
       "      <td>The evapotranspiration rate observed in the cr...</td>\n",
       "    </tr>\n",
       "    <tr>\n",
       "      <th>28</th>\n",
       "      <td>ETo</td>\n",
       "      <td>The evapotranspiration rate observed for a wel...</td>\n",
       "    </tr>\n",
       "    <tr>\n",
       "      <th>29</th>\n",
       "      <td>Rainfall</td>\n",
       "      <td>Rainfall per day</td>\n",
       "    </tr>\n",
       "    <tr>\n",
       "      <th>30</th>\n",
       "      <td>Water_Need_1day</td>\n",
       "      <td>The water needs of the crop measured (Evapotra...</td>\n",
       "    </tr>\n",
       "    <tr>\n",
       "      <th>31</th>\n",
       "      <td>Water_Need_2days</td>\n",
       "      <td>The water needs of the crop measured (Evapotra...</td>\n",
       "    </tr>\n",
       "    <tr>\n",
       "      <th>32</th>\n",
       "      <td>Water_Need_3days</td>\n",
       "      <td>The water needs of the crop measured (Evapotra...</td>\n",
       "    </tr>\n",
       "  </tbody>\n",
       "</table>\n",
       "</div>"
      ],
      "text/plain": [
       "   Variabe Definitions                                         Unnamed: 1\n",
       "0                  NaN                                                NaN\n",
       "1                Train                                                NaN\n",
       "2            timestamp          Time of recording in yyyy-mmm-dd hh-mm-ss\n",
       "3      Soil_humidity_1                           Soil humidity of field 1\n",
       "4   Irrigation field 1                  1=irrigation on, 0=irrigation off\n",
       "5      Soil_humidity_2                           Soil humidity of field 2\n",
       "6   Irrigation field 2                  1=irrigation on, 0=irrigation off\n",
       "7      Soil_humidity_3                           Soil humidity of field 3\n",
       "8   Irrigation field 3                  1=irrigation on, 0=irrigation off\n",
       "9      Soil_humidity_4                           Soil humidity of field 4\n",
       "10  Irrigation field 4                  1=irrigation on, 0=irrigation off\n",
       "11     Air_temperature           Temprature of the air in degrees Celcius\n",
       "12        Air_humidity                                Humidity of the air\n",
       "13        Air_Pressure                Pressure of the air in kilo pascals\n",
       "14          Wind_speed           Speed of the wind in kilometers per hour\n",
       "15           Wind_gust  Speed of the gusts of wind in kilometers per hour\n",
       "16       Wind_irection        Direction of the wind in degrees from North\n",
       "17                 NaN                                                NaN\n",
       "18             Context                                                NaN\n",
       "19                Date                                  Date (MM/DD/YYYY)\n",
       "20            Min_Temp    Minimum daily temperature measured in celsius\\n\n",
       "21            Max_Temp    Maximum daily temperature measured in celsius\\n\n",
       "22            Humidity                               Percent air humidity\n",
       "23          Wind_Speed           Wind speed measured in meters per second\n",
       "24    Solar_Irradiance  The power per unit area (Watt per square metre...\n",
       "25                 Sun  Radiant energy emitted by the sun measured in ...\n",
       "26                  Kc  Crop coefficient Kc. A property of plants used...\n",
       "27                 ETc  The evapotranspiration rate observed in the cr...\n",
       "28                 ETo  The evapotranspiration rate observed for a wel...\n",
       "29            Rainfall                                   Rainfall per day\n",
       "30     Water_Need_1day  The water needs of the crop measured (Evapotra...\n",
       "31    Water_Need_2days  The water needs of the crop measured (Evapotra...\n",
       "32    Water_Need_3days  The water needs of the crop measured (Evapotra..."
      ]
     },
     "execution_count": 6,
     "metadata": {},
     "output_type": "execute_result"
    }
   ],
   "source": [
    "variables"
   ]
  },
  {
   "cell_type": "code",
   "execution_count": 7,
   "metadata": {},
   "outputs": [
    {
     "data": {
      "text/plain": [
       "(93, 15)"
      ]
     },
     "execution_count": 7,
     "metadata": {},
     "output_type": "execute_result"
    }
   ],
   "source": [
    "Peanuts.shape"
   ]
  },
  {
   "cell_type": "code",
   "execution_count": 8,
   "metadata": {},
   "outputs": [
    {
     "data": {
      "text/plain": [
       "timestamp                object\n",
       "Soil humidity 1         float64\n",
       "Irrigation field 1      float64\n",
       "Soil humidity 2         float64\n",
       "Irrigation field 2      float64\n",
       "Soil humidity 3         float64\n",
       "Irrigation field 3      float64\n",
       "Soil humidity 4         float64\n",
       "Irrigation field 4      float64\n",
       "Air temperature (C)     float64\n",
       "Air humidity (%)        float64\n",
       "Pressure (KPa)          float64\n",
       "Wind speed (Km/h)       float64\n",
       "Wind gust (Km/h)        float64\n",
       "Wind direction (Deg)    float64\n",
       "dtype: object"
      ]
     },
     "execution_count": 8,
     "metadata": {},
     "output_type": "execute_result"
    }
   ],
   "source": [
    "train.dtypes"
   ]
  },
  {
   "cell_type": "code",
   "execution_count": 9,
   "metadata": {},
   "outputs": [
    {
     "data": {
      "text/plain": [
       "Date                 object\n",
       "Min_Temp            float64\n",
       "Max_Temp            float64\n",
       "Humidity            float64\n",
       "Wind_Speed          float64\n",
       "Solar_Irradiance    float64\n",
       "Sun                 float64\n",
       "Kc                  float64\n",
       "ETc                 float64\n",
       "ETo                 float64\n",
       "Rainfall            float64\n",
       "Water_Need_1day     float64\n",
       "Water_Need_2days    float64\n",
       "Water_Need_3days    float64\n",
       "dtype: object"
      ]
     },
     "execution_count": 9,
     "metadata": {},
     "output_type": "execute_result"
    }
   ],
   "source": [
    "Maize.dtypes"
   ]
  },
  {
   "cell_type": "code",
   "execution_count": 10,
   "metadata": {},
   "outputs": [
    {
     "data": {
      "text/plain": [
       "timestamp                   0\n",
       "Soil humidity 1         19132\n",
       "Irrigation field 1      17983\n",
       "Soil humidity 2          1745\n",
       "Irrigation field 2         20\n",
       "Soil humidity 3         11963\n",
       "Irrigation field 3      10813\n",
       "Soil humidity 4          1743\n",
       "Irrigation field 4         20\n",
       "Air temperature (C)      4054\n",
       "Air humidity (%)         4054\n",
       "Pressure (KPa)           4054\n",
       "Wind speed (Km/h)        4054\n",
       "Wind gust (Km/h)         4054\n",
       "Wind direction (Deg)     4054\n",
       "dtype: int64"
      ]
     },
     "execution_count": 10,
     "metadata": {},
     "output_type": "execute_result"
    }
   ],
   "source": [
    "train.isnull().sum()"
   ]
  },
  {
   "cell_type": "markdown",
   "metadata": {},
   "source": [
    "## Handle Maize annd Peanuts"
   ]
  },
  {
   "cell_type": "code",
   "execution_count": 11,
   "metadata": {},
   "outputs": [],
   "source": [
    "separate_columns =   pd.DataFrame(Maize['Date'].str.split('-',1).tolist(),\n",
    "                                   columns = ['day','month'])"
   ]
  },
  {
   "cell_type": "code",
   "execution_count": 12,
   "metadata": {},
   "outputs": [],
   "source": [
    "Maize[\"day\"] = separate_columns[\"day\"]\n",
    "Maize[\"month\"] = separate_columns[\"month\"]"
   ]
  },
  {
   "cell_type": "code",
   "execution_count": 13,
   "metadata": {},
   "outputs": [
    {
     "data": {
      "text/plain": [
       "array(['Feb', 'Mar', 'Apr', 'May'], dtype=object)"
      ]
     },
     "execution_count": 13,
     "metadata": {},
     "output_type": "execute_result"
    }
   ],
   "source": [
    "Maize[\"month\"].unique()"
   ]
  },
  {
   "cell_type": "code",
   "execution_count": 14,
   "metadata": {},
   "outputs": [],
   "source": [
    "d={'Feb':2,'Mar':3,'Apr':4, 'May':5}\n",
    "Maize[\"month\"]=Maize[\"month\"].apply(lambda x:d[x])"
   ]
  },
  {
   "cell_type": "code",
   "execution_count": 15,
   "metadata": {},
   "outputs": [],
   "source": [
    "Maize[\"merging\"] = Maize[\"day\"]+\"-\"+ Maize[\"month\"].astype(str)"
   ]
  },
  {
   "cell_type": "code",
   "execution_count": 16,
   "metadata": {},
   "outputs": [],
   "source": [
    "Maize= Maize[['Min_Temp', 'Max_Temp', 'Humidity', 'Wind_Speed',\n",
    "       'Solar_Irradiance', 'Sun', 'Kc', 'ETc', 'ETo', 'Rainfall',\n",
    "       'Water_Need_1day', 'Water_Need_2days', 'Water_Need_3days', 'merging']]"
   ]
  },
  {
   "cell_type": "code",
   "execution_count": null,
   "metadata": {},
   "outputs": [],
   "source": []
  },
  {
   "cell_type": "code",
   "execution_count": 17,
   "metadata": {},
   "outputs": [],
   "source": [
    "separate_columns =   pd.DataFrame(Peanuts['Date'].str.split('-',1).tolist(),\n",
    "                                   columns = ['day','month'])"
   ]
  },
  {
   "cell_type": "code",
   "execution_count": 18,
   "metadata": {},
   "outputs": [],
   "source": [
    "Peanuts[\"day\"] = separate_columns[\"day\"]\n",
    "Peanuts[\"month\"] = separate_columns[\"month\"]"
   ]
  },
  {
   "cell_type": "code",
   "execution_count": 19,
   "metadata": {},
   "outputs": [
    {
     "data": {
      "text/plain": [
       "array(['Feb', 'Mar', 'Apr', 'May'], dtype=object)"
      ]
     },
     "execution_count": 19,
     "metadata": {},
     "output_type": "execute_result"
    }
   ],
   "source": [
    "Peanuts[\"month\"].unique()"
   ]
  },
  {
   "cell_type": "code",
   "execution_count": 20,
   "metadata": {},
   "outputs": [],
   "source": [
    "d={'Feb':2,'Mar':3,'Apr':4, 'May':5}\n",
    "Peanuts[\"month\"]=Peanuts[\"month\"].apply(lambda x:d[x])"
   ]
  },
  {
   "cell_type": "code",
   "execution_count": 21,
   "metadata": {},
   "outputs": [],
   "source": [
    "Peanuts[\"merging\"] = Peanuts[\"day\"]+\"-\"+ Peanuts[\"month\"].astype(str)"
   ]
  },
  {
   "cell_type": "code",
   "execution_count": 22,
   "metadata": {},
   "outputs": [],
   "source": [
    "Peanuts= Peanuts[['Min_Temp', 'Max_Temp', 'Humidity', 'Wind_Speed',\n",
    "       'Solar_Irradiance', 'Sun', 'Kc', 'ETc', 'ETo', 'Rainfall',\n",
    "       'Water_Need_1day', 'Water_Need_2days', 'Water_Need_3days', 'merging']]\n"
   ]
  },
  {
   "cell_type": "markdown",
   "metadata": {},
   "source": [
    "## Handle train  and test data"
   ]
  },
  {
   "cell_type": "code",
   "execution_count": 23,
   "metadata": {},
   "outputs": [
    {
     "data": {
      "text/plain": [
       "Index(['timestamp', 'Soil humidity 1', 'Irrigation field 1', 'Soil humidity 2',\n",
       "       'Irrigation field 2', 'Soil humidity 3', 'Irrigation field 3',\n",
       "       'Soil humidity 4', 'Irrigation field 4', 'Air temperature (C)',\n",
       "       'Air humidity (%)', 'Pressure (KPa)', 'Wind speed (Km/h)',\n",
       "       'Wind gust (Km/h)', 'Wind direction (Deg)'],\n",
       "      dtype='object')"
      ]
     },
     "execution_count": 23,
     "metadata": {},
     "output_type": "execute_result"
    }
   ],
   "source": [
    "train.columns"
   ]
  },
  {
   "cell_type": "code",
   "execution_count": 24,
   "metadata": {},
   "outputs": [],
   "source": [
    "train[\"timestamp\"] = pd.to_datetime(train[\"timestamp\"], format=\"%Y-%m-%d %H:%M:%S\")"
   ]
  },
  {
   "cell_type": "code",
   "execution_count": 25,
   "metadata": {},
   "outputs": [],
   "source": [
    "train_1 = train[['timestamp', 'Soil humidity 1', 'Irrigation field 1',\n",
    "        'Air temperature (C)',\n",
    "       'Air humidity (%)', 'Pressure (KPa)', 'Wind speed (Km/h)',\n",
    "       'Wind gust (Km/h)', 'Wind direction (Deg)']]"
   ]
  },
  {
   "cell_type": "code",
   "execution_count": 26,
   "metadata": {},
   "outputs": [],
   "source": [
    "train_2 = train[['timestamp', 'Soil humidity 2', 'Irrigation field 2',\n",
    "        'Air temperature (C)',\n",
    "       'Air humidity (%)', 'Pressure (KPa)', 'Wind speed (Km/h)',\n",
    "       'Wind gust (Km/h)', 'Wind direction (Deg)']]"
   ]
  },
  {
   "cell_type": "code",
   "execution_count": 27,
   "metadata": {},
   "outputs": [],
   "source": [
    "train_3 = train[['timestamp', 'Soil humidity 3', 'Irrigation field 3',\n",
    "        'Air temperature (C)',\n",
    "       'Air humidity (%)', 'Pressure (KPa)', 'Wind speed (Km/h)',\n",
    "       'Wind gust (Km/h)', 'Wind direction (Deg)']]"
   ]
  },
  {
   "cell_type": "code",
   "execution_count": 28,
   "metadata": {},
   "outputs": [],
   "source": [
    "train_4 = train[['timestamp', 'Soil humidity 4', 'Irrigation field 4',\n",
    "        'Air temperature (C)',\n",
    "       'Air humidity (%)', 'Pressure (KPa)', 'Wind speed (Km/h)',\n",
    "       'Wind gust (Km/h)', 'Wind direction (Deg)']]"
   ]
  },
  {
   "cell_type": "code",
   "execution_count": 29,
   "metadata": {},
   "outputs": [
    {
     "data": {
      "text/html": [
       "<div>\n",
       "<style scoped>\n",
       "    .dataframe tbody tr th:only-of-type {\n",
       "        vertical-align: middle;\n",
       "    }\n",
       "\n",
       "    .dataframe tbody tr th {\n",
       "        vertical-align: top;\n",
       "    }\n",
       "\n",
       "    .dataframe thead th {\n",
       "        text-align: right;\n",
       "    }\n",
       "</style>\n",
       "<table border=\"1\" class=\"dataframe\">\n",
       "  <thead>\n",
       "    <tr style=\"text-align: right;\">\n",
       "      <th></th>\n",
       "      <th>timestamp</th>\n",
       "      <th>Soil humidity 1</th>\n",
       "      <th>Irrigation field 1</th>\n",
       "      <th>Air temperature (C)</th>\n",
       "      <th>Air humidity (%)</th>\n",
       "      <th>Pressure (KPa)</th>\n",
       "      <th>Wind speed (Km/h)</th>\n",
       "      <th>Wind gust (Km/h)</th>\n",
       "      <th>Wind direction (Deg)</th>\n",
       "    </tr>\n",
       "  </thead>\n",
       "  <tbody>\n",
       "    <tr>\n",
       "      <th>0</th>\n",
       "      <td>2019-02-23 00:00:00</td>\n",
       "      <td>67.92</td>\n",
       "      <td>0.0</td>\n",
       "      <td>19.52</td>\n",
       "      <td>55.04</td>\n",
       "      <td>101.50</td>\n",
       "      <td>2.13</td>\n",
       "      <td>6.30</td>\n",
       "      <td>225.00</td>\n",
       "    </tr>\n",
       "    <tr>\n",
       "      <th>1</th>\n",
       "      <td>2019-02-23 00:05:00</td>\n",
       "      <td>67.89</td>\n",
       "      <td>0.0</td>\n",
       "      <td>19.49</td>\n",
       "      <td>55.17</td>\n",
       "      <td>101.50</td>\n",
       "      <td>2.01</td>\n",
       "      <td>10.46</td>\n",
       "      <td>123.75</td>\n",
       "    </tr>\n",
       "    <tr>\n",
       "      <th>2</th>\n",
       "      <td>2019-02-23 00:10:00</td>\n",
       "      <td>67.86</td>\n",
       "      <td>0.0</td>\n",
       "      <td>19.47</td>\n",
       "      <td>55.30</td>\n",
       "      <td>101.51</td>\n",
       "      <td>1.90</td>\n",
       "      <td>14.63</td>\n",
       "      <td>22.50</td>\n",
       "    </tr>\n",
       "    <tr>\n",
       "      <th>3</th>\n",
       "      <td>2019-02-23 00:15:00</td>\n",
       "      <td>67.84</td>\n",
       "      <td>0.0</td>\n",
       "      <td>19.54</td>\n",
       "      <td>54.20</td>\n",
       "      <td>101.51</td>\n",
       "      <td>2.28</td>\n",
       "      <td>16.08</td>\n",
       "      <td>123.75</td>\n",
       "    </tr>\n",
       "    <tr>\n",
       "      <th>4</th>\n",
       "      <td>2019-02-23 00:20:00</td>\n",
       "      <td>67.81</td>\n",
       "      <td>0.0</td>\n",
       "      <td>19.61</td>\n",
       "      <td>53.09</td>\n",
       "      <td>101.51</td>\n",
       "      <td>2.66</td>\n",
       "      <td>17.52</td>\n",
       "      <td>225.00</td>\n",
       "    </tr>\n",
       "  </tbody>\n",
       "</table>\n",
       "</div>"
      ],
      "text/plain": [
       "            timestamp  Soil humidity 1  Irrigation field 1  \\\n",
       "0 2019-02-23 00:00:00            67.92                 0.0   \n",
       "1 2019-02-23 00:05:00            67.89                 0.0   \n",
       "2 2019-02-23 00:10:00            67.86                 0.0   \n",
       "3 2019-02-23 00:15:00            67.84                 0.0   \n",
       "4 2019-02-23 00:20:00            67.81                 0.0   \n",
       "\n",
       "   Air temperature (C)  Air humidity (%)  Pressure (KPa)  Wind speed (Km/h)  \\\n",
       "0                19.52             55.04          101.50               2.13   \n",
       "1                19.49             55.17          101.50               2.01   \n",
       "2                19.47             55.30          101.51               1.90   \n",
       "3                19.54             54.20          101.51               2.28   \n",
       "4                19.61             53.09          101.51               2.66   \n",
       "\n",
       "   Wind gust (Km/h)  Wind direction (Deg)  \n",
       "0              6.30                225.00  \n",
       "1             10.46                123.75  \n",
       "2             14.63                 22.50  \n",
       "3             16.08                123.75  \n",
       "4             17.52                225.00  "
      ]
     },
     "execution_count": 29,
     "metadata": {},
     "output_type": "execute_result"
    }
   ],
   "source": [
    "train_1.head()"
   ]
  },
  {
   "cell_type": "code",
   "execution_count": 30,
   "metadata": {},
   "outputs": [
    {
     "data": {
      "text/html": [
       "<div>\n",
       "<style scoped>\n",
       "    .dataframe tbody tr th:only-of-type {\n",
       "        vertical-align: middle;\n",
       "    }\n",
       "\n",
       "    .dataframe tbody tr th {\n",
       "        vertical-align: top;\n",
       "    }\n",
       "\n",
       "    .dataframe thead th {\n",
       "        text-align: right;\n",
       "    }\n",
       "</style>\n",
       "<table border=\"1\" class=\"dataframe\">\n",
       "  <thead>\n",
       "    <tr style=\"text-align: right;\">\n",
       "      <th></th>\n",
       "      <th>timestamp</th>\n",
       "      <th>Soil humidity 1</th>\n",
       "      <th>Irrigation field 1</th>\n",
       "      <th>Air temperature (C)</th>\n",
       "      <th>Air humidity (%)</th>\n",
       "      <th>Pressure (KPa)</th>\n",
       "      <th>Wind speed (Km/h)</th>\n",
       "      <th>Wind gust (Km/h)</th>\n",
       "      <th>Wind direction (Deg)</th>\n",
       "    </tr>\n",
       "  </thead>\n",
       "  <tbody>\n",
       "    <tr>\n",
       "      <th>28044</th>\n",
       "      <td>2019-05-31 09:00:00</td>\n",
       "      <td>NaN</td>\n",
       "      <td>NaN</td>\n",
       "      <td>NaN</td>\n",
       "      <td>NaN</td>\n",
       "      <td>NaN</td>\n",
       "      <td>NaN</td>\n",
       "      <td>NaN</td>\n",
       "      <td>NaN</td>\n",
       "    </tr>\n",
       "    <tr>\n",
       "      <th>28045</th>\n",
       "      <td>2019-05-31 09:05:00</td>\n",
       "      <td>NaN</td>\n",
       "      <td>NaN</td>\n",
       "      <td>NaN</td>\n",
       "      <td>NaN</td>\n",
       "      <td>NaN</td>\n",
       "      <td>NaN</td>\n",
       "      <td>NaN</td>\n",
       "      <td>NaN</td>\n",
       "    </tr>\n",
       "    <tr>\n",
       "      <th>28046</th>\n",
       "      <td>2019-05-31 09:10:00</td>\n",
       "      <td>NaN</td>\n",
       "      <td>NaN</td>\n",
       "      <td>NaN</td>\n",
       "      <td>NaN</td>\n",
       "      <td>NaN</td>\n",
       "      <td>NaN</td>\n",
       "      <td>NaN</td>\n",
       "      <td>NaN</td>\n",
       "    </tr>\n",
       "    <tr>\n",
       "      <th>28047</th>\n",
       "      <td>2019-05-31 09:15:00</td>\n",
       "      <td>NaN</td>\n",
       "      <td>NaN</td>\n",
       "      <td>NaN</td>\n",
       "      <td>NaN</td>\n",
       "      <td>NaN</td>\n",
       "      <td>NaN</td>\n",
       "      <td>NaN</td>\n",
       "      <td>NaN</td>\n",
       "    </tr>\n",
       "    <tr>\n",
       "      <th>28048</th>\n",
       "      <td>2019-05-31 09:20:00</td>\n",
       "      <td>NaN</td>\n",
       "      <td>NaN</td>\n",
       "      <td>NaN</td>\n",
       "      <td>NaN</td>\n",
       "      <td>NaN</td>\n",
       "      <td>NaN</td>\n",
       "      <td>NaN</td>\n",
       "      <td>NaN</td>\n",
       "    </tr>\n",
       "  </tbody>\n",
       "</table>\n",
       "</div>"
      ],
      "text/plain": [
       "                timestamp  Soil humidity 1  Irrigation field 1  \\\n",
       "28044 2019-05-31 09:00:00              NaN                 NaN   \n",
       "28045 2019-05-31 09:05:00              NaN                 NaN   \n",
       "28046 2019-05-31 09:10:00              NaN                 NaN   \n",
       "28047 2019-05-31 09:15:00              NaN                 NaN   \n",
       "28048 2019-05-31 09:20:00              NaN                 NaN   \n",
       "\n",
       "       Air temperature (C)  Air humidity (%)  Pressure (KPa)  \\\n",
       "28044                  NaN               NaN             NaN   \n",
       "28045                  NaN               NaN             NaN   \n",
       "28046                  NaN               NaN             NaN   \n",
       "28047                  NaN               NaN             NaN   \n",
       "28048                  NaN               NaN             NaN   \n",
       "\n",
       "       Wind speed (Km/h)  Wind gust (Km/h)  Wind direction (Deg)  \n",
       "28044                NaN               NaN                   NaN  \n",
       "28045                NaN               NaN                   NaN  \n",
       "28046                NaN               NaN                   NaN  \n",
       "28047                NaN               NaN                   NaN  \n",
       "28048                NaN               NaN                   NaN  "
      ]
     },
     "execution_count": 30,
     "metadata": {},
     "output_type": "execute_result"
    }
   ],
   "source": [
    "train_1.tail()"
   ]
  },
  {
   "cell_type": "code",
   "execution_count": null,
   "metadata": {},
   "outputs": [],
   "source": []
  },
  {
   "cell_type": "code",
   "execution_count": 31,
   "metadata": {},
   "outputs": [
    {
     "data": {
      "text/html": [
       "<div>\n",
       "<style scoped>\n",
       "    .dataframe tbody tr th:only-of-type {\n",
       "        vertical-align: middle;\n",
       "    }\n",
       "\n",
       "    .dataframe tbody tr th {\n",
       "        vertical-align: top;\n",
       "    }\n",
       "\n",
       "    .dataframe thead th {\n",
       "        text-align: right;\n",
       "    }\n",
       "</style>\n",
       "<table border=\"1\" class=\"dataframe\">\n",
       "  <thead>\n",
       "    <tr style=\"text-align: right;\">\n",
       "      <th></th>\n",
       "      <th>ID</th>\n",
       "      <th>Values</th>\n",
       "    </tr>\n",
       "  </thead>\n",
       "  <tbody>\n",
       "    <tr>\n",
       "      <th>0</th>\n",
       "      <td>2019-03-25 22:50:00 x Soil humidity 1</td>\n",
       "      <td>0</td>\n",
       "    </tr>\n",
       "    <tr>\n",
       "      <th>1</th>\n",
       "      <td>2019-03-25 22:55:00 x Soil humidity 1</td>\n",
       "      <td>0</td>\n",
       "    </tr>\n",
       "    <tr>\n",
       "      <th>2</th>\n",
       "      <td>2019-03-25 23:00:00 x Soil humidity 1</td>\n",
       "      <td>0</td>\n",
       "    </tr>\n",
       "    <tr>\n",
       "      <th>3</th>\n",
       "      <td>2019-03-25 23:05:00 x Soil humidity 1</td>\n",
       "      <td>0</td>\n",
       "    </tr>\n",
       "    <tr>\n",
       "      <th>4</th>\n",
       "      <td>2019-03-25 23:10:00 x Soil humidity 1</td>\n",
       "      <td>0</td>\n",
       "    </tr>\n",
       "  </tbody>\n",
       "</table>\n",
       "</div>"
      ],
      "text/plain": [
       "                                      ID  Values\n",
       "0  2019-03-25 22:50:00 x Soil humidity 1       0\n",
       "1  2019-03-25 22:55:00 x Soil humidity 1       0\n",
       "2  2019-03-25 23:00:00 x Soil humidity 1       0\n",
       "3  2019-03-25 23:05:00 x Soil humidity 1       0\n",
       "4  2019-03-25 23:10:00 x Soil humidity 1       0"
      ]
     },
     "execution_count": 31,
     "metadata": {},
     "output_type": "execute_result"
    }
   ],
   "source": [
    "sub.head()"
   ]
  },
  {
   "cell_type": "code",
   "execution_count": 32,
   "metadata": {},
   "outputs": [],
   "source": [
    "separate_columns =   pd.DataFrame(sub[\"ID\"].str.split(' x Soil humidity ',1).tolist(),\n",
    "                                   columns = ['timestamp','num_soil'])"
   ]
  },
  {
   "cell_type": "code",
   "execution_count": 33,
   "metadata": {},
   "outputs": [],
   "source": [
    "sub[\"timestamp\"] = separate_columns['timestamp']\n",
    "sub[\"num_soil\"] = separate_columns['num_soil']"
   ]
  },
  {
   "cell_type": "code",
   "execution_count": 34,
   "metadata": {},
   "outputs": [],
   "source": [
    "sub[\"timestamp\"] = pd.to_datetime(sub[\"timestamp\"], format=\"%Y-%m-%d %H:%M:%S\")"
   ]
  },
  {
   "cell_type": "code",
   "execution_count": 35,
   "metadata": {},
   "outputs": [
    {
     "data": {
      "text/plain": [
       "4053"
      ]
     },
     "execution_count": 35,
     "metadata": {},
     "output_type": "execute_result"
    }
   ],
   "source": [
    "sub[\"timestamp\"].unique().shape[0]"
   ]
  },
  {
   "cell_type": "code",
   "execution_count": null,
   "metadata": {},
   "outputs": [],
   "source": []
  },
  {
   "cell_type": "code",
   "execution_count": 36,
   "metadata": {},
   "outputs": [
    {
     "name": "stderr",
     "output_type": "stream",
     "text": [
      "C:\\Users\\Aymen\\Anaconda3\\lib\\site-packages\\ipykernel_launcher.py:1: SettingWithCopyWarning: \n",
      "A value is trying to be set on a copy of a slice from a DataFrame.\n",
      "Try using .loc[row_indexer,col_indexer] = value instead\n",
      "\n",
      "See the caveats in the documentation: http://pandas.pydata.org/pandas-docs/stable/indexing.html#indexing-view-versus-copy\n",
      "  \"\"\"Entry point for launching an IPython kernel.\n",
      "C:\\Users\\Aymen\\Anaconda3\\lib\\site-packages\\ipykernel_launcher.py:2: SettingWithCopyWarning: \n",
      "A value is trying to be set on a copy of a slice from a DataFrame.\n",
      "Try using .loc[row_indexer,col_indexer] = value instead\n",
      "\n",
      "See the caveats in the documentation: http://pandas.pydata.org/pandas-docs/stable/indexing.html#indexing-view-versus-copy\n",
      "  \n",
      "C:\\Users\\Aymen\\Anaconda3\\lib\\site-packages\\ipykernel_launcher.py:3: SettingWithCopyWarning: \n",
      "A value is trying to be set on a copy of a slice from a DataFrame.\n",
      "Try using .loc[row_indexer,col_indexer] = value instead\n",
      "\n",
      "See the caveats in the documentation: http://pandas.pydata.org/pandas-docs/stable/indexing.html#indexing-view-versus-copy\n",
      "  This is separate from the ipykernel package so we can avoid doing imports until\n",
      "C:\\Users\\Aymen\\Anaconda3\\lib\\site-packages\\ipykernel_launcher.py:4: SettingWithCopyWarning: \n",
      "A value is trying to be set on a copy of a slice from a DataFrame.\n",
      "Try using .loc[row_indexer,col_indexer] = value instead\n",
      "\n",
      "See the caveats in the documentation: http://pandas.pydata.org/pandas-docs/stable/indexing.html#indexing-view-versus-copy\n",
      "  after removing the cwd from sys.path.\n"
     ]
    }
   ],
   "source": [
    "train_1[\"num_soil\"] = 1\n",
    "train_2[\"num_soil\"] = 2\n",
    "train_3[\"num_soil\"] = 3\n",
    "train_4[\"num_soil\"] = 4"
   ]
  },
  {
   "cell_type": "code",
   "execution_count": 37,
   "metadata": {},
   "outputs": [
    {
     "name": "stderr",
     "output_type": "stream",
     "text": [
      "C:\\Users\\Aymen\\Anaconda3\\lib\\site-packages\\ipykernel_launcher.py:1: SettingWithCopyWarning: \n",
      "A value is trying to be set on a copy of a slice from a DataFrame.\n",
      "Try using .loc[row_indexer,col_indexer] = value instead\n",
      "\n",
      "See the caveats in the documentation: http://pandas.pydata.org/pandas-docs/stable/indexing.html#indexing-view-versus-copy\n",
      "  \"\"\"Entry point for launching an IPython kernel.\n",
      "C:\\Users\\Aymen\\Anaconda3\\lib\\site-packages\\ipykernel_launcher.py:2: SettingWithCopyWarning: \n",
      "A value is trying to be set on a copy of a slice from a DataFrame.\n",
      "Try using .loc[row_indexer,col_indexer] = value instead\n",
      "\n",
      "See the caveats in the documentation: http://pandas.pydata.org/pandas-docs/stable/indexing.html#indexing-view-versus-copy\n",
      "  \n",
      "C:\\Users\\Aymen\\Anaconda3\\lib\\site-packages\\ipykernel_launcher.py:3: SettingWithCopyWarning: \n",
      "A value is trying to be set on a copy of a slice from a DataFrame.\n",
      "Try using .loc[row_indexer,col_indexer] = value instead\n",
      "\n",
      "See the caveats in the documentation: http://pandas.pydata.org/pandas-docs/stable/indexing.html#indexing-view-versus-copy\n",
      "  This is separate from the ipykernel package so we can avoid doing imports until\n",
      "C:\\Users\\Aymen\\Anaconda3\\lib\\site-packages\\ipykernel_launcher.py:4: SettingWithCopyWarning: \n",
      "A value is trying to be set on a copy of a slice from a DataFrame.\n",
      "Try using .loc[row_indexer,col_indexer] = value instead\n",
      "\n",
      "See the caveats in the documentation: http://pandas.pydata.org/pandas-docs/stable/indexing.html#indexing-view-versus-copy\n",
      "  after removing the cwd from sys.path.\n"
     ]
    }
   ],
   "source": [
    "train_1[\"ID\"] = train_1[\"timestamp\"].astype(str)+\" x \" +\"Soil humidity \"+ train_1[\"num_soil\"].astype(str)\n",
    "train_2[\"ID\"] = train_2[\"timestamp\"].astype(str)+\" x \" +\"Soil humidity \"+ train_2[\"num_soil\"].astype(str)\n",
    "train_3[\"ID\"] = train_3[\"timestamp\"].astype(str)+\" x \" +\"Soil humidity \"+ train_3[\"num_soil\"].astype(str)\n",
    "train_4[\"ID\"] = train_4[\"timestamp\"].astype(str)+\" x \" +\"Soil humidity \"+ train_4[\"num_soil\"].astype(str)\n"
   ]
  },
  {
   "cell_type": "code",
   "execution_count": 38,
   "metadata": {},
   "outputs": [],
   "source": [
    "test_1 = sub.loc[sub[\"num_soil\"].astype(int)==1]\n",
    "test_2 = sub.loc[sub[\"num_soil\"].astype(int)==2]\n",
    "test_3 = sub.loc[sub[\"num_soil\"].astype(int)==3]\n",
    "test_4 = sub.loc[sub[\"num_soil\"].astype(int)==4]\n"
   ]
  },
  {
   "cell_type": "code",
   "execution_count": 39,
   "metadata": {},
   "outputs": [],
   "source": [
    "test_1 = test_1[[\"ID\",\"Values\"]]\n",
    "test_2 = test_2[[\"ID\",\"Values\"]]\n",
    "test_3 = test_3[[\"ID\",\"Values\"]]\n",
    "test_4 = test_4[[\"ID\",\"Values\"]]\n"
   ]
  },
  {
   "cell_type": "code",
   "execution_count": null,
   "metadata": {},
   "outputs": [],
   "source": []
  },
  {
   "cell_type": "code",
   "execution_count": 40,
   "metadata": {},
   "outputs": [
    {
     "data": {
      "text/html": [
       "<div>\n",
       "<style scoped>\n",
       "    .dataframe tbody tr th:only-of-type {\n",
       "        vertical-align: middle;\n",
       "    }\n",
       "\n",
       "    .dataframe tbody tr th {\n",
       "        vertical-align: top;\n",
       "    }\n",
       "\n",
       "    .dataframe thead th {\n",
       "        text-align: right;\n",
       "    }\n",
       "</style>\n",
       "<table border=\"1\" class=\"dataframe\">\n",
       "  <thead>\n",
       "    <tr style=\"text-align: right;\">\n",
       "      <th></th>\n",
       "      <th>timestamp</th>\n",
       "      <th>Soil humidity 1</th>\n",
       "      <th>Irrigation field 1</th>\n",
       "      <th>Air temperature (C)</th>\n",
       "      <th>Air humidity (%)</th>\n",
       "      <th>Pressure (KPa)</th>\n",
       "      <th>Wind speed (Km/h)</th>\n",
       "      <th>Wind gust (Km/h)</th>\n",
       "      <th>Wind direction (Deg)</th>\n",
       "      <th>num_soil</th>\n",
       "      <th>ID</th>\n",
       "    </tr>\n",
       "  </thead>\n",
       "  <tbody>\n",
       "    <tr>\n",
       "      <th>0</th>\n",
       "      <td>2019-02-23 00:00:00</td>\n",
       "      <td>67.92</td>\n",
       "      <td>0.0</td>\n",
       "      <td>19.52</td>\n",
       "      <td>55.04</td>\n",
       "      <td>101.50</td>\n",
       "      <td>2.13</td>\n",
       "      <td>6.30</td>\n",
       "      <td>225.00</td>\n",
       "      <td>1</td>\n",
       "      <td>2019-02-23 00:00:00 x Soil humidity 1</td>\n",
       "    </tr>\n",
       "    <tr>\n",
       "      <th>1</th>\n",
       "      <td>2019-02-23 00:05:00</td>\n",
       "      <td>67.89</td>\n",
       "      <td>0.0</td>\n",
       "      <td>19.49</td>\n",
       "      <td>55.17</td>\n",
       "      <td>101.50</td>\n",
       "      <td>2.01</td>\n",
       "      <td>10.46</td>\n",
       "      <td>123.75</td>\n",
       "      <td>1</td>\n",
       "      <td>2019-02-23 00:05:00 x Soil humidity 1</td>\n",
       "    </tr>\n",
       "    <tr>\n",
       "      <th>2</th>\n",
       "      <td>2019-02-23 00:10:00</td>\n",
       "      <td>67.86</td>\n",
       "      <td>0.0</td>\n",
       "      <td>19.47</td>\n",
       "      <td>55.30</td>\n",
       "      <td>101.51</td>\n",
       "      <td>1.90</td>\n",
       "      <td>14.63</td>\n",
       "      <td>22.50</td>\n",
       "      <td>1</td>\n",
       "      <td>2019-02-23 00:10:00 x Soil humidity 1</td>\n",
       "    </tr>\n",
       "    <tr>\n",
       "      <th>3</th>\n",
       "      <td>2019-02-23 00:15:00</td>\n",
       "      <td>67.84</td>\n",
       "      <td>0.0</td>\n",
       "      <td>19.54</td>\n",
       "      <td>54.20</td>\n",
       "      <td>101.51</td>\n",
       "      <td>2.28</td>\n",
       "      <td>16.08</td>\n",
       "      <td>123.75</td>\n",
       "      <td>1</td>\n",
       "      <td>2019-02-23 00:15:00 x Soil humidity 1</td>\n",
       "    </tr>\n",
       "    <tr>\n",
       "      <th>4</th>\n",
       "      <td>2019-02-23 00:20:00</td>\n",
       "      <td>67.81</td>\n",
       "      <td>0.0</td>\n",
       "      <td>19.61</td>\n",
       "      <td>53.09</td>\n",
       "      <td>101.51</td>\n",
       "      <td>2.66</td>\n",
       "      <td>17.52</td>\n",
       "      <td>225.00</td>\n",
       "      <td>1</td>\n",
       "      <td>2019-02-23 00:20:00 x Soil humidity 1</td>\n",
       "    </tr>\n",
       "  </tbody>\n",
       "</table>\n",
       "</div>"
      ],
      "text/plain": [
       "            timestamp  Soil humidity 1  Irrigation field 1  \\\n",
       "0 2019-02-23 00:00:00            67.92                 0.0   \n",
       "1 2019-02-23 00:05:00            67.89                 0.0   \n",
       "2 2019-02-23 00:10:00            67.86                 0.0   \n",
       "3 2019-02-23 00:15:00            67.84                 0.0   \n",
       "4 2019-02-23 00:20:00            67.81                 0.0   \n",
       "\n",
       "   Air temperature (C)  Air humidity (%)  Pressure (KPa)  Wind speed (Km/h)  \\\n",
       "0                19.52             55.04          101.50               2.13   \n",
       "1                19.49             55.17          101.50               2.01   \n",
       "2                19.47             55.30          101.51               1.90   \n",
       "3                19.54             54.20          101.51               2.28   \n",
       "4                19.61             53.09          101.51               2.66   \n",
       "\n",
       "   Wind gust (Km/h)  Wind direction (Deg)  num_soil  \\\n",
       "0              6.30                225.00         1   \n",
       "1             10.46                123.75         1   \n",
       "2             14.63                 22.50         1   \n",
       "3             16.08                123.75         1   \n",
       "4             17.52                225.00         1   \n",
       "\n",
       "                                      ID  \n",
       "0  2019-02-23 00:00:00 x Soil humidity 1  \n",
       "1  2019-02-23 00:05:00 x Soil humidity 1  \n",
       "2  2019-02-23 00:10:00 x Soil humidity 1  \n",
       "3  2019-02-23 00:15:00 x Soil humidity 1  \n",
       "4  2019-02-23 00:20:00 x Soil humidity 1  "
      ]
     },
     "execution_count": 40,
     "metadata": {},
     "output_type": "execute_result"
    }
   ],
   "source": [
    "train_1.head()"
   ]
  },
  {
   "cell_type": "code",
   "execution_count": 41,
   "metadata": {},
   "outputs": [],
   "source": [
    "test_1 = pd.merge(test_1,train_1, how =\"left\",on=\"ID\")\n",
    "test_2 = pd.merge(test_2,train_2, how =\"left\",on=\"ID\")\n",
    "test_3 = pd.merge(test_3,train_3, how =\"left\",on=\"ID\")\n",
    "test_4 = pd.merge(test_4,train_4, how =\"left\",on=\"ID\")"
   ]
  },
  {
   "cell_type": "code",
   "execution_count": 42,
   "metadata": {},
   "outputs": [
    {
     "data": {
      "text/html": [
       "<div>\n",
       "<style scoped>\n",
       "    .dataframe tbody tr th:only-of-type {\n",
       "        vertical-align: middle;\n",
       "    }\n",
       "\n",
       "    .dataframe tbody tr th {\n",
       "        vertical-align: top;\n",
       "    }\n",
       "\n",
       "    .dataframe thead th {\n",
       "        text-align: right;\n",
       "    }\n",
       "</style>\n",
       "<table border=\"1\" class=\"dataframe\">\n",
       "  <thead>\n",
       "    <tr style=\"text-align: right;\">\n",
       "      <th></th>\n",
       "      <th>ID</th>\n",
       "      <th>Values</th>\n",
       "      <th>timestamp</th>\n",
       "      <th>Soil humidity 4</th>\n",
       "      <th>Irrigation field 4</th>\n",
       "      <th>Air temperature (C)</th>\n",
       "      <th>Air humidity (%)</th>\n",
       "      <th>Pressure (KPa)</th>\n",
       "      <th>Wind speed (Km/h)</th>\n",
       "      <th>Wind gust (Km/h)</th>\n",
       "      <th>Wind direction (Deg)</th>\n",
       "      <th>num_soil</th>\n",
       "    </tr>\n",
       "  </thead>\n",
       "  <tbody>\n",
       "    <tr>\n",
       "      <th>0</th>\n",
       "      <td>2019-05-25 07:45:00 x Soil humidity 4</td>\n",
       "      <td>0</td>\n",
       "      <td>2019-05-25 07:45:00</td>\n",
       "      <td>NaN</td>\n",
       "      <td>1.0</td>\n",
       "      <td>NaN</td>\n",
       "      <td>NaN</td>\n",
       "      <td>NaN</td>\n",
       "      <td>NaN</td>\n",
       "      <td>NaN</td>\n",
       "      <td>NaN</td>\n",
       "      <td>4</td>\n",
       "    </tr>\n",
       "    <tr>\n",
       "      <th>1</th>\n",
       "      <td>2019-05-25 07:50:00 x Soil humidity 4</td>\n",
       "      <td>0</td>\n",
       "      <td>2019-05-25 07:50:00</td>\n",
       "      <td>NaN</td>\n",
       "      <td>1.0</td>\n",
       "      <td>NaN</td>\n",
       "      <td>NaN</td>\n",
       "      <td>NaN</td>\n",
       "      <td>NaN</td>\n",
       "      <td>NaN</td>\n",
       "      <td>NaN</td>\n",
       "      <td>4</td>\n",
       "    </tr>\n",
       "    <tr>\n",
       "      <th>2</th>\n",
       "      <td>2019-05-25 07:55:00 x Soil humidity 4</td>\n",
       "      <td>0</td>\n",
       "      <td>2019-05-25 07:55:00</td>\n",
       "      <td>NaN</td>\n",
       "      <td>1.0</td>\n",
       "      <td>NaN</td>\n",
       "      <td>NaN</td>\n",
       "      <td>NaN</td>\n",
       "      <td>NaN</td>\n",
       "      <td>NaN</td>\n",
       "      <td>NaN</td>\n",
       "      <td>4</td>\n",
       "    </tr>\n",
       "    <tr>\n",
       "      <th>3</th>\n",
       "      <td>2019-05-25 08:00:00 x Soil humidity 4</td>\n",
       "      <td>0</td>\n",
       "      <td>2019-05-25 08:00:00</td>\n",
       "      <td>NaN</td>\n",
       "      <td>1.0</td>\n",
       "      <td>NaN</td>\n",
       "      <td>NaN</td>\n",
       "      <td>NaN</td>\n",
       "      <td>NaN</td>\n",
       "      <td>NaN</td>\n",
       "      <td>NaN</td>\n",
       "      <td>4</td>\n",
       "    </tr>\n",
       "    <tr>\n",
       "      <th>4</th>\n",
       "      <td>2019-05-25 08:05:00 x Soil humidity 4</td>\n",
       "      <td>0</td>\n",
       "      <td>2019-05-25 08:05:00</td>\n",
       "      <td>NaN</td>\n",
       "      <td>1.0</td>\n",
       "      <td>NaN</td>\n",
       "      <td>NaN</td>\n",
       "      <td>NaN</td>\n",
       "      <td>NaN</td>\n",
       "      <td>NaN</td>\n",
       "      <td>NaN</td>\n",
       "      <td>4</td>\n",
       "    </tr>\n",
       "  </tbody>\n",
       "</table>\n",
       "</div>"
      ],
      "text/plain": [
       "                                      ID  Values           timestamp  \\\n",
       "0  2019-05-25 07:45:00 x Soil humidity 4       0 2019-05-25 07:45:00   \n",
       "1  2019-05-25 07:50:00 x Soil humidity 4       0 2019-05-25 07:50:00   \n",
       "2  2019-05-25 07:55:00 x Soil humidity 4       0 2019-05-25 07:55:00   \n",
       "3  2019-05-25 08:00:00 x Soil humidity 4       0 2019-05-25 08:00:00   \n",
       "4  2019-05-25 08:05:00 x Soil humidity 4       0 2019-05-25 08:05:00   \n",
       "\n",
       "   Soil humidity 4  Irrigation field 4  Air temperature (C)  Air humidity (%)  \\\n",
       "0              NaN                 1.0                  NaN               NaN   \n",
       "1              NaN                 1.0                  NaN               NaN   \n",
       "2              NaN                 1.0                  NaN               NaN   \n",
       "3              NaN                 1.0                  NaN               NaN   \n",
       "4              NaN                 1.0                  NaN               NaN   \n",
       "\n",
       "   Pressure (KPa)  Wind speed (Km/h)  Wind gust (Km/h)  Wind direction (Deg)  \\\n",
       "0             NaN                NaN               NaN                   NaN   \n",
       "1             NaN                NaN               NaN                   NaN   \n",
       "2             NaN                NaN               NaN                   NaN   \n",
       "3             NaN                NaN               NaN                   NaN   \n",
       "4             NaN                NaN               NaN                   NaN   \n",
       "\n",
       "   num_soil  \n",
       "0         4  \n",
       "1         4  \n",
       "2         4  \n",
       "3         4  \n",
       "4         4  "
      ]
     },
     "execution_count": 42,
     "metadata": {},
     "output_type": "execute_result"
    }
   ],
   "source": [
    "test_4.head()"
   ]
  },
  {
   "cell_type": "code",
   "execution_count": 43,
   "metadata": {},
   "outputs": [
    {
     "data": {
      "text/plain": [
       "ID                         0\n",
       "Values                     0\n",
       "timestamp                  0\n",
       "Soil humidity 3         1150\n",
       "Irrigation field 3         0\n",
       "Air temperature (C)     1153\n",
       "Air humidity (%)        1153\n",
       "Pressure (KPa)          1153\n",
       "Wind speed (Km/h)       1153\n",
       "Wind gust (Km/h)        1153\n",
       "Wind direction (Deg)    1153\n",
       "num_soil                   0\n",
       "dtype: int64"
      ]
     },
     "execution_count": 43,
     "metadata": {},
     "output_type": "execute_result"
    }
   ],
   "source": [
    "test_3.isnull().sum()"
   ]
  },
  {
   "cell_type": "code",
   "execution_count": 44,
   "metadata": {},
   "outputs": [
    {
     "data": {
      "text/plain": [
       "Min_Temp            22\n",
       "Max_Temp            22\n",
       "Humidity            22\n",
       "Wind_Speed          22\n",
       "Solar_Irradiance    22\n",
       "Sun                 22\n",
       "Kc                  10\n",
       "ETc                 22\n",
       "ETo                 23\n",
       "Rainfall            10\n",
       "Water_Need_1day     23\n",
       "Water_Need_2days    23\n",
       "Water_Need_3days    23\n",
       "merging              0\n",
       "dtype: int64"
      ]
     },
     "execution_count": 44,
     "metadata": {},
     "output_type": "execute_result"
    }
   ],
   "source": [
    "Maize.isnull().sum()"
   ]
  },
  {
   "cell_type": "code",
   "execution_count": 45,
   "metadata": {},
   "outputs": [
    {
     "name": "stderr",
     "output_type": "stream",
     "text": [
      "C:\\Users\\Aymen\\Anaconda3\\lib\\site-packages\\ipykernel_launcher.py:1: SettingWithCopyWarning: \n",
      "A value is trying to be set on a copy of a slice from a DataFrame.\n",
      "Try using .loc[row_indexer,col_indexer] = value instead\n",
      "\n",
      "See the caveats in the documentation: http://pandas.pydata.org/pandas-docs/stable/indexing.html#indexing-view-versus-copy\n",
      "  \"\"\"Entry point for launching an IPython kernel.\n",
      "C:\\Users\\Aymen\\Anaconda3\\lib\\site-packages\\ipykernel_launcher.py:2: SettingWithCopyWarning: \n",
      "A value is trying to be set on a copy of a slice from a DataFrame.\n",
      "Try using .loc[row_indexer,col_indexer] = value instead\n",
      "\n",
      "See the caveats in the documentation: http://pandas.pydata.org/pandas-docs/stable/indexing.html#indexing-view-versus-copy\n",
      "  \n",
      "C:\\Users\\Aymen\\Anaconda3\\lib\\site-packages\\ipykernel_launcher.py:3: SettingWithCopyWarning: \n",
      "A value is trying to be set on a copy of a slice from a DataFrame.\n",
      "Try using .loc[row_indexer,col_indexer] = value instead\n",
      "\n",
      "See the caveats in the documentation: http://pandas.pydata.org/pandas-docs/stable/indexing.html#indexing-view-versus-copy\n",
      "  This is separate from the ipykernel package so we can avoid doing imports until\n",
      "C:\\Users\\Aymen\\Anaconda3\\lib\\site-packages\\ipykernel_launcher.py:4: SettingWithCopyWarning: \n",
      "A value is trying to be set on a copy of a slice from a DataFrame.\n",
      "Try using .loc[row_indexer,col_indexer] = value instead\n",
      "\n",
      "See the caveats in the documentation: http://pandas.pydata.org/pandas-docs/stable/indexing.html#indexing-view-versus-copy\n",
      "  after removing the cwd from sys.path.\n"
     ]
    }
   ],
   "source": [
    "train_1[\"timestamp\"] = pd.to_datetime(train_1[\"timestamp\"], format=\"%Y-%m-%d %H:%M:%S\")\n",
    "train_2[\"timestamp\"] = pd.to_datetime(train_2[\"timestamp\"], format=\"%Y-%m-%d %H:%M:%S\")\n",
    "train_3[\"timestamp\"] = pd.to_datetime(train_3[\"timestamp\"], format=\"%Y-%m-%d %H:%M:%S\")\n",
    "train_4[\"timestamp\"] = pd.to_datetime(train_4[\"timestamp\"], format=\"%Y-%m-%d %H:%M:%S\")\n",
    "test_1[\"timestamp\"] = pd.to_datetime(test_1[\"timestamp\"], format=\"%Y-%m-%d %H:%M:%S\")\n",
    "test_2[\"timestamp\"] = pd.to_datetime(test_2[\"timestamp\"], format=\"%Y-%m-%d %H:%M:%S\")\n",
    "test_3[\"timestamp\"] = pd.to_datetime(test_3[\"timestamp\"], format=\"%Y-%m-%d %H:%M:%S\")\n",
    "test_4[\"timestamp\"] = pd.to_datetime(test_4[\"timestamp\"], format=\"%Y-%m-%d %H:%M:%S\")\n"
   ]
  },
  {
   "cell_type": "code",
   "execution_count": 46,
   "metadata": {},
   "outputs": [],
   "source": [
    "min_test_1 = test_1[\"timestamp\"].min()\n",
    "min_test_2 = test_2[\"timestamp\"].min() \n",
    "min_test_3 = test_3[\"timestamp\"].min() \n",
    "min_test_4 = test_4[\"timestamp\"].min() "
   ]
  },
  {
   "cell_type": "code",
   "execution_count": 47,
   "metadata": {},
   "outputs": [],
   "source": [
    "train_1 = train_1.loc[train_1[\"timestamp\"] < min_test_1]\n",
    "train_2 = train_2.loc[train_2[\"timestamp\"] < min_test_2]\n",
    "train_3 = train_3.loc[train_3[\"timestamp\"] < min_test_3]\n",
    "train_4 = train_4.loc[train_4[\"timestamp\"] < min_test_4]\n"
   ]
  },
  {
   "cell_type": "markdown",
   "metadata": {},
   "source": [
    "# Features engineering"
   ]
  },
  {
   "cell_type": "code",
   "execution_count": 48,
   "metadata": {},
   "outputs": [],
   "source": [
    "data = [train_1,train_2,train_3,train_4, test_1,test_2,test_3,test_4]\n",
    "for df in data:\n",
    "    df[\"month\"] = df[\"timestamp\"].dt.month\n",
    "    df[\"weekofyear\"] = df[\"timestamp\"].dt.weekofyear\n",
    "    df[\"day\"] = df[\"timestamp\"].dt.day\n",
    "    df[\"dayofweek\"] = df[\"timestamp\"].dt.dayofweek\n",
    "    df[\"quarter\"] = df[\"timestamp\"].dt.quarter\n",
    "    df[\"dayofyear\"] = df[\"timestamp\"].dt.dayofyear\n",
    "    df[\"is_weekend\"] = df[\"dayofweek\"].apply( lambda x : 1 if x  in [5,6] else 0 ) \n",
    "    df[\"hour\"] = df[\"timestamp\"].dt.hour\n",
    "    df[\"minute\"] = df[\"timestamp\"].dt.minute\n",
    "    df[\"minuteofday\"] = (df[\"hour\"]*60) +df[\"minute\"]\n",
    "    df[\"AM/PM\"] = df[\"hour\"].apply( lambda x : 0 if x<12 else 1 ) \n",
    "    df[\"hourofmonth\"] = (df[\"day\"]*24)+df[\"hour\"]\n",
    "    df[\"minuteofmonth\"] = (df[\"hourofmonth\"]*60)+df[\"minuteofday\"]\n",
    "    df[\"hourofyear\"] = (df[\"dayofyear\"]*24)+df[\"hour\"]\n",
    "    df[\"minuteofyear\"] = (df[\"hourofyear\"]*60)+df[\"minuteofday\"]\n",
    "    df['sin_hour'] =  np.sin(2*np.pi*df['hour']/24)\n",
    "    df['cos_hour'] =  np.cos(2*np.pi*df['hour']/24)\n",
    "    df['sin_minute'] =  np.sin(df['minute']*(2.*np.pi/60))\n",
    "    df['cos_minute'] =  np.sin(df['minute']*(2.*np.pi/60))\n",
    "    df[\"secondofyear\"] = df[\"minuteofyear\"] *60\n",
    "    df[\"secondofmonth\"] = df[\"minuteofmonth\"] *60 \n",
    "    df[\"secondofday\"] = df[\"minuteofday\"] *60\n",
    "\n"
   ]
  },
  {
   "cell_type": "code",
   "execution_count": 49,
   "metadata": {},
   "outputs": [
    {
     "name": "stderr",
     "output_type": "stream",
     "text": [
      "C:\\Users\\Aymen\\Anaconda3\\lib\\site-packages\\ipykernel_launcher.py:5: RuntimeWarning: divide by zero encountered in log\n",
      "  \"\"\"\n"
     ]
    }
   ],
   "source": [
    "data = [train_1,train_2,train_3,train_4, test_1,test_2,test_3,test_4]\n",
    "for df in data:\n",
    "    df[\"log_weekofyear\"] = np.log(df[\"weekofyear\"] )\n",
    "    df[\"log_dayofyear\"] = np.log(df[\"dayofyear\"])\n",
    "    df[\"log_minuteofday\"] = np.log(df[\"minuteofday\"] )\n",
    "    df[\"log_hourofmonth\"] = np.log(df[\"hourofmonth\"] )\n",
    "    df[\"log_minuteofmonth\"] = np.log(df[\"minuteofmonth\"])\n",
    "    df[\"log_hourofyear\"] = np.log(df[\"hourofyear\"])\n",
    "    df[\"log_minuteofyear\"] = np.log(df[\"minuteofyear\"] )\n",
    "\n",
    "\n",
    "\n"
   ]
  },
  {
   "cell_type": "code",
   "execution_count": 50,
   "metadata": {},
   "outputs": [],
   "source": [
    "data = [train_1,train_2,train_3,train_4, test_1,test_2,test_3,test_4]\n",
    "for df in data:\n",
    "    df[\"merging\"] = df[\"day\"].astype(str)+\"-\"+ df[\"month\"].astype(str)"
   ]
  },
  {
   "cell_type": "markdown",
   "metadata": {},
   "source": [
    "### Merge data"
   ]
  },
  {
   "cell_type": "code",
   "execution_count": 51,
   "metadata": {},
   "outputs": [],
   "source": [
    "train_1 = pd.merge(train_1,Maize, how =\"left\",on=\"merging\")\n",
    "train_2 = pd.merge(train_2,Maize, how =\"left\",on=\"merging\")\n",
    "train_3 = pd.merge(train_3,Maize, how =\"left\",on=\"merging\")\n",
    "train_4 = pd.merge(train_4,Maize, how =\"left\",on=\"merging\")\n"
   ]
  },
  {
   "cell_type": "code",
   "execution_count": null,
   "metadata": {},
   "outputs": [],
   "source": []
  },
  {
   "cell_type": "code",
   "execution_count": 52,
   "metadata": {},
   "outputs": [],
   "source": [
    "test_1 = pd.merge(test_1,Maize, how =\"left\",on=\"merging\")\n",
    "test_2 = pd.merge(test_2,Maize, how =\"left\",on=\"merging\")\n",
    "test_3 = pd.merge(test_3,Maize, how =\"left\",on=\"merging\")\n",
    "test_4 = pd.merge(test_4,Maize, how =\"left\",on=\"merging\")"
   ]
  },
  {
   "cell_type": "code",
   "execution_count": 53,
   "metadata": {},
   "outputs": [
    {
     "data": {
      "text/plain": [
       "ID                         0\n",
       "Values                     0\n",
       "timestamp                  0\n",
       "Soil humidity 1         1150\n",
       "Irrigation field 1         1\n",
       "Air temperature (C)     1153\n",
       "Air humidity (%)        1153\n",
       "Pressure (KPa)          1153\n",
       "Wind speed (Km/h)       1153\n",
       "Wind gust (Km/h)        1153\n",
       "Wind direction (Deg)    1153\n",
       "num_soil                   0\n",
       "month                      0\n",
       "weekofyear                 0\n",
       "day                        0\n",
       "dayofweek                  0\n",
       "quarter                    0\n",
       "dayofyear                  0\n",
       "is_weekend                 0\n",
       "hour                       0\n",
       "minute                     0\n",
       "minuteofday                0\n",
       "AM/PM                      0\n",
       "hourofmonth                0\n",
       "minuteofmonth              0\n",
       "hourofyear                 0\n",
       "minuteofyear               0\n",
       "sin_hour                   0\n",
       "cos_hour                   0\n",
       "sin_minute                 0\n",
       "cos_minute                 0\n",
       "secondofyear               0\n",
       "secondofmonth              0\n",
       "secondofday                0\n",
       "log_weekofyear             0\n",
       "log_dayofyear              0\n",
       "log_minuteofday            0\n",
       "log_hourofmonth            0\n",
       "log_minuteofmonth          0\n",
       "log_hourofyear             0\n",
       "log_minuteofyear           0\n",
       "merging                    0\n",
       "Min_Temp                1153\n",
       "Max_Temp                1153\n",
       "Humidity                1153\n",
       "Wind_Speed              1153\n",
       "Solar_Irradiance        1153\n",
       "Sun                     1153\n",
       "Kc                      1153\n",
       "ETc                     1153\n",
       "ETo                     1153\n",
       "Rainfall                1153\n",
       "Water_Need_1day         1153\n",
       "Water_Need_2days        1153\n",
       "Water_Need_3days        1153\n",
       "dtype: int64"
      ]
     },
     "execution_count": 53,
     "metadata": {},
     "output_type": "execute_result"
    }
   ],
   "source": [
    "test_1.isnull().sum()"
   ]
  },
  {
   "cell_type": "code",
   "execution_count": 54,
   "metadata": {},
   "outputs": [
    {
     "data": {
      "text/plain": [
       "Index(['ID', 'Values', 'timestamp', 'Soil humidity 1', 'Irrigation field 1',\n",
       "       'Air temperature (C)', 'Air humidity (%)', 'Pressure (KPa)',\n",
       "       'Wind speed (Km/h)', 'Wind gust (Km/h)', 'Wind direction (Deg)',\n",
       "       'num_soil', 'month', 'weekofyear', 'day', 'dayofweek', 'quarter',\n",
       "       'dayofyear', 'is_weekend', 'hour', 'minute', 'minuteofday', 'AM/PM',\n",
       "       'hourofmonth', 'minuteofmonth', 'hourofyear', 'minuteofyear',\n",
       "       'sin_hour', 'cos_hour', 'sin_minute', 'cos_minute', 'secondofyear',\n",
       "       'secondofmonth', 'secondofday', 'log_weekofyear', 'log_dayofyear',\n",
       "       'log_minuteofday', 'log_hourofmonth', 'log_minuteofmonth',\n",
       "       'log_hourofyear', 'log_minuteofyear', 'merging', 'Min_Temp', 'Max_Temp',\n",
       "       'Humidity', 'Wind_Speed', 'Solar_Irradiance', 'Sun', 'Kc', 'ETc', 'ETo',\n",
       "       'Rainfall', 'Water_Need_1day', 'Water_Need_2days', 'Water_Need_3days'],\n",
       "      dtype='object')"
      ]
     },
     "execution_count": 54,
     "metadata": {},
     "output_type": "execute_result"
    }
   ],
   "source": [
    "test_1.columns"
   ]
  },
  {
   "cell_type": "code",
   "execution_count": 55,
   "metadata": {},
   "outputs": [],
   "source": [
    "train_1 = pd.merge(train_1,Peanuts, how =\"left\",on=\"merging\")\n",
    "train_2 = pd.merge(train_2,Peanuts, how =\"left\",on=\"merging\")\n",
    "train_3 = pd.merge(train_3,Peanuts, how =\"left\",on=\"merging\")\n",
    "train_4 = pd.merge(train_4,Peanuts, how =\"left\",on=\"merging\")\n",
    "test_1 = pd.merge(test_1,Peanuts, how =\"left\",on=\"merging\")\n",
    "test_2 = pd.merge(test_2,Peanuts, how =\"left\",on=\"merging\")\n",
    "test_3 = pd.merge(test_3,Peanuts, how =\"left\",on=\"merging\")\n",
    "test_4 = pd.merge(test_4,Peanuts, how =\"left\",on=\"merging\")\n",
    "\n"
   ]
  },
  {
   "cell_type": "code",
   "execution_count": 56,
   "metadata": {},
   "outputs": [
    {
     "data": {
      "image/png": "[encoded data removed]",
      "text/plain": [
       "<Figure size 1600x500 with 1 Axes>"
      ]
     },
     "metadata": {
      "needs_background": "light"
     },
     "output_type": "display_data"
    }
   ],
   "source": [
    "def plot_df(df, x, y, title=\"\", xlabel='Date', ylabel='Value', dpi=100):\n",
    "    plt.figure(figsize=(16,5), dpi=dpi)\n",
    "    plt.plot(x, y, color='tab:red')\n",
    "    plt.gca().set(title=title, xlabel=xlabel, ylabel=ylabel)\n",
    "    plt.show()\n",
    "\n",
    "plot_df(train_1, x=train_1.day, y=train_1['Soil humidity 1'], title='')   "
   ]
  },
  {
   "cell_type": "markdown",
   "metadata": {},
   "source": [
    "# Modeling"
   ]
  },
  {
   "cell_type": "code",
   "execution_count": 61,
   "metadata": {},
   "outputs": [],
   "source": [
    "import xgboost as xgb\n",
    "\n",
    "params = {'min_child_weight': 50, 'colsample_bytree': 0.8, 'max_depth': 7,\n",
    "          'eta': 0.004,'n_estimators':600,'learning_rate' :0.1101,  'booster' : 'gbtree', 'silent': 1,'metric':'rmse',\n",
    "               'objective': 'reg:linear','colsample_bytree': 0.3,\"alpha\":0.1, 'lambda': 7 ,} \n"
   ]
  },
  {
   "cell_type": "code",
   "execution_count": 163,
   "metadata": {},
   "outputs": [],
   "source": [
    "train_columns = ['month','weekofyear', 'day', 'dayofweek', 'dayofyear',\n",
    "       #'is_weekend',\n",
    "                 'hour', \n",
    "                 #'minute', \n",
    "                 'minuteofday',\n",
    "                 #'AM/PM',\n",
    "                 \"hourofmonth\",\"minuteofmonth\",\"hourofyear\",\"minuteofyear\",\n",
    "                 #\"timestamp\",\n",
    "                'sin_hour','cos_hour',\n",
    "                 #'sin_minute','cos_minute',\n",
    "               # \"log_weekofyear\",\"log_dayofyear\",\"log_minuteofday\",\"log_hourofmonth\",\"log_minuteofmonth\",\n",
    "                #\"log_hourofyear\",\"log_minuteofyear\",\n",
    "                 #\"secondofyear\",\"secondofmonth\",\"secondofday\",\n",
    "                'Irrigation field 1',\n",
    "                # 'quarter',\n",
    "                ]\n",
    "target = 'Soil humidity 1'\n",
    "X_1 = train_1[train_columns]\n",
    "Y_1 = train_1[target]\n",
    "x_test_1 = test_1[train_columns]\n",
    "features_name =x_test_1.columns\n",
    "\n",
    "\n",
    "train_columns = ['month', 'weekofyear', 'day', 'dayofweek',  'dayofyear',\n",
    "       #'is_weekend',\n",
    "                 'hour', \n",
    "                 #'minute', \n",
    "                 'minuteofday',\n",
    "                 #'AM/PM',\n",
    "                 \"hourofmonth\",\"minuteofmonth\",\"hourofyear\",\"minuteofyear\",\n",
    "                 #\"timestamp\",\n",
    "                'sin_hour','cos_hour',\n",
    "                 #'sin_minute','cos_minute',\n",
    "               # \"log_weekofyear\",\"log_dayofyear\",\"log_minuteofday\",\"log_hourofmonth\",\"log_minuteofmonth\",\n",
    "                #\"log_hourofyear\",\"log_minuteofyear\",\n",
    "                 # \"secondofyear\",\"secondofmonth\",\"secondofday\",\n",
    "               'Irrigation field 2',\n",
    "                  #  'quarter',\n",
    "                ]\n",
    "target = 'Soil humidity 2'\n",
    "X_2 = train_2[train_columns]\n",
    "Y_2 = train_2[target]\n",
    "x_test_2 = test_2[train_columns]\n",
    "features_name =x_test_2.columns\n",
    "\n",
    "train_columns = ['month', 'weekofyear', 'day', 'dayofweek',  'dayofyear',\n",
    "      #'is_weekend',\n",
    "                 'hour', \n",
    "                 #'minute', \n",
    "                 'minuteofday',\n",
    "                 #'AM/PM',\n",
    "                 \"hourofmonth\",\"minuteofmonth\",\"hourofyear\",\"minuteofyear\",\n",
    "                 #\"timestamp\",\n",
    "                'sin_hour','cos_hour',\n",
    "                 #'sin_minute','cos_minute',\n",
    "               # \"log_weekofyear\",\"log_dayofyear\",\"log_minuteofday\",\"log_hourofmonth\",\"log_minuteofmonth\",\n",
    "                #\"log_hourofyear\",\"log_minuteofyear\",\n",
    "               #  \"secondofyear\",\"secondofmonth\",\"secondofday\",\n",
    "               'Irrigation field 3',\n",
    "               #     'quarter',\n",
    "                ]\n",
    "\n",
    "target = 'Soil humidity 3'\n",
    "X_3 = train_3[train_columns]\n",
    "Y_3 = train_3[target]\n",
    "x_test_3 = test_3[train_columns]\n",
    "features_name =x_test_3.columns\n",
    "\n",
    "\n",
    "train_columns = ['month', 'weekofyear', 'day', 'dayofweek',  'dayofyear',\n",
    "       #'is_weekend',\n",
    "                 'hour', \n",
    "                 #'minute', \n",
    "                 'minuteofday',\n",
    "                 #'AM/PM',\n",
    "                 \"hourofmonth\",\"minuteofmonth\",\"hourofyear\",\"minuteofyear\",\n",
    "                 #\"timestamp\",\n",
    "                'sin_hour','cos_hour',\n",
    "                 #'sin_minute','cos_minute',\n",
    "               # \"log_weekofyear\",\"log_dayofyear\",\"log_minuteofday\",\"log_hourofmonth\",\"log_minuteofmonth\",\n",
    "                #\"log_hourofyear\",\"log_minuteofyear\",\n",
    "                # \"secondofyear\",\"secondofmonth\",\"secondofday\",\n",
    "                'Irrigation field 4',\n",
    "                 #   'quarter',\n",
    "                ] \n",
    "\n",
    "target = 'Soil humidity 4'\n",
    "X_4 = train_4[train_columns]\n",
    "Y_4 = train_4[target]\n",
    "x_test_4 = test_4[train_columns]\n",
    "features_name =x_test_4.columns\n"
   ]
  },
  {
   "cell_type": "code",
   "execution_count": null,
   "metadata": {},
   "outputs": [],
   "source": []
  },
  {
   "cell_type": "code",
   "execution_count": null,
   "metadata": {},
   "outputs": [],
   "source": []
  },
  {
   "cell_type": "markdown",
   "metadata": {},
   "source": [
    "## Normal catboost"
   ]
  },
  {
   "cell_type": "code",
   "execution_count": 164,
   "metadata": {},
   "outputs": [],
   "source": [
    "from sklearn.model_selection import train_test_split\n",
    "x_train_1, x_val_1, y_train_1, y_val_1  = train_test_split(X_1, Y_1 ,test_size=0.20 ,random_state=17 )\n",
    "from sklearn.model_selection import train_test_split\n",
    "x_train_2, x_val_2, y_train_2, y_val_2  = train_test_split(X_2, Y_2 ,test_size=0.20 ,random_state=17 )\n",
    "from sklearn.model_selection import train_test_split\n",
    "x_train_3, x_val_3, y_train_3, y_val_3  = train_test_split(X_3, Y_3 ,test_size=0.20 ,random_state=17 )\n",
    "from sklearn.model_selection import train_test_split\n",
    "x_train_4, x_val_4, y_train_4, y_val_4  = train_test_split(X_4, Y_4 ,test_size=0.20 ,random_state=17 )\n"
   ]
  },
  {
   "cell_type": "code",
   "execution_count": 139,
   "metadata": {
    "scrolled": true
   },
   "outputs": [
    {
     "name": "stdout",
     "output_type": "stream",
     "text": [
      "0.5590839954583936\n",
      "1.952660189469118\n",
      "1.4279962436027658\n",
      "1.600335061547657\n"
     ]
    }
   ],
   "source": [
    "from math import sqrt\n",
    "\n",
    "from catboost import CatBoostRegressor\n",
    "model = CatBoostRegressor( iterations=1000, depth=7, l2_leaf_reg = 10,   learning_rate= 0.11, loss_function='RMSE')\n",
    "#,\n",
    "model.fit(x_train_1,y_train_1,verbose=False)\n",
    "#model.fit(X_1,Y_1,verbose=False)\n",
    "\n",
    "y_eval_1 =  model.predict(x_val_1)\n",
    "print(sqrt(mean_squared_error(y_eval_1, y_val_1)))\n",
    "y_test_pred_1 = model.predict(x_test_1)\n",
    "\n",
    "#model = CatBoostRegressor( iterations=1000, depth=7, l2_leaf_reg = 10,   learning_rate= 0.11, loss_function='RMSE')\n",
    "\n",
    "model.fit(x_train_2,y_train_2,verbose=False)\n",
    "#model.fit(X_2,Y_2,verbose=False)\n",
    "\n",
    "y_eval_2 =  model.predict(x_val_2)\n",
    "print(sqrt(mean_squared_error(y_eval_2, y_val_2)))\n",
    "y_test_pred_2 = model.predict(x_test_2)\n",
    "\n",
    "#model = CatBoostRegressor( iterations=1000, depth=7, l2_leaf_reg = 10,   learning_rate= 0.11, loss_function='RMSE')\n",
    "\n",
    "model.fit(x_train_3,y_train_3,verbose=False)\n",
    "#model.fit(X_3,Y_3,verbose=False)\n",
    "\n",
    "y_eval_3 =  model.predict(x_val_3)\n",
    "print(sqrt(mean_squared_error(y_eval_3, y_val_3)))\n",
    "y_test_pred_3 = model.predict(x_test_3)\n",
    "\n",
    "#model = CatBoostRegressor( iterations=1000, depth=7, l2_leaf_reg = 10,   learning_rate= 0.11, loss_function='RMSE')\n",
    "\n",
    "model.fit(x_train_4,y_train_4,verbose=False)\n",
    "#model.fit(X_4,Y_4,verbose=False)\n",
    "\n",
    "y_eval_4 =  model.predict(x_val_4)\n",
    "print(sqrt(mean_squared_error(y_eval_4, y_val_4)))\n",
    "y_test_pred_4 = model.predict(x_test_4)\n",
    "\n",
    "\n",
    "\n"
   ]
  },
  {
   "cell_type": "markdown",
   "metadata": {},
   "source": [
    "\n",
    "###one model :  iterations=1000, depth=7, l2_leaf_reg = 10,   learning_rate= 0.11, loss_function='RMSE'\n",
    "0.5142004257227136\n",
    "1.9847718229711366\n",
    "1.3067439367496607\n",
    "1.467833726404112\n",
    "#####learning_rate 0.11\n",
    "0.49075281468752624\n",
    "1.8846762076379515\n",
    "1.3395282002630178\n",
    "1.5521548415802422\n",
    "\n",
    "####learning_rate:0.09\n",
    "0.4676784175332452\n",
    "2.013663813981217\n",
    "1.3568990000601906\n",
    "1.5489789739427253\n",
    "\n",
    "\n",
    "####learning_rate:0.15\n",
    "0.48023917969487684\n",
    "1.8809029188259225\n",
    "1.2458045757091492\n",
    "1.4684770255335022\n",
    "\n",
    "####learning_rate:0.1\n",
    "0.5082207784062955\n",
    "1.9404210155067825\n",
    "1.3915134875649133\n",
    "1.5123170194631852\n",
    "\n",
    "####learning_rate:0.06\n",
    "0.653917096668005\n",
    "2.1566843557236837\n",
    "1.5106778835413877\n",
    "1.698893806943793"
   ]
  },
  {
   "cell_type": "code",
   "execution_count": 165,
   "metadata": {},
   "outputs": [
    {
     "name": "stderr",
     "output_type": "stream",
     "text": [
      "C:\\Users\\Aymen\\Anaconda3\\lib\\site-packages\\xgboost\\core.py:587: FutureWarning: Series.base is deprecated and will be removed in a future version\n",
      "  if getattr(data, 'base', None) is not None and \\\n"
     ]
    },
    {
     "name": "stdout",
     "output_type": "stream",
     "text": [
      "0.19424636349550606\n"
     ]
    },
    {
     "name": "stderr",
     "output_type": "stream",
     "text": [
      "C:\\Users\\Aymen\\Anaconda3\\lib\\site-packages\\xgboost\\core.py:587: FutureWarning: Series.base is deprecated and will be removed in a future version\n",
      "  if getattr(data, 'base', None) is not None and \\\n"
     ]
    },
    {
     "name": "stdout",
     "output_type": "stream",
     "text": [
      "0.7153625171777622\n"
     ]
    },
    {
     "name": "stderr",
     "output_type": "stream",
     "text": [
      "C:\\Users\\Aymen\\Anaconda3\\lib\\site-packages\\xgboost\\core.py:587: FutureWarning: Series.base is deprecated and will be removed in a future version\n",
      "  if getattr(data, 'base', None) is not None and \\\n"
     ]
    },
    {
     "name": "stdout",
     "output_type": "stream",
     "text": [
      "0.4958846410236255\n"
     ]
    },
    {
     "name": "stderr",
     "output_type": "stream",
     "text": [
      "C:\\Users\\Aymen\\Anaconda3\\lib\\site-packages\\xgboost\\core.py:587: FutureWarning: Series.base is deprecated and will be removed in a future version\n",
      "  if getattr(data, 'base', None) is not None and \\\n"
     ]
    },
    {
     "name": "stdout",
     "output_type": "stream",
     "text": [
      "0.7054560430391007\n"
     ]
    }
   ],
   "source": [
    "import xgboost as xgb\n",
    "from xgboost import  XGBRegressor,cv\n",
    "from sklearn.model_selection import KFold\n",
    "from sklearn.model_selection import cross_val_score\n",
    "from math import sqrt\n",
    "model = XGBRegressor(n_estimators=2000,learning_rate =0.110101, metric = 'rmse')\n",
    "                      \n",
    "\n",
    "#,\n",
    "model.fit(x_train_1,y_train_1)\n",
    "#model.fit(X_1,Y_1,verbose=False)\n",
    "\n",
    "y_eval_1 =  model.predict(x_val_1)\n",
    "print(sqrt(mean_squared_error(y_eval_1, y_val_1)))\n",
    "y_test_pred_1 = model.predict(x_test_1)\n",
    "\n",
    "#model = CatBoostRegressor( iterations=1000, depth=7, l2_leaf_reg = 10,   learning_rate= 0.11, loss_function='RMSE')\n",
    "\n",
    "model.fit(x_train_2,y_train_2)\n",
    "#model.fit(X_2,Y_2,verbose=False)\n",
    "\n",
    "y_eval_2 =  model.predict(x_val_2)\n",
    "print(sqrt(mean_squared_error(y_eval_2, y_val_2)))\n",
    "y_test_pred_2 = model.predict(x_test_2)\n",
    "\n",
    "#model = CatBoostRegressor( iterations=1000, depth=7, l2_leaf_reg = 10,   learning_rate= 0.11, loss_function='RMSE')\n",
    "\n",
    "model.fit(x_train_3,y_train_3)\n",
    "#model.fit(X_3,Y_3,verbose=False)\n",
    "\n",
    "y_eval_3 =  model.predict(x_val_3)\n",
    "print(sqrt(mean_squared_error(y_eval_3, y_val_3)))\n",
    "y_test_pred_3 = model.predict(x_test_3)\n",
    "\n",
    "#model = CatBoostRegressor( iterations=1000, depth=7, l2_leaf_reg = 10,   learning_rate= 0.11, loss_function='RMSE')\n",
    "\n",
    "model.fit(x_train_4,y_train_4)\n",
    "#model.fit(X_4,Y_4,verbose=False)\n",
    "\n",
    "y_eval_4 =  model.predict(x_val_4)\n",
    "print(sqrt(mean_squared_error(y_eval_4, y_val_4)))\n",
    "y_test_pred_4 = model.predict(x_test_4)\n",
    "\n",
    "\n",
    "\n",
    "\n",
    "\n",
    "\n",
    "\n"
   ]
  },
  {
   "cell_type": "markdown",
   "metadata": {},
   "source": [
    "n_estimators=2000,learning_rate =0.110101, metric = 'rmse'\n",
    "0.1920200994771954/0.7075888048492553/0.4374466243515053/0.6725060139563208\n",
    "######n_estimators=2000,learning_rate =0.1, metric = 'rmse'\n",
    "0.18612878778487515/0.7415231149435639/0.49011647364366573/0.7311602948593602\n"
   ]
  },
  {
   "cell_type": "markdown",
   "metadata": {},
   "source": [
    "#n_estimators=1000,learning_rate =0.110101, metric = 'rmse'\n",
    "0.22656345500813255 /1.34665854362142 / 0.7351652942682646 / 1.7116316812352186\n",
    "#n_estimators=1500,learning_rate =0.110101, metric = 'rmse'\n",
    "0.14800901230214716 /0.6508365815025623 /0.44049245973628853/ 0.7718995926206698\n",
    "###############n_estimators=2000,learning_rate =0.110101, metric = 'rmse'\n",
    "0.12977144085180803/0.5746813242699513/0.3912930798555285/ 0.648105814407947\n",
    "#n_estimators=3000,learning_rate =0.110101, metric = 'rmse'\n",
    "0.11750584504433978/0.4828577404458118/0.345684348376633/0.5295804693687348\n",
    "#n_estimators=2000,learning_rate =0.15, metric = 'rmse'\n",
    "0.12426620054954131/0.5403772159317559/0.34542942855095/0.5828601290056785"
   ]
  },
  {
   "cell_type": "code",
   "execution_count": 166,
   "metadata": {},
   "outputs": [
    {
     "data": {
      "text/plain": [
       "<matplotlib.axes._subplots.AxesSubplot at 0x228848a4940>"
      ]
     },
     "execution_count": 166,
     "metadata": {},
     "output_type": "execute_result"
    },
    {
     "data": {
      "image/png": "[encoded data removed]",
      "text/plain": [
       "<Figure size 432x288 with 1 Axes>"
      ]
     },
     "metadata": {
      "needs_background": "light"
     },
     "output_type": "display_data"
    }
   ],
   "source": [
    "importances = pd.DataFrame({'feature':x_train_1.columns,'importance':np.round(model.feature_importances_,3)})\n",
    "importances = importances.sort_values('importance',ascending=False).set_index('feature')\n",
    "importances\n",
    "importances.plot.bar()"
   ]
  },
  {
   "cell_type": "markdown",
   "metadata": {},
   "source": []
  },
  {
   "cell_type": "code",
   "execution_count": null,
   "metadata": {},
   "outputs": [],
   "source": []
  },
  {
   "cell_type": "code",
   "execution_count": 167,
   "metadata": {},
   "outputs": [],
   "source": [
    "y_pred_cb = np.concatenate((y_test_pred_1, y_test_pred_2), axis=0)\n",
    "y_pred_cb = np.concatenate((y_pred_cb, y_test_pred_3), axis=0)\n",
    "y_pred_cb = np.concatenate((y_pred_cb, y_test_pred_4), axis=0)\n"
   ]
  },
  {
   "cell_type": "code",
   "execution_count": 168,
   "metadata": {},
   "outputs": [],
   "source": [
    "#submission= pd.DataFrame({'ID':sub[\"ID\"],'Values':y_pred})\n",
    "#submission= pd.DataFrame({'ID':sub[\"ID\"],'Values':y_pred_xgb})\n",
    "submission= pd.DataFrame({'ID':sub[\"ID\"],'Values':y_pred_cb})\n",
    "\n",
    "submission.to_csv(\"submission.csv\",index=False)"
   ]
  },
  {
   "cell_type": "code",
   "execution_count": 169,
   "metadata": {},
   "outputs": [
    {
     "data": {
      "text/html": [
       "<div>\n",
       "<style scoped>\n",
       "    .dataframe tbody tr th:only-of-type {\n",
       "        vertical-align: middle;\n",
       "    }\n",
       "\n",
       "    .dataframe tbody tr th {\n",
       "        vertical-align: top;\n",
       "    }\n",
       "\n",
       "    .dataframe thead th {\n",
       "        text-align: right;\n",
       "    }\n",
       "</style>\n",
       "<table border=\"1\" class=\"dataframe\">\n",
       "  <thead>\n",
       "    <tr style=\"text-align: right;\">\n",
       "      <th></th>\n",
       "      <th>ID</th>\n",
       "      <th>Values</th>\n",
       "    </tr>\n",
       "  </thead>\n",
       "  <tbody>\n",
       "    <tr>\n",
       "      <th>0</th>\n",
       "      <td>2019-03-25 22:50:00 x Soil humidity 1</td>\n",
       "      <td>39.680496</td>\n",
       "    </tr>\n",
       "    <tr>\n",
       "      <th>1</th>\n",
       "      <td>2019-03-25 22:55:00 x Soil humidity 1</td>\n",
       "      <td>39.686417</td>\n",
       "    </tr>\n",
       "    <tr>\n",
       "      <th>2</th>\n",
       "      <td>2019-03-25 23:00:00 x Soil humidity 1</td>\n",
       "      <td>39.731560</td>\n",
       "    </tr>\n",
       "    <tr>\n",
       "      <th>3</th>\n",
       "      <td>2019-03-25 23:05:00 x Soil humidity 1</td>\n",
       "      <td>39.731560</td>\n",
       "    </tr>\n",
       "    <tr>\n",
       "      <th>4</th>\n",
       "      <td>2019-03-25 23:10:00 x Soil humidity 1</td>\n",
       "      <td>39.731560</td>\n",
       "    </tr>\n",
       "  </tbody>\n",
       "</table>\n",
       "</div>"
      ],
      "text/plain": [
       "                                      ID     Values\n",
       "0  2019-03-25 22:50:00 x Soil humidity 1  39.680496\n",
       "1  2019-03-25 22:55:00 x Soil humidity 1  39.686417\n",
       "2  2019-03-25 23:00:00 x Soil humidity 1  39.731560\n",
       "3  2019-03-25 23:05:00 x Soil humidity 1  39.731560\n",
       "4  2019-03-25 23:10:00 x Soil humidity 1  39.731560"
      ]
     },
     "execution_count": 169,
     "metadata": {},
     "output_type": "execute_result"
    }
   ],
   "source": [
    "submission=pd.read_csv(\"submission.csv\")\n",
    "submission.head()"
   ]
  },
  {
   "cell_type": "code",
   "execution_count": null,
   "metadata": {},
   "outputs": [],
   "source": []
  }
 ],
 "metadata": {
  "kernelspec": {
   "display_name": "Python 3",
   "language": "python",
   "name": "python3"
  },
  "language_info": {
   "codemirror_mode": {
    "name": "ipython",
    "version": 3
   },
   "file_extension": ".py",
   "mimetype": "text/x-python",
   "name": "python",
   "nbconvert_exporter": "python",
   "pygments_lexer": "ipython3",
   "version": "3.7.1"
  }
 },
 "nbformat": 4,
 "nbformat_minor": 2
}
