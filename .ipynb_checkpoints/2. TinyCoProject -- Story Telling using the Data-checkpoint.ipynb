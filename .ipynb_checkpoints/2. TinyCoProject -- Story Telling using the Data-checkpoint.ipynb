{
 "cells": [
  {
   "cell_type": "markdown",
   "metadata": {},
   "source": [
    "## Part 2: Exploratory Data Analysis"
   ]
  },
  {
   "cell_type": "markdown",
   "metadata": {},
   "source": [
    "Let's continue with Store_312 for now.\n",
    "\n",
    "We'll use this part of the project to answer our secondary objetives:\n",
    " 1. Which month has the highest average sales in dollars for each store?\n",
    " 2. Which SKU is the most popular in each store?\n",
    " 3. Are the sales (in units) between the different SKUs from China Imports correlated for each store?\n",
    " 4. TinyCo is thinking of running a one day promo on each week – which day of the week makes the most sense for each store?\n",
    " 5. How do Unit Sales change over time?\n",
    " 6. Are the sales across all stores correlated?"
   ]
  },
  {
   "cell_type": "markdown",
   "metadata": {},
   "source": [
    "Let us answer all these questions, one at a time."
   ]
  },
  {
   "cell_type": "markdown",
   "metadata": {},
   "source": [
    "First, we import the necessary modules and our data."
   ]
  },
  {
   "cell_type": "code",
   "execution_count": 1,
   "metadata": {},
   "outputs": [],
   "source": [
    "import pandas as pd\n",
    "import numpy as np\n",
    "import datetime as dt\n",
    "import time\n",
    "import matplotlib.pyplot as plt\n",
    "import matplotlib.dates as mdates\n",
    "import matplotlib.ticker as ticker\n",
    "import seaborn as sns\n",
    "\n",
    "%matplotlib inline"
   ]
  },
  {
   "cell_type": "code",
   "execution_count": 2,
   "metadata": {},
   "outputs": [],
   "source": [
    "SKU_Master = pd.read_csv(\"/Users/mac/Desktop/Data Science/Projects/TinyCo Project/SKU_Master_clean.csv\", index_col=0)\n",
    "Store_312 = pd.read_csv(\"/Users/mac/Desktop/Data Science/Projects/TinyCo Project/Store_312_clean.csv\", index_col=0)"
   ]
  },
  {
   "cell_type": "markdown",
   "metadata": {},
   "source": [
    "Let's inspect our datasets to make sure everything went well."
   ]
  },
  {
   "cell_type": "code",
   "execution_count": 3,
   "metadata": {},
   "outputs": [
    {
     "data": {
      "text/html": [
       "<div>\n",
       "<style scoped>\n",
       "    .dataframe tbody tr th:only-of-type {\n",
       "        vertical-align: middle;\n",
       "    }\n",
       "\n",
       "    .dataframe tbody tr th {\n",
       "        vertical-align: top;\n",
       "    }\n",
       "\n",
       "    .dataframe thead th {\n",
       "        text-align: right;\n",
       "    }\n",
       "</style>\n",
       "<table border=\"1\" class=\"dataframe\">\n",
       "  <thead>\n",
       "    <tr style=\"text-align: right;\">\n",
       "      <th></th>\n",
       "      <th>SKU</th>\n",
       "      <th>Date</th>\n",
       "      <th>Unit Sales</th>\n",
       "      <th>Dollar Sales</th>\n",
       "    </tr>\n",
       "  </thead>\n",
       "  <tbody>\n",
       "    <tr>\n",
       "      <th>0</th>\n",
       "      <td>50012011250</td>\n",
       "      <td>2014-08-04</td>\n",
       "      <td>3</td>\n",
       "      <td>29.97</td>\n",
       "    </tr>\n",
       "    <tr>\n",
       "      <th>1</th>\n",
       "      <td>50012011250</td>\n",
       "      <td>2014-08-05</td>\n",
       "      <td>2</td>\n",
       "      <td>19.98</td>\n",
       "    </tr>\n",
       "    <tr>\n",
       "      <th>2</th>\n",
       "      <td>50012011250</td>\n",
       "      <td>2014-08-06</td>\n",
       "      <td>5</td>\n",
       "      <td>49.95</td>\n",
       "    </tr>\n",
       "    <tr>\n",
       "      <th>3</th>\n",
       "      <td>50012011250</td>\n",
       "      <td>2014-08-07</td>\n",
       "      <td>3</td>\n",
       "      <td>29.97</td>\n",
       "    </tr>\n",
       "    <tr>\n",
       "      <th>4</th>\n",
       "      <td>50012011250</td>\n",
       "      <td>2014-08-08</td>\n",
       "      <td>7</td>\n",
       "      <td>69.93</td>\n",
       "    </tr>\n",
       "  </tbody>\n",
       "</table>\n",
       "</div>"
      ],
      "text/plain": [
       "           SKU        Date  Unit Sales  Dollar Sales\n",
       "0  50012011250  2014-08-04           3         29.97\n",
       "1  50012011250  2014-08-05           2         19.98\n",
       "2  50012011250  2014-08-06           5         49.95\n",
       "3  50012011250  2014-08-07           3         29.97\n",
       "4  50012011250  2014-08-08           7         69.93"
      ]
     },
     "execution_count": 3,
     "metadata": {},
     "output_type": "execute_result"
    }
   ],
   "source": [
    "Store_312.head()"
   ]
  },
  {
   "cell_type": "code",
   "execution_count": 4,
   "metadata": {},
   "outputs": [
    {
     "name": "stdout",
     "output_type": "stream",
     "text": [
      "The Store_312 dataset has 3565 rows and 4 columns\n",
      "\n"
     ]
    },
    {
     "data": {
      "text/plain": [
       "SKU               int64\n",
       "Date             object\n",
       "Unit Sales        int64\n",
       "Dollar Sales    float64\n",
       "dtype: object"
      ]
     },
     "execution_count": 4,
     "metadata": {},
     "output_type": "execute_result"
    }
   ],
   "source": [
    "print(\"The Store_312 dataset has {} rows and {} columns\\n\".format(Store_312.shape[0], Store_312.shape[1]))\n",
    "Store_312.dtypes"
   ]
  },
  {
   "cell_type": "code",
   "execution_count": 5,
   "metadata": {},
   "outputs": [
    {
     "data": {
      "text/html": [
       "<div>\n",
       "<style scoped>\n",
       "    .dataframe tbody tr th:only-of-type {\n",
       "        vertical-align: middle;\n",
       "    }\n",
       "\n",
       "    .dataframe tbody tr th {\n",
       "        vertical-align: top;\n",
       "    }\n",
       "\n",
       "    .dataframe thead th {\n",
       "        text-align: right;\n",
       "    }\n",
       "</style>\n",
       "<table border=\"1\" class=\"dataframe\">\n",
       "  <thead>\n",
       "    <tr style=\"text-align: right;\">\n",
       "      <th></th>\n",
       "      <th>Department</th>\n",
       "      <th>Class</th>\n",
       "      <th>Style</th>\n",
       "      <th>Color</th>\n",
       "      <th>SKU</th>\n",
       "      <th>Cost</th>\n",
       "      <th>Price</th>\n",
       "      <th>Vendor</th>\n",
       "    </tr>\n",
       "  </thead>\n",
       "  <tbody>\n",
       "    <tr>\n",
       "      <th>0</th>\n",
       "      <td>800</td>\n",
       "      <td>5</td>\n",
       "      <td>20</td>\n",
       "      <td>2</td>\n",
       "      <td>8000520021</td>\n",
       "      <td>7.5</td>\n",
       "      <td>9.99</td>\n",
       "      <td>MA Excellent Products</td>\n",
       "    </tr>\n",
       "    <tr>\n",
       "      <th>1</th>\n",
       "      <td>800</td>\n",
       "      <td>4</td>\n",
       "      <td>51</td>\n",
       "      <td>11</td>\n",
       "      <td>8000451112</td>\n",
       "      <td>9.0</td>\n",
       "      <td>12.99</td>\n",
       "      <td>MA Excellent Products</td>\n",
       "    </tr>\n",
       "    <tr>\n",
       "      <th>2</th>\n",
       "      <td>731</td>\n",
       "      <td>24</td>\n",
       "      <td>55</td>\n",
       "      <td>52</td>\n",
       "      <td>7312455520</td>\n",
       "      <td>25.0</td>\n",
       "      <td>31.99</td>\n",
       "      <td>MA Excellent Products</td>\n",
       "    </tr>\n",
       "    <tr>\n",
       "      <th>3</th>\n",
       "      <td>731</td>\n",
       "      <td>24</td>\n",
       "      <td>55</td>\n",
       "      <td>53</td>\n",
       "      <td>7312455530</td>\n",
       "      <td>14.5</td>\n",
       "      <td>22.99</td>\n",
       "      <td>GA General Wholesales</td>\n",
       "    </tr>\n",
       "    <tr>\n",
       "      <th>4</th>\n",
       "      <td>5001</td>\n",
       "      <td>201</td>\n",
       "      <td>12</td>\n",
       "      <td>4</td>\n",
       "      <td>50012011240</td>\n",
       "      <td>2.5</td>\n",
       "      <td>7.99</td>\n",
       "      <td>China Imports</td>\n",
       "    </tr>\n",
       "    <tr>\n",
       "      <th>5</th>\n",
       "      <td>5001</td>\n",
       "      <td>201</td>\n",
       "      <td>12</td>\n",
       "      <td>5</td>\n",
       "      <td>50012011250</td>\n",
       "      <td>7.5</td>\n",
       "      <td>9.99</td>\n",
       "      <td>China Imports</td>\n",
       "    </tr>\n",
       "    <tr>\n",
       "      <th>6</th>\n",
       "      <td>5001</td>\n",
       "      <td>201</td>\n",
       "      <td>13</td>\n",
       "      <td>4</td>\n",
       "      <td>50012011341</td>\n",
       "      <td>2.5</td>\n",
       "      <td>4.99</td>\n",
       "      <td>China Imports</td>\n",
       "    </tr>\n",
       "    <tr>\n",
       "      <th>7</th>\n",
       "      <td>5001</td>\n",
       "      <td>300</td>\n",
       "      <td>1</td>\n",
       "      <td>1</td>\n",
       "      <td>50013000110</td>\n",
       "      <td>6.5</td>\n",
       "      <td>12.99</td>\n",
       "      <td>China Imports</td>\n",
       "    </tr>\n",
       "    <tr>\n",
       "      <th>8</th>\n",
       "      <td>5001</td>\n",
       "      <td>201</td>\n",
       "      <td>13</td>\n",
       "      <td>4</td>\n",
       "      <td>50012011340</td>\n",
       "      <td>2.5</td>\n",
       "      <td>4.99</td>\n",
       "      <td>China Imports</td>\n",
       "    </tr>\n",
       "  </tbody>\n",
       "</table>\n",
       "</div>"
      ],
      "text/plain": [
       "   Department  Class  Style  Color          SKU  Cost  Price  \\\n",
       "0         800      5     20      2   8000520021   7.5   9.99   \n",
       "1         800      4     51     11   8000451112   9.0  12.99   \n",
       "2         731     24     55     52   7312455520  25.0  31.99   \n",
       "3         731     24     55     53   7312455530  14.5  22.99   \n",
       "4        5001    201     12      4  50012011240   2.5   7.99   \n",
       "5        5001    201     12      5  50012011250   7.5   9.99   \n",
       "6        5001    201     13      4  50012011341   2.5   4.99   \n",
       "7        5001    300      1      1  50013000110   6.5  12.99   \n",
       "8        5001    201     13      4  50012011340   2.5   4.99   \n",
       "\n",
       "                  Vendor  \n",
       "0  MA Excellent Products  \n",
       "1  MA Excellent Products  \n",
       "2  MA Excellent Products  \n",
       "3  GA General Wholesales  \n",
       "4          China Imports  \n",
       "5          China Imports  \n",
       "6          China Imports  \n",
       "7          China Imports  \n",
       "8          China Imports  "
      ]
     },
     "execution_count": 5,
     "metadata": {},
     "output_type": "execute_result"
    }
   ],
   "source": [
    "SKU_Master"
   ]
  },
  {
   "cell_type": "code",
   "execution_count": 6,
   "metadata": {},
   "outputs": [
    {
     "name": "stdout",
     "output_type": "stream",
     "text": [
      "The SKU_Master dataset has 9 rows and 8 columns\n",
      "\n"
     ]
    },
    {
     "data": {
      "text/plain": [
       "Department      int64\n",
       "Class           int64\n",
       "Style           int64\n",
       "Color           int64\n",
       "SKU             int64\n",
       "Cost          float64\n",
       "Price         float64\n",
       "Vendor         object\n",
       "dtype: object"
      ]
     },
     "execution_count": 6,
     "metadata": {},
     "output_type": "execute_result"
    }
   ],
   "source": [
    "print(\"The SKU_Master dataset has {} rows and {} columns\\n\".format(SKU_Master.shape[0], SKU_Master.shape[1]))\n",
    "SKU_Master.dtypes"
   ]
  },
  {
   "cell_type": "markdown",
   "metadata": {},
   "source": [
    "Our data seems to be in the state we left it in in the last notebook."
   ]
  },
  {
   "cell_type": "markdown",
   "metadata": {},
   "source": [
    "#### Creating a Date Index"
   ]
  },
  {
   "cell_type": "code",
   "execution_count": 7,
   "metadata": {},
   "outputs": [
    {
     "data": {
      "text/html": [
       "<div>\n",
       "<style scoped>\n",
       "    .dataframe tbody tr th:only-of-type {\n",
       "        vertical-align: middle;\n",
       "    }\n",
       "\n",
       "    .dataframe tbody tr th {\n",
       "        vertical-align: top;\n",
       "    }\n",
       "\n",
       "    .dataframe thead th {\n",
       "        text-align: right;\n",
       "    }\n",
       "</style>\n",
       "<table border=\"1\" class=\"dataframe\">\n",
       "  <thead>\n",
       "    <tr style=\"text-align: right;\">\n",
       "      <th></th>\n",
       "      <th>SKU</th>\n",
       "      <th>Date</th>\n",
       "      <th>Unit Sales</th>\n",
       "      <th>Dollar Sales</th>\n",
       "    </tr>\n",
       "  </thead>\n",
       "  <tbody>\n",
       "    <tr>\n",
       "      <th>0</th>\n",
       "      <td>50012011250</td>\n",
       "      <td>2014-08-04</td>\n",
       "      <td>3</td>\n",
       "      <td>29.97</td>\n",
       "    </tr>\n",
       "    <tr>\n",
       "      <th>1</th>\n",
       "      <td>50012011250</td>\n",
       "      <td>2014-08-05</td>\n",
       "      <td>2</td>\n",
       "      <td>19.98</td>\n",
       "    </tr>\n",
       "    <tr>\n",
       "      <th>2</th>\n",
       "      <td>50012011250</td>\n",
       "      <td>2014-08-06</td>\n",
       "      <td>5</td>\n",
       "      <td>49.95</td>\n",
       "    </tr>\n",
       "    <tr>\n",
       "      <th>3</th>\n",
       "      <td>50012011250</td>\n",
       "      <td>2014-08-07</td>\n",
       "      <td>3</td>\n",
       "      <td>29.97</td>\n",
       "    </tr>\n",
       "    <tr>\n",
       "      <th>4</th>\n",
       "      <td>50012011250</td>\n",
       "      <td>2014-08-08</td>\n",
       "      <td>7</td>\n",
       "      <td>69.93</td>\n",
       "    </tr>\n",
       "  </tbody>\n",
       "</table>\n",
       "</div>"
      ],
      "text/plain": [
       "           SKU        Date  Unit Sales  Dollar Sales\n",
       "0  50012011250  2014-08-04           3         29.97\n",
       "1  50012011250  2014-08-05           2         19.98\n",
       "2  50012011250  2014-08-06           5         49.95\n",
       "3  50012011250  2014-08-07           3         29.97\n",
       "4  50012011250  2014-08-08           7         69.93"
      ]
     },
     "execution_count": 7,
     "metadata": {},
     "output_type": "execute_result"
    }
   ],
   "source": [
    "Store_312.head()"
   ]
  },
  {
   "cell_type": "markdown",
   "metadata": {},
   "source": [
    "At the moment, our dataset uses a normal numerical index to identify its rows. Most of the questions we're going to be answering in this project are time sensitive, so we are going to need to identify sales by date. One way to efficiently do this is to index the entire dataset by date. Luckily, we already have a date column. It has a dtype of object/string, so first we have to convert it to datetime."
   ]
  },
  {
   "cell_type": "code",
   "execution_count": 8,
   "metadata": {},
   "outputs": [
    {
     "data": {
      "text/plain": [
       "SKU                      int64\n",
       "Date            datetime64[ns]\n",
       "Unit Sales               int64\n",
       "Dollar Sales           float64\n",
       "dtype: object"
      ]
     },
     "execution_count": 8,
     "metadata": {},
     "output_type": "execute_result"
    }
   ],
   "source": [
    "Store_312[\"Date\"] = pd.to_datetime(Store_312[\"Date\"])\n",
    "Store_312.dtypes"
   ]
  },
  {
   "cell_type": "markdown",
   "metadata": {},
   "source": [
    "Our \"Date\" values are now of type datetime. Next, we should make the \"Date\" column our index."
   ]
  },
  {
   "cell_type": "code",
   "execution_count": 9,
   "metadata": {},
   "outputs": [
    {
     "data": {
      "text/html": [
       "<div>\n",
       "<style scoped>\n",
       "    .dataframe tbody tr th:only-of-type {\n",
       "        vertical-align: middle;\n",
       "    }\n",
       "\n",
       "    .dataframe tbody tr th {\n",
       "        vertical-align: top;\n",
       "    }\n",
       "\n",
       "    .dataframe thead th {\n",
       "        text-align: right;\n",
       "    }\n",
       "</style>\n",
       "<table border=\"1\" class=\"dataframe\">\n",
       "  <thead>\n",
       "    <tr style=\"text-align: right;\">\n",
       "      <th></th>\n",
       "      <th>SKU</th>\n",
       "      <th>Unit Sales</th>\n",
       "      <th>Dollar Sales</th>\n",
       "    </tr>\n",
       "    <tr>\n",
       "      <th>Date</th>\n",
       "      <th></th>\n",
       "      <th></th>\n",
       "      <th></th>\n",
       "    </tr>\n",
       "  </thead>\n",
       "  <tbody>\n",
       "    <tr>\n",
       "      <th>2014-08-04</th>\n",
       "      <td>50012011250</td>\n",
       "      <td>3</td>\n",
       "      <td>29.97</td>\n",
       "    </tr>\n",
       "    <tr>\n",
       "      <th>2014-08-05</th>\n",
       "      <td>50012011250</td>\n",
       "      <td>2</td>\n",
       "      <td>19.98</td>\n",
       "    </tr>\n",
       "    <tr>\n",
       "      <th>2014-08-06</th>\n",
       "      <td>50012011250</td>\n",
       "      <td>5</td>\n",
       "      <td>49.95</td>\n",
       "    </tr>\n",
       "    <tr>\n",
       "      <th>2014-08-07</th>\n",
       "      <td>50012011250</td>\n",
       "      <td>3</td>\n",
       "      <td>29.97</td>\n",
       "    </tr>\n",
       "    <tr>\n",
       "      <th>2014-08-08</th>\n",
       "      <td>50012011250</td>\n",
       "      <td>7</td>\n",
       "      <td>69.93</td>\n",
       "    </tr>\n",
       "  </tbody>\n",
       "</table>\n",
       "</div>"
      ],
      "text/plain": [
       "                    SKU  Unit Sales  Dollar Sales\n",
       "Date                                             \n",
       "2014-08-04  50012011250           3         29.97\n",
       "2014-08-05  50012011250           2         19.98\n",
       "2014-08-06  50012011250           5         49.95\n",
       "2014-08-07  50012011250           3         29.97\n",
       "2014-08-08  50012011250           7         69.93"
      ]
     },
     "execution_count": 9,
     "metadata": {},
     "output_type": "execute_result"
    }
   ],
   "source": [
    "Store_312.set_index(\"Date\", inplace=True)\n",
    "Store_312.head()"
   ]
  },
  {
   "cell_type": "markdown",
   "metadata": {},
   "source": [
    "### 1. Which month has the highest average sales in dollars for Store 312?"
   ]
  },
  {
   "cell_type": "markdown",
   "metadata": {},
   "source": [
    "To answer our question, we need to create a month column."
   ]
  },
  {
   "cell_type": "code",
   "execution_count": 10,
   "metadata": {},
   "outputs": [],
   "source": [
    "Store_312[\"Month\"] = Store_312.index.strftime(\"%b\")"
   ]
  },
  {
   "cell_type": "code",
   "execution_count": 11,
   "metadata": {},
   "outputs": [
    {
     "data": {
      "text/html": [
       "<div>\n",
       "<style scoped>\n",
       "    .dataframe tbody tr th:only-of-type {\n",
       "        vertical-align: middle;\n",
       "    }\n",
       "\n",
       "    .dataframe tbody tr th {\n",
       "        vertical-align: top;\n",
       "    }\n",
       "\n",
       "    .dataframe thead th {\n",
       "        text-align: right;\n",
       "    }\n",
       "</style>\n",
       "<table border=\"1\" class=\"dataframe\">\n",
       "  <thead>\n",
       "    <tr style=\"text-align: right;\">\n",
       "      <th></th>\n",
       "      <th>SKU</th>\n",
       "      <th>Unit Sales</th>\n",
       "      <th>Dollar Sales</th>\n",
       "      <th>Month</th>\n",
       "    </tr>\n",
       "    <tr>\n",
       "      <th>Date</th>\n",
       "      <th></th>\n",
       "      <th></th>\n",
       "      <th></th>\n",
       "      <th></th>\n",
       "    </tr>\n",
       "  </thead>\n",
       "  <tbody>\n",
       "    <tr>\n",
       "      <th>2014-08-04</th>\n",
       "      <td>50012011250</td>\n",
       "      <td>3</td>\n",
       "      <td>29.97</td>\n",
       "      <td>Aug</td>\n",
       "    </tr>\n",
       "    <tr>\n",
       "      <th>2014-08-05</th>\n",
       "      <td>50012011250</td>\n",
       "      <td>2</td>\n",
       "      <td>19.98</td>\n",
       "      <td>Aug</td>\n",
       "    </tr>\n",
       "    <tr>\n",
       "      <th>2014-08-06</th>\n",
       "      <td>50012011250</td>\n",
       "      <td>5</td>\n",
       "      <td>49.95</td>\n",
       "      <td>Aug</td>\n",
       "    </tr>\n",
       "    <tr>\n",
       "      <th>2014-08-07</th>\n",
       "      <td>50012011250</td>\n",
       "      <td>3</td>\n",
       "      <td>29.97</td>\n",
       "      <td>Aug</td>\n",
       "    </tr>\n",
       "    <tr>\n",
       "      <th>2014-08-08</th>\n",
       "      <td>50012011250</td>\n",
       "      <td>7</td>\n",
       "      <td>69.93</td>\n",
       "      <td>Aug</td>\n",
       "    </tr>\n",
       "  </tbody>\n",
       "</table>\n",
       "</div>"
      ],
      "text/plain": [
       "                    SKU  Unit Sales  Dollar Sales Month\n",
       "Date                                                   \n",
       "2014-08-04  50012011250           3         29.97   Aug\n",
       "2014-08-05  50012011250           2         19.98   Aug\n",
       "2014-08-06  50012011250           5         49.95   Aug\n",
       "2014-08-07  50012011250           3         29.97   Aug\n",
       "2014-08-08  50012011250           7         69.93   Aug"
      ]
     },
     "execution_count": 11,
     "metadata": {},
     "output_type": "execute_result"
    }
   ],
   "source": [
    "Store_312.head()"
   ]
  },
  {
   "cell_type": "markdown",
   "metadata": {},
   "source": [
    "We now have a column that shows month.\n",
    "\n",
    "Now let's pivot our table on \"Dollar Sales\", averaging out values on \"Month\"."
   ]
  },
  {
   "cell_type": "code",
   "execution_count": 12,
   "metadata": {},
   "outputs": [],
   "source": [
    "Month_avg = Store_312.pivot_table(values=\"Dollar Sales\", index=\"Month\", aggfunc=\"mean\").sort_values(\"Dollar Sales\", ascending=False)"
   ]
  },
  {
   "cell_type": "code",
   "execution_count": 13,
   "metadata": {},
   "outputs": [
    {
     "name": "stdout",
     "output_type": "stream",
     "text": [
      "       Dollar Sales\n",
      "Month              \n",
      "May      102.990188\n"
     ]
    },
    {
     "data": {
      "image/png": "[encoded data removed]",
      "text/plain": [
       "<Figure size 648x360 with 1 Axes>"
      ]
     },
     "metadata": {},
     "output_type": "display_data"
    }
   ],
   "source": [
    "print(Month_avg.head(1))\n",
    "\n",
    "sns.set_style(\"white\")\n",
    "sns.set_palette(\"husl\", 12)\n",
    "\n",
    "plt.figure(figsize=(9,5))\n",
    "ax = sns.barplot(data=Month_avg, x= \"Dollar Sales\", y = Month_avg.index, orient=\"h\")\n",
    "ax.set_ylabel(\"\")\n",
    "ax.set_xlabel(\"Monthly Average $\", fontsize=12)\n",
    "ax.set_title(\"Monthly Average Sales Comparison\", fontweight=\"bold\", fontsize=14)\n",
    "ax.tick_params(labelsize=11)\n",
    "\n",
    "sns.despine(top=True, right=True, left=True, bottom=True, ax=ax)\n",
    "plt.show()"
   ]
  },
  {
   "cell_type": "markdown",
   "metadata": {},
   "source": [
    "The bar graph above clearly shows us that May is the most favorable period of the year when it comes to sales. January also comes in second, probably due to annual clearance sales. Surprisingly, the festive months, i.e., Oct - Dec, are the worst performing quarter."
   ]
  },
  {
   "cell_type": "markdown",
   "metadata": {},
   "source": [
    "### 2. Which SKU is the most popular in Store 312?"
   ]
  },
  {
   "cell_type": "markdown",
   "metadata": {},
   "source": [
    "The SKU that is most popular in Store_312 is the one with the most sales. However, let's also compare all SKUs to see how they've all performed over the period in question."
   ]
  },
  {
   "cell_type": "code",
   "execution_count": 14,
   "metadata": {},
   "outputs": [],
   "source": [
    "Pop = Store_312.pivot_table(values=\"Unit Sales\", index=\"SKU\", aggfunc=\"sum\").sort_values(\"Unit Sales\", ascending=False)"
   ]
  },
  {
   "cell_type": "code",
   "execution_count": 15,
   "metadata": {},
   "outputs": [
    {
     "data": {
      "text/html": [
       "<div>\n",
       "<style scoped>\n",
       "    .dataframe tbody tr th:only-of-type {\n",
       "        vertical-align: middle;\n",
       "    }\n",
       "\n",
       "    .dataframe tbody tr th {\n",
       "        vertical-align: top;\n",
       "    }\n",
       "\n",
       "    .dataframe thead th {\n",
       "        text-align: right;\n",
       "    }\n",
       "</style>\n",
       "<table border=\"1\" class=\"dataframe\">\n",
       "  <thead>\n",
       "    <tr style=\"text-align: right;\">\n",
       "      <th></th>\n",
       "      <th>Unit Sales</th>\n",
       "      <th>Percentage</th>\n",
       "    </tr>\n",
       "    <tr>\n",
       "      <th>SKU</th>\n",
       "      <th></th>\n",
       "      <th></th>\n",
       "    </tr>\n",
       "  </thead>\n",
       "  <tbody>\n",
       "    <tr>\n",
       "      <th>8000451112</th>\n",
       "      <td>11398</td>\n",
       "      <td>54.782274</td>\n",
       "    </tr>\n",
       "    <tr>\n",
       "      <th>8000520021</th>\n",
       "      <td>2742</td>\n",
       "      <td>13.178891</td>\n",
       "    </tr>\n",
       "    <tr>\n",
       "      <th>50012011250</th>\n",
       "      <td>1974</td>\n",
       "      <td>9.487648</td>\n",
       "    </tr>\n",
       "  </tbody>\n",
       "</table>\n",
       "</div>"
      ],
      "text/plain": [
       "             Unit Sales  Percentage\n",
       "SKU                                \n",
       "8000451112        11398   54.782274\n",
       "8000520021         2742   13.178891\n",
       "50012011250        1974    9.487648"
      ]
     },
     "execution_count": 15,
     "metadata": {},
     "output_type": "execute_result"
    }
   ],
   "source": [
    "Pop['Percentage'] = (Pop['Unit Sales']/Pop['Unit Sales'].sum())*100\n",
    "Pop.head(3)"
   ]
  },
  {
   "cell_type": "code",
   "execution_count": 16,
   "metadata": {},
   "outputs": [
    {
     "data": {
      "image/png": "[encoded data removed]",
      "text/plain": [
       "<Figure size 648x360 with 1 Axes>"
      ]
     },
     "metadata": {},
     "output_type": "display_data"
    }
   ],
   "source": [
    "sns.set_palette(\"colorblind\", 12)\n",
    "\n",
    "fig, ax = plt.subplots(figsize=(9,5))\n",
    "\n",
    "fig.suptitle(\"SKU Share Percentage\", fontsize=16, fontweight=\"bold\", y=1.02)\n",
    "\n",
    "patches, texts = plt.pie(Pop.Percentage, startangle=90, radius=1.2)\n",
    "labels = ['{0} - {1:1.2f} %'.format(i,j) for i,j in zip(Pop.index, Pop.Percentage)]\n",
    "\n",
    "sort_legend = True\n",
    "if sort_legend:\n",
    "    patches, labels, dummy =  zip(*sorted(zip(patches, labels, Pop.Percentage),\n",
    "                                          key=lambda x: x[2],\n",
    "                                          reverse=True))\n",
    "\n",
    "#draw circle\n",
    "centre_circle = plt.Circle((0,0),0.70,fc='white')\n",
    "fig = plt.gcf()\n",
    "fig.gca().add_artist(centre_circle)\n",
    "# Equal aspect ratio ensures that pie is drawn as a circle\n",
    "ax.axis('equal')    \n",
    "    \n",
    "plt.legend(patches, labels, loc='best', bbox_to_anchor=(-0.1, 1.),\n",
    "           fontsize=12)\n",
    "\n",
    "plt.show()"
   ]
  },
  {
   "cell_type": "code",
   "execution_count": 17,
   "metadata": {},
   "outputs": [
    {
     "data": {
      "text/html": [
       "<div>\n",
       "<style scoped>\n",
       "    .dataframe tbody tr th:only-of-type {\n",
       "        vertical-align: middle;\n",
       "    }\n",
       "\n",
       "    .dataframe tbody tr th {\n",
       "        vertical-align: top;\n",
       "    }\n",
       "\n",
       "    .dataframe thead th {\n",
       "        text-align: right;\n",
       "    }\n",
       "</style>\n",
       "<table border=\"1\" class=\"dataframe\">\n",
       "  <thead>\n",
       "    <tr style=\"text-align: right;\">\n",
       "      <th></th>\n",
       "      <th>Department</th>\n",
       "      <th>Class</th>\n",
       "      <th>Style</th>\n",
       "      <th>Color</th>\n",
       "      <th>SKU</th>\n",
       "      <th>Cost</th>\n",
       "      <th>Price</th>\n",
       "      <th>Vendor</th>\n",
       "    </tr>\n",
       "  </thead>\n",
       "  <tbody>\n",
       "    <tr>\n",
       "      <th>0</th>\n",
       "      <td>800</td>\n",
       "      <td>5</td>\n",
       "      <td>20</td>\n",
       "      <td>2</td>\n",
       "      <td>8000520021</td>\n",
       "      <td>7.5</td>\n",
       "      <td>9.99</td>\n",
       "      <td>MA Excellent Products</td>\n",
       "    </tr>\n",
       "    <tr>\n",
       "      <th>1</th>\n",
       "      <td>800</td>\n",
       "      <td>4</td>\n",
       "      <td>51</td>\n",
       "      <td>11</td>\n",
       "      <td>8000451112</td>\n",
       "      <td>9.0</td>\n",
       "      <td>12.99</td>\n",
       "      <td>MA Excellent Products</td>\n",
       "    </tr>\n",
       "    <tr>\n",
       "      <th>2</th>\n",
       "      <td>731</td>\n",
       "      <td>24</td>\n",
       "      <td>55</td>\n",
       "      <td>52</td>\n",
       "      <td>7312455520</td>\n",
       "      <td>25.0</td>\n",
       "      <td>31.99</td>\n",
       "      <td>MA Excellent Products</td>\n",
       "    </tr>\n",
       "    <tr>\n",
       "      <th>3</th>\n",
       "      <td>731</td>\n",
       "      <td>24</td>\n",
       "      <td>55</td>\n",
       "      <td>53</td>\n",
       "      <td>7312455530</td>\n",
       "      <td>14.5</td>\n",
       "      <td>22.99</td>\n",
       "      <td>GA General Wholesales</td>\n",
       "    </tr>\n",
       "    <tr>\n",
       "      <th>4</th>\n",
       "      <td>5001</td>\n",
       "      <td>201</td>\n",
       "      <td>12</td>\n",
       "      <td>4</td>\n",
       "      <td>50012011240</td>\n",
       "      <td>2.5</td>\n",
       "      <td>7.99</td>\n",
       "      <td>China Imports</td>\n",
       "    </tr>\n",
       "    <tr>\n",
       "      <th>5</th>\n",
       "      <td>5001</td>\n",
       "      <td>201</td>\n",
       "      <td>12</td>\n",
       "      <td>5</td>\n",
       "      <td>50012011250</td>\n",
       "      <td>7.5</td>\n",
       "      <td>9.99</td>\n",
       "      <td>China Imports</td>\n",
       "    </tr>\n",
       "    <tr>\n",
       "      <th>6</th>\n",
       "      <td>5001</td>\n",
       "      <td>201</td>\n",
       "      <td>13</td>\n",
       "      <td>4</td>\n",
       "      <td>50012011341</td>\n",
       "      <td>2.5</td>\n",
       "      <td>4.99</td>\n",
       "      <td>China Imports</td>\n",
       "    </tr>\n",
       "    <tr>\n",
       "      <th>7</th>\n",
       "      <td>5001</td>\n",
       "      <td>300</td>\n",
       "      <td>1</td>\n",
       "      <td>1</td>\n",
       "      <td>50013000110</td>\n",
       "      <td>6.5</td>\n",
       "      <td>12.99</td>\n",
       "      <td>China Imports</td>\n",
       "    </tr>\n",
       "    <tr>\n",
       "      <th>8</th>\n",
       "      <td>5001</td>\n",
       "      <td>201</td>\n",
       "      <td>13</td>\n",
       "      <td>4</td>\n",
       "      <td>50012011340</td>\n",
       "      <td>2.5</td>\n",
       "      <td>4.99</td>\n",
       "      <td>China Imports</td>\n",
       "    </tr>\n",
       "  </tbody>\n",
       "</table>\n",
       "</div>"
      ],
      "text/plain": [
       "   Department  Class  Style  Color          SKU  Cost  Price  \\\n",
       "0         800      5     20      2   8000520021   7.5   9.99   \n",
       "1         800      4     51     11   8000451112   9.0  12.99   \n",
       "2         731     24     55     52   7312455520  25.0  31.99   \n",
       "3         731     24     55     53   7312455530  14.5  22.99   \n",
       "4        5001    201     12      4  50012011240   2.5   7.99   \n",
       "5        5001    201     12      5  50012011250   7.5   9.99   \n",
       "6        5001    201     13      4  50012011341   2.5   4.99   \n",
       "7        5001    300      1      1  50013000110   6.5  12.99   \n",
       "8        5001    201     13      4  50012011340   2.5   4.99   \n",
       "\n",
       "                  Vendor  \n",
       "0  MA Excellent Products  \n",
       "1  MA Excellent Products  \n",
       "2  MA Excellent Products  \n",
       "3  GA General Wholesales  \n",
       "4          China Imports  \n",
       "5          China Imports  \n",
       "6          China Imports  \n",
       "7          China Imports  \n",
       "8          China Imports  "
      ]
     },
     "execution_count": 17,
     "metadata": {},
     "output_type": "execute_result"
    }
   ],
   "source": [
    "SKU_Master"
   ]
  },
  {
   "cell_type": "markdown",
   "metadata": {},
   "source": [
    "The most popular SKU in Store_312 is 8000451112. As a matter of fact, it contributes to more than 50% of total sales in the period under investigation. Another interesting point is that 2 of the top 4 performing SKUs are supplied by one vendor, \"MA Excellent Products\". This vendor contributes over **70% of total sales**. From a supply chain perspective, this is a critical point. If MA Excellent Products ever goes out of business or chooses not to supply us with stock for whatever reason, it means we'll potentially lose up to 70% of our revenue. An alternative to this supplier, for this group of products, needs to be identified and a relationship nurtured as a fall back plan.\n",
    "\n",
    "Another key SKU here is 7312455520. The SKU is also supplied by MA Excellent Products, but it is the least performing at 3.49%. This is even more noticeable given that this is the most expensive SKU to procure. A deeper analysis which includes more factors should be carried out to decide whether this product is worth continuing, or whether its funds should be redirected to better performing SKUs."
   ]
  },
  {
   "cell_type": "markdown",
   "metadata": {},
   "source": [
    "### 3. Are the sales (in units) between the different SKUs from China Imports correlated for Store 312?"
   ]
  },
  {
   "cell_type": "markdown",
   "metadata": {},
   "source": [
    "It is important to know if there exists a correlation between our different products to better understand customer buying habits. One product might influence the purchase of another. Likewise, we might be stocking too similar products such that one product is being overwhelmingly preferred to another."
   ]
  },
  {
   "cell_type": "markdown",
   "metadata": {},
   "source": [
    "Here we are particularly interested in products from the vendor \"China Imports\". Let's check the SKU_Master table to see which SKUs are these."
   ]
  },
  {
   "cell_type": "code",
   "execution_count": 18,
   "metadata": {},
   "outputs": [
    {
     "data": {
      "text/html": [
       "<div>\n",
       "<style scoped>\n",
       "    .dataframe tbody tr th:only-of-type {\n",
       "        vertical-align: middle;\n",
       "    }\n",
       "\n",
       "    .dataframe tbody tr th {\n",
       "        vertical-align: top;\n",
       "    }\n",
       "\n",
       "    .dataframe thead th {\n",
       "        text-align: right;\n",
       "    }\n",
       "</style>\n",
       "<table border=\"1\" class=\"dataframe\">\n",
       "  <thead>\n",
       "    <tr style=\"text-align: right;\">\n",
       "      <th></th>\n",
       "      <th>Department</th>\n",
       "      <th>Class</th>\n",
       "      <th>Style</th>\n",
       "      <th>Color</th>\n",
       "      <th>SKU</th>\n",
       "      <th>Cost</th>\n",
       "      <th>Price</th>\n",
       "      <th>Vendor</th>\n",
       "    </tr>\n",
       "  </thead>\n",
       "  <tbody>\n",
       "    <tr>\n",
       "      <th>0</th>\n",
       "      <td>800</td>\n",
       "      <td>5</td>\n",
       "      <td>20</td>\n",
       "      <td>2</td>\n",
       "      <td>8000520021</td>\n",
       "      <td>7.5</td>\n",
       "      <td>9.99</td>\n",
       "      <td>MA Excellent Products</td>\n",
       "    </tr>\n",
       "    <tr>\n",
       "      <th>1</th>\n",
       "      <td>800</td>\n",
       "      <td>4</td>\n",
       "      <td>51</td>\n",
       "      <td>11</td>\n",
       "      <td>8000451112</td>\n",
       "      <td>9.0</td>\n",
       "      <td>12.99</td>\n",
       "      <td>MA Excellent Products</td>\n",
       "    </tr>\n",
       "    <tr>\n",
       "      <th>2</th>\n",
       "      <td>731</td>\n",
       "      <td>24</td>\n",
       "      <td>55</td>\n",
       "      <td>52</td>\n",
       "      <td>7312455520</td>\n",
       "      <td>25.0</td>\n",
       "      <td>31.99</td>\n",
       "      <td>MA Excellent Products</td>\n",
       "    </tr>\n",
       "    <tr>\n",
       "      <th>3</th>\n",
       "      <td>731</td>\n",
       "      <td>24</td>\n",
       "      <td>55</td>\n",
       "      <td>53</td>\n",
       "      <td>7312455530</td>\n",
       "      <td>14.5</td>\n",
       "      <td>22.99</td>\n",
       "      <td>GA General Wholesales</td>\n",
       "    </tr>\n",
       "    <tr>\n",
       "      <th>4</th>\n",
       "      <td>5001</td>\n",
       "      <td>201</td>\n",
       "      <td>12</td>\n",
       "      <td>4</td>\n",
       "      <td>50012011240</td>\n",
       "      <td>2.5</td>\n",
       "      <td>7.99</td>\n",
       "      <td>China Imports</td>\n",
       "    </tr>\n",
       "    <tr>\n",
       "      <th>5</th>\n",
       "      <td>5001</td>\n",
       "      <td>201</td>\n",
       "      <td>12</td>\n",
       "      <td>5</td>\n",
       "      <td>50012011250</td>\n",
       "      <td>7.5</td>\n",
       "      <td>9.99</td>\n",
       "      <td>China Imports</td>\n",
       "    </tr>\n",
       "    <tr>\n",
       "      <th>6</th>\n",
       "      <td>5001</td>\n",
       "      <td>201</td>\n",
       "      <td>13</td>\n",
       "      <td>4</td>\n",
       "      <td>50012011341</td>\n",
       "      <td>2.5</td>\n",
       "      <td>4.99</td>\n",
       "      <td>China Imports</td>\n",
       "    </tr>\n",
       "    <tr>\n",
       "      <th>7</th>\n",
       "      <td>5001</td>\n",
       "      <td>300</td>\n",
       "      <td>1</td>\n",
       "      <td>1</td>\n",
       "      <td>50013000110</td>\n",
       "      <td>6.5</td>\n",
       "      <td>12.99</td>\n",
       "      <td>China Imports</td>\n",
       "    </tr>\n",
       "    <tr>\n",
       "      <th>8</th>\n",
       "      <td>5001</td>\n",
       "      <td>201</td>\n",
       "      <td>13</td>\n",
       "      <td>4</td>\n",
       "      <td>50012011340</td>\n",
       "      <td>2.5</td>\n",
       "      <td>4.99</td>\n",
       "      <td>China Imports</td>\n",
       "    </tr>\n",
       "  </tbody>\n",
       "</table>\n",
       "</div>"
      ],
      "text/plain": [
       "   Department  Class  Style  Color          SKU  Cost  Price  \\\n",
       "0         800      5     20      2   8000520021   7.5   9.99   \n",
       "1         800      4     51     11   8000451112   9.0  12.99   \n",
       "2         731     24     55     52   7312455520  25.0  31.99   \n",
       "3         731     24     55     53   7312455530  14.5  22.99   \n",
       "4        5001    201     12      4  50012011240   2.5   7.99   \n",
       "5        5001    201     12      5  50012011250   7.5   9.99   \n",
       "6        5001    201     13      4  50012011341   2.5   4.99   \n",
       "7        5001    300      1      1  50013000110   6.5  12.99   \n",
       "8        5001    201     13      4  50012011340   2.5   4.99   \n",
       "\n",
       "                  Vendor  \n",
       "0  MA Excellent Products  \n",
       "1  MA Excellent Products  \n",
       "2  MA Excellent Products  \n",
       "3  GA General Wholesales  \n",
       "4          China Imports  \n",
       "5          China Imports  \n",
       "6          China Imports  \n",
       "7          China Imports  \n",
       "8          China Imports  "
      ]
     },
     "execution_count": 18,
     "metadata": {},
     "output_type": "execute_result"
    }
   ],
   "source": [
    "SKU_Master"
   ]
  },
  {
   "cell_type": "markdown",
   "metadata": {},
   "source": [
    "The SKUs from this particular vendor are '8000520021', '8000451112' and '7312455520'."
   ]
  },
  {
   "cell_type": "code",
   "execution_count": 19,
   "metadata": {},
   "outputs": [],
   "source": [
    "SKU_Subset = Store_312[(Store_312[\"SKU\"] == 50012011240) | (Store_312[\"SKU\"] == 50012011250) | (Store_312[\"SKU\"] == 50012011341) | (Store_312[\"SKU\"] == 50013000110) | (Store_312[\"SKU\"] == 50012011340)]"
   ]
  },
  {
   "cell_type": "code",
   "execution_count": 20,
   "metadata": {},
   "outputs": [
    {
     "name": "stdout",
     "output_type": "stream",
     "text": [
      "(1545, 4)\n"
     ]
    },
    {
     "data": {
      "text/html": [
       "<div>\n",
       "<style scoped>\n",
       "    .dataframe tbody tr th:only-of-type {\n",
       "        vertical-align: middle;\n",
       "    }\n",
       "\n",
       "    .dataframe tbody tr th {\n",
       "        vertical-align: top;\n",
       "    }\n",
       "\n",
       "    .dataframe thead th {\n",
       "        text-align: right;\n",
       "    }\n",
       "</style>\n",
       "<table border=\"1\" class=\"dataframe\">\n",
       "  <thead>\n",
       "    <tr style=\"text-align: right;\">\n",
       "      <th></th>\n",
       "      <th>SKU</th>\n",
       "      <th>Unit Sales</th>\n",
       "      <th>Dollar Sales</th>\n",
       "      <th>Month</th>\n",
       "    </tr>\n",
       "    <tr>\n",
       "      <th>Date</th>\n",
       "      <th></th>\n",
       "      <th></th>\n",
       "      <th></th>\n",
       "      <th></th>\n",
       "    </tr>\n",
       "  </thead>\n",
       "  <tbody>\n",
       "    <tr>\n",
       "      <th>2014-08-04</th>\n",
       "      <td>50012011250</td>\n",
       "      <td>3</td>\n",
       "      <td>29.97</td>\n",
       "      <td>Aug</td>\n",
       "    </tr>\n",
       "    <tr>\n",
       "      <th>2014-08-05</th>\n",
       "      <td>50012011250</td>\n",
       "      <td>2</td>\n",
       "      <td>19.98</td>\n",
       "      <td>Aug</td>\n",
       "    </tr>\n",
       "    <tr>\n",
       "      <th>2014-08-06</th>\n",
       "      <td>50012011250</td>\n",
       "      <td>5</td>\n",
       "      <td>49.95</td>\n",
       "      <td>Aug</td>\n",
       "    </tr>\n",
       "    <tr>\n",
       "      <th>2014-08-07</th>\n",
       "      <td>50012011250</td>\n",
       "      <td>3</td>\n",
       "      <td>29.97</td>\n",
       "      <td>Aug</td>\n",
       "    </tr>\n",
       "    <tr>\n",
       "      <th>2014-08-08</th>\n",
       "      <td>50012011250</td>\n",
       "      <td>7</td>\n",
       "      <td>69.93</td>\n",
       "      <td>Aug</td>\n",
       "    </tr>\n",
       "  </tbody>\n",
       "</table>\n",
       "</div>"
      ],
      "text/plain": [
       "                    SKU  Unit Sales  Dollar Sales Month\n",
       "Date                                                   \n",
       "2014-08-04  50012011250           3         29.97   Aug\n",
       "2014-08-05  50012011250           2         19.98   Aug\n",
       "2014-08-06  50012011250           5         49.95   Aug\n",
       "2014-08-07  50012011250           3         29.97   Aug\n",
       "2014-08-08  50012011250           7         69.93   Aug"
      ]
     },
     "execution_count": 20,
     "metadata": {},
     "output_type": "execute_result"
    }
   ],
   "source": [
    "print(SKU_Subset.shape)\n",
    "SKU_Subset.head()"
   ]
  },
  {
   "cell_type": "markdown",
   "metadata": {},
   "source": [
    "Let's pivot our table on SKU such that the different SKUs become our columns. On the days where an SKU does not have a cell, let's replace the NaN value that'll be produced with a 0."
   ]
  },
  {
   "cell_type": "code",
   "execution_count": 21,
   "metadata": {},
   "outputs": [],
   "source": [
    "SKU_pivot = SKU_Subset.pivot_table(index=\"Date\", values = 'Unit Sales', columns = 'SKU', aggfunc=\"sum\",fill_value=0)"
   ]
  },
  {
   "cell_type": "code",
   "execution_count": 22,
   "metadata": {},
   "outputs": [
    {
     "name": "stdout",
     "output_type": "stream",
     "text": [
      "(630, 5)\n"
     ]
    },
    {
     "data": {
      "text/html": [
       "<div>\n",
       "<style scoped>\n",
       "    .dataframe tbody tr th:only-of-type {\n",
       "        vertical-align: middle;\n",
       "    }\n",
       "\n",
       "    .dataframe tbody tr th {\n",
       "        vertical-align: top;\n",
       "    }\n",
       "\n",
       "    .dataframe thead th {\n",
       "        text-align: right;\n",
       "    }\n",
       "</style>\n",
       "<table border=\"1\" class=\"dataframe\">\n",
       "  <thead>\n",
       "    <tr style=\"text-align: right;\">\n",
       "      <th>SKU</th>\n",
       "      <th>50012011240</th>\n",
       "      <th>50012011250</th>\n",
       "      <th>50012011340</th>\n",
       "      <th>50012011341</th>\n",
       "      <th>50013000110</th>\n",
       "    </tr>\n",
       "    <tr>\n",
       "      <th>Date</th>\n",
       "      <th></th>\n",
       "      <th></th>\n",
       "      <th></th>\n",
       "      <th></th>\n",
       "      <th></th>\n",
       "    </tr>\n",
       "  </thead>\n",
       "  <tbody>\n",
       "    <tr>\n",
       "      <th>2014-08-04</th>\n",
       "      <td>2</td>\n",
       "      <td>3</td>\n",
       "      <td>3</td>\n",
       "      <td>0</td>\n",
       "      <td>0</td>\n",
       "    </tr>\n",
       "    <tr>\n",
       "      <th>2014-08-05</th>\n",
       "      <td>2</td>\n",
       "      <td>2</td>\n",
       "      <td>2</td>\n",
       "      <td>0</td>\n",
       "      <td>0</td>\n",
       "    </tr>\n",
       "    <tr>\n",
       "      <th>2014-08-06</th>\n",
       "      <td>1</td>\n",
       "      <td>5</td>\n",
       "      <td>1</td>\n",
       "      <td>0</td>\n",
       "      <td>0</td>\n",
       "    </tr>\n",
       "    <tr>\n",
       "      <th>2014-08-07</th>\n",
       "      <td>3</td>\n",
       "      <td>3</td>\n",
       "      <td>0</td>\n",
       "      <td>0</td>\n",
       "      <td>0</td>\n",
       "    </tr>\n",
       "    <tr>\n",
       "      <th>2014-08-08</th>\n",
       "      <td>4</td>\n",
       "      <td>7</td>\n",
       "      <td>0</td>\n",
       "      <td>0</td>\n",
       "      <td>0</td>\n",
       "    </tr>\n",
       "  </tbody>\n",
       "</table>\n",
       "</div>"
      ],
      "text/plain": [
       "SKU         50012011240  50012011250  50012011340  50012011341  50013000110\n",
       "Date                                                                       \n",
       "2014-08-04            2            3            3            0            0\n",
       "2014-08-05            2            2            2            0            0\n",
       "2014-08-06            1            5            1            0            0\n",
       "2014-08-07            3            3            0            0            0\n",
       "2014-08-08            4            7            0            0            0"
      ]
     },
     "execution_count": 22,
     "metadata": {},
     "output_type": "execute_result"
    }
   ],
   "source": [
    "print(SKU_pivot.shape)\n",
    "SKU_pivot.head()"
   ]
  },
  {
   "cell_type": "markdown",
   "metadata": {},
   "source": [
    "Too many 0 values will give us scatter plots that are difficult to interpret. Let's resample our pivot table into monthly buckets aggregated by sum.\n",
    "\n",
    "Let's see what the data looks like before we assign back to SKU_pivot."
   ]
  },
  {
   "cell_type": "code",
   "execution_count": 23,
   "metadata": {},
   "outputs": [
    {
     "data": {
      "text/html": [
       "<div>\n",
       "<style scoped>\n",
       "    .dataframe tbody tr th:only-of-type {\n",
       "        vertical-align: middle;\n",
       "    }\n",
       "\n",
       "    .dataframe tbody tr th {\n",
       "        vertical-align: top;\n",
       "    }\n",
       "\n",
       "    .dataframe thead th {\n",
       "        text-align: right;\n",
       "    }\n",
       "</style>\n",
       "<table border=\"1\" class=\"dataframe\">\n",
       "  <thead>\n",
       "    <tr style=\"text-align: right;\">\n",
       "      <th>SKU</th>\n",
       "      <th>50012011240</th>\n",
       "      <th>50012011250</th>\n",
       "      <th>50012011340</th>\n",
       "      <th>50012011341</th>\n",
       "      <th>50013000110</th>\n",
       "    </tr>\n",
       "    <tr>\n",
       "      <th>Date</th>\n",
       "      <th></th>\n",
       "      <th></th>\n",
       "      <th></th>\n",
       "      <th></th>\n",
       "      <th></th>\n",
       "    </tr>\n",
       "  </thead>\n",
       "  <tbody>\n",
       "    <tr>\n",
       "      <th>2014-08-31</th>\n",
       "      <td>46</td>\n",
       "      <td>76</td>\n",
       "      <td>31</td>\n",
       "      <td>0</td>\n",
       "      <td>0</td>\n",
       "    </tr>\n",
       "    <tr>\n",
       "      <th>2014-09-30</th>\n",
       "      <td>33</td>\n",
       "      <td>102</td>\n",
       "      <td>35</td>\n",
       "      <td>0</td>\n",
       "      <td>0</td>\n",
       "    </tr>\n",
       "    <tr>\n",
       "      <th>2014-10-31</th>\n",
       "      <td>62</td>\n",
       "      <td>77</td>\n",
       "      <td>48</td>\n",
       "      <td>0</td>\n",
       "      <td>0</td>\n",
       "    </tr>\n",
       "    <tr>\n",
       "      <th>2014-11-30</th>\n",
       "      <td>53</td>\n",
       "      <td>51</td>\n",
       "      <td>34</td>\n",
       "      <td>0</td>\n",
       "      <td>0</td>\n",
       "    </tr>\n",
       "    <tr>\n",
       "      <th>2014-12-31</th>\n",
       "      <td>52</td>\n",
       "      <td>100</td>\n",
       "      <td>37</td>\n",
       "      <td>0</td>\n",
       "      <td>0</td>\n",
       "    </tr>\n",
       "  </tbody>\n",
       "</table>\n",
       "</div>"
      ],
      "text/plain": [
       "SKU         50012011240  50012011250  50012011340  50012011341  50013000110\n",
       "Date                                                                       \n",
       "2014-08-31           46           76           31            0            0\n",
       "2014-09-30           33          102           35            0            0\n",
       "2014-10-31           62           77           48            0            0\n",
       "2014-11-30           53           51           34            0            0\n",
       "2014-12-31           52          100           37            0            0"
      ]
     },
     "execution_count": 23,
     "metadata": {},
     "output_type": "execute_result"
    }
   ],
   "source": [
    "SKU_pivot.resample(\"M\").sum().head()"
   ]
  },
  {
   "cell_type": "markdown",
   "metadata": {},
   "source": [
    "It seams that both 50012011341 & 50013000110 still have zeros. Let's resample into yearly buckets and see what the data looks like then."
   ]
  },
  {
   "cell_type": "code",
   "execution_count": 24,
   "metadata": {},
   "outputs": [
    {
     "data": {
      "text/html": [
       "<div>\n",
       "<style scoped>\n",
       "    .dataframe tbody tr th:only-of-type {\n",
       "        vertical-align: middle;\n",
       "    }\n",
       "\n",
       "    .dataframe tbody tr th {\n",
       "        vertical-align: top;\n",
       "    }\n",
       "\n",
       "    .dataframe thead th {\n",
       "        text-align: right;\n",
       "    }\n",
       "</style>\n",
       "<table border=\"1\" class=\"dataframe\">\n",
       "  <thead>\n",
       "    <tr style=\"text-align: right;\">\n",
       "      <th>SKU</th>\n",
       "      <th>50012011240</th>\n",
       "      <th>50012011250</th>\n",
       "      <th>50012011340</th>\n",
       "      <th>50012011341</th>\n",
       "      <th>50013000110</th>\n",
       "    </tr>\n",
       "    <tr>\n",
       "      <th>Date</th>\n",
       "      <th></th>\n",
       "      <th></th>\n",
       "      <th></th>\n",
       "      <th></th>\n",
       "      <th></th>\n",
       "    </tr>\n",
       "  </thead>\n",
       "  <tbody>\n",
       "    <tr>\n",
       "      <th>2014-12-31</th>\n",
       "      <td>246</td>\n",
       "      <td>406</td>\n",
       "      <td>185</td>\n",
       "      <td>0</td>\n",
       "      <td>0</td>\n",
       "    </tr>\n",
       "    <tr>\n",
       "      <th>2015-12-31</th>\n",
       "      <td>555</td>\n",
       "      <td>993</td>\n",
       "      <td>424</td>\n",
       "      <td>0</td>\n",
       "      <td>0</td>\n",
       "    </tr>\n",
       "    <tr>\n",
       "      <th>2016-12-31</th>\n",
       "      <td>326</td>\n",
       "      <td>575</td>\n",
       "      <td>3</td>\n",
       "      <td>284</td>\n",
       "      <td>801</td>\n",
       "    </tr>\n",
       "  </tbody>\n",
       "</table>\n",
       "</div>"
      ],
      "text/plain": [
       "SKU         50012011240  50012011250  50012011340  50012011341  50013000110\n",
       "Date                                                                       \n",
       "2014-12-31          246          406          185            0            0\n",
       "2015-12-31          555          993          424            0            0\n",
       "2016-12-31          326          575            3          284          801"
      ]
     },
     "execution_count": 24,
     "metadata": {},
     "output_type": "execute_result"
    }
   ],
   "source": [
    "SKU_pivot.resample(\"Y\").sum().head()"
   ]
  },
  {
   "cell_type": "markdown",
   "metadata": {},
   "source": [
    "It seems that these 2 SKUs were only introduced in 2016. This is something to note when selecting the data for scatter plots."
   ]
  },
  {
   "cell_type": "code",
   "execution_count": 25,
   "metadata": {},
   "outputs": [],
   "source": [
    "SKU_pivot = SKU_pivot.resample(\"M\").sum()"
   ]
  },
  {
   "cell_type": "markdown",
   "metadata": {},
   "source": [
    "Let's construct a correlation matrix to see which relationships are worth pursuing."
   ]
  },
  {
   "cell_type": "code",
   "execution_count": 26,
   "metadata": {},
   "outputs": [
    {
     "data": {
      "text/plain": [
       "Text(0.5,16,'')"
      ]
     },
     "execution_count": 26,
     "metadata": {},
     "output_type": "execute_result"
    },
    {
     "data": {
      "image/png": "[encoded data removed]",
      "text/plain": [
       "<Figure size 432x288 with 2 Axes>"
      ]
     },
     "metadata": {},
     "output_type": "display_data"
    }
   ],
   "source": [
    "ax = sns.heatmap(SKU_pivot.corr(), cmap=\"YlGnBu\", annot=True)\n",
    "ax.set_title(\"China Imports SKUs Correlation Matrix\", fontsize=14, fontweight=\"bold\", y=1.02)\n",
    "ax.set_ylabel(\"\")\n",
    "ax.set_xlabel(\"\")"
   ]
  },
  {
   "cell_type": "markdown",
   "metadata": {},
   "source": [
    "There are 3 relationships worth pursuing: 50012011240 vs 50013000110, 50012011250 vs 50012011340 and 50012011340 vs 50012011341. Two of these involve SKUs which began to be sold in 2016, so we should take that into account. Let's now visualise these relationships."
   ]
  },
  {
   "cell_type": "code",
   "execution_count": 27,
   "metadata": {},
   "outputs": [
    {
     "data": {
      "image/png": "[encoded data removed]",
      "text/plain": [
       "<Figure size 648x216 with 3 Axes>"
      ]
     },
     "metadata": {},
     "output_type": "display_data"
    }
   ],
   "source": [
    "sns.set_palette(\"colorblind\", 12)\n",
    "\n",
    "fig, axes = plt.subplots(nrows=1, ncols=3)\n",
    "\n",
    "ax1 = SKU_pivot.plot(50012011340, 50012011341, kind=\"scatter\", ax=axes[0], figsize=(9,3))\n",
    "ax2 = SKU_pivot.plot(50012011340, 50012011250, kind=\"scatter\", ax=axes[1])\n",
    "ax3 = SKU_pivot.plot(50012011240, 50013000110, kind=\"scatter\", ax=axes[2])\n",
    "\n",
    "ax1.tick_params(axis='both', which='both', bottom=False, top=False, labelbottom=False, labelleft=False, rotation=90)\n",
    "ax2.tick_params(axis='both', which='both', bottom=False, top=False, labelbottom=False, labelleft=False, rotation=90)\n",
    "ax3.tick_params(axis='both', which='both', bottom=False, top=False, labelbottom=False, labelleft=False, rotation=90)\n",
    "fig.suptitle(\"China Imports Scatter Plots\", fontsize=16, fontweight=\"bold\", y=1.02)\n",
    "\n",
    "sns.despine(top=True, right=True, left=False, bottom=False, ax=ax1)\n",
    "sns.despine(top=True, right=True, left=False, bottom=False, ax=ax2)\n",
    "sns.despine(top=True, right=True, left=False, bottom=False, ax=ax3)\n",
    "\n",
    "plt.tight_layout()"
   ]
  },
  {
   "cell_type": "markdown",
   "metadata": {},
   "source": [
    "For 50012011340 vs. 50012011341, the high -0.87 correlation coefficient is not a straightline at all, but rather a curve. There is a vertical column of values right at the beginning when 50012011340 = 0, and a horizontal row when 50012011341 = 0. The most likely reason for this is that the 2 products are interchangeable and are substituted for one another at any given time. So when the sales of one is zero, the other ones are booming.\n",
    "\n",
    "For 50012011240 vs 50013000110, the plot suggests that there is no linear relationship between the sales of these 2 SKUs. The correlation coefficient is probably exaggerated due to the outlier in the top right corner.\n",
    "\n",
    "Lastly, 50012011340 vs. 50012011250 has random points all over its graph. There is no significant relationship between these values."
   ]
  },
  {
   "cell_type": "markdown",
   "metadata": {},
   "source": [
    "### 4. TinyCo is thinking of running a one day promo on each week – which day of the week makes the most sense for each store?"
   ]
  },
  {
   "cell_type": "markdown",
   "metadata": {},
   "source": [
    "To answer this question, we can strip off \"day of week\" from our dateindex, then proceed to group by it, aggregating over average."
   ]
  },
  {
   "cell_type": "code",
   "execution_count": 28,
   "metadata": {},
   "outputs": [],
   "source": [
    "Store_312[\"Day of week\"] = Store_312.index.strftime(\"%a\")"
   ]
  },
  {
   "cell_type": "code",
   "execution_count": 29,
   "metadata": {},
   "outputs": [
    {
     "data": {
      "text/html": [
       "<div>\n",
       "<style scoped>\n",
       "    .dataframe tbody tr th:only-of-type {\n",
       "        vertical-align: middle;\n",
       "    }\n",
       "\n",
       "    .dataframe tbody tr th {\n",
       "        vertical-align: top;\n",
       "    }\n",
       "\n",
       "    .dataframe thead th {\n",
       "        text-align: right;\n",
       "    }\n",
       "</style>\n",
       "<table border=\"1\" class=\"dataframe\">\n",
       "  <thead>\n",
       "    <tr style=\"text-align: right;\">\n",
       "      <th></th>\n",
       "      <th>SKU</th>\n",
       "      <th>Unit Sales</th>\n",
       "      <th>Dollar Sales</th>\n",
       "      <th>Month</th>\n",
       "      <th>Day of week</th>\n",
       "    </tr>\n",
       "    <tr>\n",
       "      <th>Date</th>\n",
       "      <th></th>\n",
       "      <th></th>\n",
       "      <th></th>\n",
       "      <th></th>\n",
       "      <th></th>\n",
       "    </tr>\n",
       "  </thead>\n",
       "  <tbody>\n",
       "    <tr>\n",
       "      <th>2014-08-04</th>\n",
       "      <td>50012011250</td>\n",
       "      <td>3</td>\n",
       "      <td>29.97</td>\n",
       "      <td>Aug</td>\n",
       "      <td>Mon</td>\n",
       "    </tr>\n",
       "    <tr>\n",
       "      <th>2014-08-05</th>\n",
       "      <td>50012011250</td>\n",
       "      <td>2</td>\n",
       "      <td>19.98</td>\n",
       "      <td>Aug</td>\n",
       "      <td>Tue</td>\n",
       "    </tr>\n",
       "    <tr>\n",
       "      <th>2014-08-06</th>\n",
       "      <td>50012011250</td>\n",
       "      <td>5</td>\n",
       "      <td>49.95</td>\n",
       "      <td>Aug</td>\n",
       "      <td>Wed</td>\n",
       "    </tr>\n",
       "    <tr>\n",
       "      <th>2014-08-07</th>\n",
       "      <td>50012011250</td>\n",
       "      <td>3</td>\n",
       "      <td>29.97</td>\n",
       "      <td>Aug</td>\n",
       "      <td>Thu</td>\n",
       "    </tr>\n",
       "    <tr>\n",
       "      <th>2014-08-08</th>\n",
       "      <td>50012011250</td>\n",
       "      <td>7</td>\n",
       "      <td>69.93</td>\n",
       "      <td>Aug</td>\n",
       "      <td>Fri</td>\n",
       "    </tr>\n",
       "  </tbody>\n",
       "</table>\n",
       "</div>"
      ],
      "text/plain": [
       "                    SKU  Unit Sales  Dollar Sales Month Day of week\n",
       "Date                                                               \n",
       "2014-08-04  50012011250           3         29.97   Aug         Mon\n",
       "2014-08-05  50012011250           2         19.98   Aug         Tue\n",
       "2014-08-06  50012011250           5         49.95   Aug         Wed\n",
       "2014-08-07  50012011250           3         29.97   Aug         Thu\n",
       "2014-08-08  50012011250           7         69.93   Aug         Fri"
      ]
     },
     "execution_count": 29,
     "metadata": {},
     "output_type": "execute_result"
    }
   ],
   "source": [
    "Store_312.head()"
   ]
  },
  {
   "cell_type": "code",
   "execution_count": 30,
   "metadata": {},
   "outputs": [
    {
     "data": {
      "text/html": [
       "<div>\n",
       "<style scoped>\n",
       "    .dataframe tbody tr th:only-of-type {\n",
       "        vertical-align: middle;\n",
       "    }\n",
       "\n",
       "    .dataframe tbody tr th {\n",
       "        vertical-align: top;\n",
       "    }\n",
       "\n",
       "    .dataframe thead th {\n",
       "        text-align: right;\n",
       "    }\n",
       "</style>\n",
       "<table border=\"1\" class=\"dataframe\">\n",
       "  <thead>\n",
       "    <tr style=\"text-align: right;\">\n",
       "      <th></th>\n",
       "      <th>Unit Sales</th>\n",
       "    </tr>\n",
       "    <tr>\n",
       "      <th>Day of week</th>\n",
       "      <th></th>\n",
       "    </tr>\n",
       "  </thead>\n",
       "  <tbody>\n",
       "    <tr>\n",
       "      <th>Wed</th>\n",
       "      <td>3.527581</td>\n",
       "    </tr>\n",
       "    <tr>\n",
       "      <th>Mon</th>\n",
       "      <td>4.632653</td>\n",
       "    </tr>\n",
       "    <tr>\n",
       "      <th>Tue</th>\n",
       "      <td>4.657609</td>\n",
       "    </tr>\n",
       "    <tr>\n",
       "      <th>Thu</th>\n",
       "      <td>4.775244</td>\n",
       "    </tr>\n",
       "    <tr>\n",
       "      <th>Fri</th>\n",
       "      <td>8.580817</td>\n",
       "    </tr>\n",
       "    <tr>\n",
       "      <th>Sat</th>\n",
       "      <td>9.711645</td>\n",
       "    </tr>\n",
       "  </tbody>\n",
       "</table>\n",
       "</div>"
      ],
      "text/plain": [
       "             Unit Sales\n",
       "Day of week            \n",
       "Wed            3.527581\n",
       "Mon            4.632653\n",
       "Tue            4.657609\n",
       "Thu            4.775244\n",
       "Fri            8.580817\n",
       "Sat            9.711645"
      ]
     },
     "execution_count": 30,
     "metadata": {},
     "output_type": "execute_result"
    }
   ],
   "source": [
    "Store_312.pivot_table(values=\"Unit Sales\", index=\"Day of week\", aggfunc=\"mean\").sort_values(\"Unit Sales\", ascending=True)"
   ]
  },
  {
   "cell_type": "markdown",
   "metadata": {},
   "source": [
    "**Wednesday** is the day that Store 312 should run a promotion on since it's the day with the least sales on average."
   ]
  },
  {
   "cell_type": "markdown",
   "metadata": {},
   "source": [
    "### 5. How do Unit Sales change over time?"
   ]
  },
  {
   "cell_type": "markdown",
   "metadata": {},
   "source": [
    "The model we're going to build in this project is meant to project future sales of our SKUs so that we can then plan accordingly. To do this, we'll need to know what our data looks like. Before we build the model, we can explore the data for how Unit Sales of SKUs change over time, and how specific SKUs behave in certain time periods.\n",
    "\n",
    "To begin with, let's plot a simple time series of total Unit Sales over the given time period."
   ]
  },
  {
   "cell_type": "code",
   "execution_count": 31,
   "metadata": {},
   "outputs": [
    {
     "data": {
      "image/png": "[encoded data removed]",
      "text/plain": [
       "<Figure size 1080x432 with 1 Axes>"
      ]
     },
     "metadata": {},
     "output_type": "display_data"
    }
   ],
   "source": [
    "sns.set_style(\"white\")\n",
    "sns.set_palette(\"muted\", 12)\n",
    "\n",
    "plt.figure(figsize=(15,6))\n",
    "ax = Store_312[\"Unit Sales\"].plot(linewidth=0.5)\n",
    "ax.set_title(\"Aug 2014 - Sep 2016 Unit Sales for Store 312\", fontsize=14, fontweight=\"bold\")\n",
    "ax.xaxis.set_major_locator(mdates.MonthLocator())\n",
    "ax.xaxis.set_major_formatter(mdates.DateFormatter('%b %y'))\n",
    "plt.xticks(rotation=90)\n",
    "\n",
    "sns.despine(top=True, right=True, left=True, bottom=True, ax=ax)\n",
    "plt.show()"
   ]
  },
  {
   "cell_type": "markdown",
   "metadata": {},
   "source": [
    "The time series above is a plot for daily unit sales between Aug 2014 and Sep 2016. The spikes represent the sales on that particular day.\n",
    "\n",
    "What's immediately noticeable are some spikes pointing downwards instead of upwards. These are the returns that we spoke of earlier. They are recorded as negative sales.\n",
    "\n",
    "Another interesting observation is the peak spikes, as well as their frequency. To investigate those further, we can plot the time series as a dot plot to seperate the lower values from the peaking values.\\"
   ]
  },
  {
   "cell_type": "code",
   "execution_count": 32,
   "metadata": {},
   "outputs": [
    {
     "data": {
      "image/png": "[encoded data removed]",
      "text/plain": [
       "<Figure size 1080x432 with 1 Axes>"
      ]
     },
     "metadata": {},
     "output_type": "display_data"
    }
   ],
   "source": [
    "sns.set_style(\"white\")\n",
    "sns.set_palette(\"muted\", 12)\n",
    "\n",
    "plt.figure(figsize=(15,6))\n",
    "ax = Store_312[\"Unit Sales\"].plot(marker='.', alpha=0.5, linestyle='None')\n",
    "\n",
    "ax.set_title(\"Aug 2014 - Sep 2016 Unit Sales for Store 312 (Dot TS)\", fontsize=14, fontweight=\"bold\")\n",
    "ax.xaxis.set_major_locator(mdates.MonthLocator())\n",
    "ax.xaxis.set_major_formatter(mdates.DateFormatter('%b %y'))\n",
    "plt.xticks(rotation=90)\n",
    "\n",
    "sns.despine(top=True, right=True, left=True, bottom=True, ax=ax)\n",
    "sns.set_palette(\"husl\")\n",
    "plt.show()"
   ]
  },
  {
   "cell_type": "markdown",
   "metadata": {},
   "source": [
    "We can now see more clearly that there are 3 noticeable clusters in our graph.\n",
    "\n",
    " - The first one, which is the bottom one, consists of sales that are mostly below 5/batch.\n",
    " - The second, which is the one just above the first, consists of sales mostly between 5 and 15 in a batch.\n",
    " - The third one is the one which contains the peak sales. This one consists of sales above 25 a batch.\n",
    " \n",
    "We can see some very interesting patterns from that graph. Cluster 1 mostly remains constant over the years. However, cluster 2 somewhat decreases in intensity around Oct 2015. The converse occurs for cluster 3 - it begins to increase in intensity during the same period going forward.\n",
    "\n",
    "Let's look at subsets of these clusters and see if there's anything unique about them."
   ]
  },
  {
   "cell_type": "markdown",
   "metadata": {},
   "source": [
    "#### Cluster1"
   ]
  },
  {
   "cell_type": "code",
   "execution_count": 33,
   "metadata": {},
   "outputs": [
    {
     "data": {
      "text/html": [
       "<div>\n",
       "<style scoped>\n",
       "    .dataframe tbody tr th:only-of-type {\n",
       "        vertical-align: middle;\n",
       "    }\n",
       "\n",
       "    .dataframe tbody tr th {\n",
       "        vertical-align: top;\n",
       "    }\n",
       "\n",
       "    .dataframe thead th {\n",
       "        text-align: right;\n",
       "    }\n",
       "</style>\n",
       "<table border=\"1\" class=\"dataframe\">\n",
       "  <thead>\n",
       "    <tr style=\"text-align: right;\">\n",
       "      <th></th>\n",
       "      <th>SKU</th>\n",
       "      <th>Unit Sales</th>\n",
       "      <th>Dollar Sales</th>\n",
       "      <th>Month</th>\n",
       "      <th>Day of week</th>\n",
       "    </tr>\n",
       "    <tr>\n",
       "      <th>Date</th>\n",
       "      <th></th>\n",
       "      <th></th>\n",
       "      <th></th>\n",
       "      <th></th>\n",
       "      <th></th>\n",
       "    </tr>\n",
       "  </thead>\n",
       "  <tbody>\n",
       "    <tr>\n",
       "      <th>2014-08-04</th>\n",
       "      <td>50012011250</td>\n",
       "      <td>3</td>\n",
       "      <td>29.97</td>\n",
       "      <td>Aug</td>\n",
       "      <td>Mon</td>\n",
       "    </tr>\n",
       "    <tr>\n",
       "      <th>2014-08-05</th>\n",
       "      <td>50012011250</td>\n",
       "      <td>2</td>\n",
       "      <td>19.98</td>\n",
       "      <td>Aug</td>\n",
       "      <td>Tue</td>\n",
       "    </tr>\n",
       "    <tr>\n",
       "      <th>2014-08-07</th>\n",
       "      <td>50012011250</td>\n",
       "      <td>3</td>\n",
       "      <td>29.97</td>\n",
       "      <td>Aug</td>\n",
       "      <td>Thu</td>\n",
       "    </tr>\n",
       "    <tr>\n",
       "      <th>2014-08-09</th>\n",
       "      <td>50012011250</td>\n",
       "      <td>4</td>\n",
       "      <td>39.96</td>\n",
       "      <td>Aug</td>\n",
       "      <td>Sat</td>\n",
       "    </tr>\n",
       "    <tr>\n",
       "      <th>2014-08-11</th>\n",
       "      <td>50012011250</td>\n",
       "      <td>4</td>\n",
       "      <td>39.96</td>\n",
       "      <td>Aug</td>\n",
       "      <td>Mon</td>\n",
       "    </tr>\n",
       "  </tbody>\n",
       "</table>\n",
       "</div>"
      ],
      "text/plain": [
       "                    SKU  Unit Sales  Dollar Sales Month Day of week\n",
       "Date                                                               \n",
       "2014-08-04  50012011250           3         29.97   Aug         Mon\n",
       "2014-08-05  50012011250           2         19.98   Aug         Tue\n",
       "2014-08-07  50012011250           3         29.97   Aug         Thu\n",
       "2014-08-09  50012011250           4         39.96   Aug         Sat\n",
       "2014-08-11  50012011250           4         39.96   Aug         Mon"
      ]
     },
     "execution_count": 33,
     "metadata": {},
     "output_type": "execute_result"
    }
   ],
   "source": [
    "cluster1 = Store_312.loc[Store_312[\"Unit Sales\"]<5]\n",
    "cluster1.head()"
   ]
  },
  {
   "cell_type": "code",
   "execution_count": 34,
   "metadata": {},
   "outputs": [
    {
     "name": "stdout",
     "output_type": "stream",
     "text": [
      "(3565, 5)\n",
      "(2618, 5)\n"
     ]
    }
   ],
   "source": [
    "print(Store_312.shape)\n",
    "print(cluster1.shape)"
   ]
  },
  {
   "cell_type": "code",
   "execution_count": 35,
   "metadata": {},
   "outputs": [
    {
     "name": "stdout",
     "output_type": "stream",
     "text": [
      "These are the unique SKUs in cluster1:\n",
      " [50012011250 50012011340 50012011341  8000451112  7312455530  7312455520\n",
      "  8000520021 50012011240]\n",
      "The number of unique SKUs in cluster1 is 8\n",
      "Store_312 has a set of unique SKUs with a length of 9\n"
     ]
    }
   ],
   "source": [
    "print(\"These are the unique SKUs in cluster1:\\n {}\".format(cluster1.SKU.unique()))\n",
    "print(\"The number of unique SKUs in cluster1 is {}\".format(len(cluster1.SKU.unique())))\n",
    "print(\"Store_312 has a set of unique SKUs with a length of {}\".format(len(Store_312.SKU.unique())))"
   ]
  },
  {
   "cell_type": "markdown",
   "metadata": {},
   "source": [
    "It seams that this cluster has all the SKUs from Store_312 bar 1. Let's find out which one it is."
   ]
  },
  {
   "cell_type": "code",
   "execution_count": 36,
   "metadata": {},
   "outputs": [
    {
     "data": {
      "text/plain": [
       "{50013000110}"
      ]
     },
     "execution_count": 36,
     "metadata": {},
     "output_type": "execute_result"
    }
   ],
   "source": [
    "set(Store_312.SKU.unique()) - set(cluster1.SKU.unique())"
   ]
  },
  {
   "cell_type": "markdown",
   "metadata": {},
   "source": [
    "It seems as if SKU 50013000110 does not encounter purchases below 5 units.\n",
    "\n",
    "Let's plot a doughnut to see what share our cluster1 SKUs have."
   ]
  },
  {
   "cell_type": "code",
   "execution_count": 37,
   "metadata": {},
   "outputs": [],
   "source": [
    "Pop1 = cluster1.pivot_table(values=\"Unit Sales\", index=\"SKU\", aggfunc=\"sum\").sort_values(\"Unit Sales\", ascending=False)"
   ]
  },
  {
   "cell_type": "code",
   "execution_count": 38,
   "metadata": {},
   "outputs": [
    {
     "data": {
      "text/html": [
       "<div>\n",
       "<style scoped>\n",
       "    .dataframe tbody tr th:only-of-type {\n",
       "        vertical-align: middle;\n",
       "    }\n",
       "\n",
       "    .dataframe tbody tr th {\n",
       "        vertical-align: top;\n",
       "    }\n",
       "\n",
       "    .dataframe thead th {\n",
       "        text-align: right;\n",
       "    }\n",
       "</style>\n",
       "<table border=\"1\" class=\"dataframe\">\n",
       "  <thead>\n",
       "    <tr style=\"text-align: right;\">\n",
       "      <th></th>\n",
       "      <th>Unit Sales</th>\n",
       "      <th>Percentage</th>\n",
       "    </tr>\n",
       "    <tr>\n",
       "      <th>SKU</th>\n",
       "      <th></th>\n",
       "      <th></th>\n",
       "    </tr>\n",
       "  </thead>\n",
       "  <tbody>\n",
       "    <tr>\n",
       "      <th>50012011250</th>\n",
       "      <td>1027</td>\n",
       "      <td>18.471223</td>\n",
       "    </tr>\n",
       "    <tr>\n",
       "      <th>50012011240</th>\n",
       "      <td>939</td>\n",
       "      <td>16.888489</td>\n",
       "    </tr>\n",
       "    <tr>\n",
       "      <th>7312455530</th>\n",
       "      <td>906</td>\n",
       "      <td>16.294964</td>\n",
       "    </tr>\n",
       "  </tbody>\n",
       "</table>\n",
       "</div>"
      ],
      "text/plain": [
       "             Unit Sales  Percentage\n",
       "SKU                                \n",
       "50012011250        1027   18.471223\n",
       "50012011240         939   16.888489\n",
       "7312455530          906   16.294964"
      ]
     },
     "execution_count": 38,
     "metadata": {},
     "output_type": "execute_result"
    }
   ],
   "source": [
    "Pop1['Percentage'] = (Pop1['Unit Sales']/Pop1['Unit Sales'].sum())*100\n",
    "Pop1.head(3)"
   ]
  },
  {
   "cell_type": "code",
   "execution_count": 39,
   "metadata": {},
   "outputs": [
    {
     "data": {
      "image/png": "[encoded data removed]",
      "text/plain": [
       "<Figure size 648x360 with 1 Axes>"
      ]
     },
     "metadata": {},
     "output_type": "display_data"
    }
   ],
   "source": [
    "sns.set_palette(\"colorblind\", 12)\n",
    "\n",
    "fig, ax = plt.subplots(figsize=(9,5))\n",
    "\n",
    "fig.suptitle(\"Cluster 1 SKU Share Percentage\", fontsize=16, fontweight=\"bold\", y=1.02)\n",
    "\n",
    "patches, texts = plt.pie(Pop1.Percentage, startangle=90, radius=1.2)\n",
    "labels = ['{0} - {1:1.2f} %'.format(i,j) for i,j in zip(Pop1.index, Pop1.Percentage)]\n",
    "\n",
    "sort_legend = True\n",
    "if sort_legend:\n",
    "    patches, labels, dummy =  zip(*sorted(zip(patches, labels, Pop1.Percentage),\n",
    "                                          key=lambda x: x[2],\n",
    "                                          reverse=True))\n",
    "\n",
    "#draw circle\n",
    "centre_circle = plt.Circle((0,0),0.70,fc='white')\n",
    "fig = plt.gcf()\n",
    "fig.gca().add_artist(centre_circle)\n",
    "# Equal aspect ratio ensures that pie is drawn as a circle\n",
    "ax.axis('equal')    \n",
    "    \n",
    "plt.legend(patches, labels, loc='best', bbox_to_anchor=(-0.1, 1.),\n",
    "           fontsize=12)\n",
    "\n",
    "plt.show()"
   ]
  },
  {
   "cell_type": "markdown",
   "metadata": {},
   "source": [
    "Quite an interesting discovery we've got ourselves here. It seems that the SKU which tops sales overall from our earlier analysis, 8000451112, is not the one leading the pack here. In fact, it's second from last. Quite a fall from glory. In this subset, at least.\n",
    "\n",
    "The 2 leading SKUs here are actually the ones from the vendor \"China Imports\". In this cluster, the sales of all SKUs from the vendor \"China Imports\" actually make up 50% of all sales.\n",
    "\n",
    "As we've already noted, this cluster is the most intense of all the 3 clusters. This translates to sales from the vendor \"China Imports\" being among the most frequently purchased, albeit in small amounts. From a Supply Chain perspective, this means that the logistics of getting these stocks has to be made as efficient as possible. Making a presumption from the name \"China Imports\", if the products are indeed being imported from China, factors such as lead times have to be considered."
   ]
  },
  {
   "cell_type": "markdown",
   "metadata": {},
   "source": [
    "#### Cluster2"
   ]
  },
  {
   "cell_type": "code",
   "execution_count": 40,
   "metadata": {},
   "outputs": [
    {
     "data": {
      "text/html": [
       "<div>\n",
       "<style scoped>\n",
       "    .dataframe tbody tr th:only-of-type {\n",
       "        vertical-align: middle;\n",
       "    }\n",
       "\n",
       "    .dataframe tbody tr th {\n",
       "        vertical-align: top;\n",
       "    }\n",
       "\n",
       "    .dataframe thead th {\n",
       "        text-align: right;\n",
       "    }\n",
       "</style>\n",
       "<table border=\"1\" class=\"dataframe\">\n",
       "  <thead>\n",
       "    <tr style=\"text-align: right;\">\n",
       "      <th></th>\n",
       "      <th>SKU</th>\n",
       "      <th>Unit Sales</th>\n",
       "      <th>Dollar Sales</th>\n",
       "      <th>Month</th>\n",
       "      <th>Day of week</th>\n",
       "    </tr>\n",
       "    <tr>\n",
       "      <th>Date</th>\n",
       "      <th></th>\n",
       "      <th></th>\n",
       "      <th></th>\n",
       "      <th></th>\n",
       "      <th></th>\n",
       "    </tr>\n",
       "  </thead>\n",
       "  <tbody>\n",
       "    <tr>\n",
       "      <th>2014-08-06</th>\n",
       "      <td>50012011250</td>\n",
       "      <td>5</td>\n",
       "      <td>49.95</td>\n",
       "      <td>Aug</td>\n",
       "      <td>Wed</td>\n",
       "    </tr>\n",
       "    <tr>\n",
       "      <th>2014-08-08</th>\n",
       "      <td>50012011250</td>\n",
       "      <td>7</td>\n",
       "      <td>69.93</td>\n",
       "      <td>Aug</td>\n",
       "      <td>Fri</td>\n",
       "    </tr>\n",
       "    <tr>\n",
       "      <th>2014-08-19</th>\n",
       "      <td>50012011250</td>\n",
       "      <td>6</td>\n",
       "      <td>59.94</td>\n",
       "      <td>Aug</td>\n",
       "      <td>Tue</td>\n",
       "    </tr>\n",
       "    <tr>\n",
       "      <th>2014-08-20</th>\n",
       "      <td>50012011250</td>\n",
       "      <td>5</td>\n",
       "      <td>49.95</td>\n",
       "      <td>Aug</td>\n",
       "      <td>Wed</td>\n",
       "    </tr>\n",
       "    <tr>\n",
       "      <th>2014-08-25</th>\n",
       "      <td>50012011250</td>\n",
       "      <td>5</td>\n",
       "      <td>49.95</td>\n",
       "      <td>Aug</td>\n",
       "      <td>Mon</td>\n",
       "    </tr>\n",
       "  </tbody>\n",
       "</table>\n",
       "</div>"
      ],
      "text/plain": [
       "                    SKU  Unit Sales  Dollar Sales Month Day of week\n",
       "Date                                                               \n",
       "2014-08-06  50012011250           5         49.95   Aug         Wed\n",
       "2014-08-08  50012011250           7         69.93   Aug         Fri\n",
       "2014-08-19  50012011250           6         59.94   Aug         Tue\n",
       "2014-08-20  50012011250           5         49.95   Aug         Wed\n",
       "2014-08-25  50012011250           5         49.95   Aug         Mon"
      ]
     },
     "execution_count": 40,
     "metadata": {},
     "output_type": "execute_result"
    }
   ],
   "source": [
    "cluster2 = Store_312[(Store_312[\"Unit Sales\"]>=5) & (Store_312[\"Unit Sales\"]<15)]\n",
    "cluster2.head()"
   ]
  },
  {
   "cell_type": "code",
   "execution_count": 41,
   "metadata": {},
   "outputs": [
    {
     "name": "stdout",
     "output_type": "stream",
     "text": [
      "(3565, 5)\n",
      "(650, 5)\n"
     ]
    }
   ],
   "source": [
    "print(Store_312.shape)\n",
    "print(cluster2.shape)"
   ]
  },
  {
   "cell_type": "code",
   "execution_count": 42,
   "metadata": {},
   "outputs": [
    {
     "name": "stdout",
     "output_type": "stream",
     "text": [
      "These are the unique SKUs in cluster2:\n",
      " [50012011250 50012011340 50012011341  8000451112  7312455530  8000520021\n",
      " 50012011240]\n",
      "The number of unique SKUs in cluster2 is 7\n",
      "Store_312 has a set of unique SKUs with a length of 9\n"
     ]
    }
   ],
   "source": [
    "print(\"These are the unique SKUs in cluster2:\\n {}\".format(cluster2.SKU.unique()))\n",
    "print(\"The number of unique SKUs in cluster2 is {}\".format(len(cluster2.SKU.unique())))\n",
    "print(\"Store_312 has a set of unique SKUs with a length of {}\".format(len(Store_312.SKU.unique())))"
   ]
  },
  {
   "cell_type": "markdown",
   "metadata": {},
   "source": [
    "It seams that this cluster has all the SKUs from Store_312 bar 2. Let's find out which one it is."
   ]
  },
  {
   "cell_type": "code",
   "execution_count": 43,
   "metadata": {},
   "outputs": [
    {
     "data": {
      "text/plain": [
       "{7312455520, 50013000110}"
      ]
     },
     "execution_count": 43,
     "metadata": {},
     "output_type": "execute_result"
    }
   ],
   "source": [
    "set(Store_312.SKU.unique()) - set(cluster2.SKU.unique())"
   ]
  },
  {
   "cell_type": "markdown",
   "metadata": {},
   "source": [
    "The same SKU missing from cluster1 is also missing from cluster2 - very interesting. In addition to this SKU, 7312455520 is also missing.\n",
    "\n",
    "Let's also plot a doughnut here to see the share of sales by SKU in this cluster."
   ]
  },
  {
   "cell_type": "code",
   "execution_count": 44,
   "metadata": {},
   "outputs": [],
   "source": [
    "Pop2 = cluster2.pivot_table(values=\"Unit Sales\", index=\"SKU\", aggfunc=\"sum\").sort_values(\"Unit Sales\", ascending=False)"
   ]
  },
  {
   "cell_type": "code",
   "execution_count": 45,
   "metadata": {},
   "outputs": [
    {
     "data": {
      "text/html": [
       "<div>\n",
       "<style scoped>\n",
       "    .dataframe tbody tr th:only-of-type {\n",
       "        vertical-align: middle;\n",
       "    }\n",
       "\n",
       "    .dataframe tbody tr th {\n",
       "        vertical-align: top;\n",
       "    }\n",
       "\n",
       "    .dataframe thead th {\n",
       "        text-align: right;\n",
       "    }\n",
       "</style>\n",
       "<table border=\"1\" class=\"dataframe\">\n",
       "  <thead>\n",
       "    <tr style=\"text-align: right;\">\n",
       "      <th></th>\n",
       "      <th>Unit Sales</th>\n",
       "      <th>Percentage</th>\n",
       "    </tr>\n",
       "    <tr>\n",
       "      <th>SKU</th>\n",
       "      <th></th>\n",
       "      <th></th>\n",
       "    </tr>\n",
       "  </thead>\n",
       "  <tbody>\n",
       "    <tr>\n",
       "      <th>8000451112</th>\n",
       "      <td>1911</td>\n",
       "      <td>36.948956</td>\n",
       "    </tr>\n",
       "    <tr>\n",
       "      <th>8000520021</th>\n",
       "      <td>1813</td>\n",
       "      <td>35.054138</td>\n",
       "    </tr>\n",
       "    <tr>\n",
       "      <th>50012011250</th>\n",
       "      <td>947</td>\n",
       "      <td>18.310131</td>\n",
       "    </tr>\n",
       "  </tbody>\n",
       "</table>\n",
       "</div>"
      ],
      "text/plain": [
       "             Unit Sales  Percentage\n",
       "SKU                                \n",
       "8000451112         1911   36.948956\n",
       "8000520021         1813   35.054138\n",
       "50012011250         947   18.310131"
      ]
     },
     "execution_count": 45,
     "metadata": {},
     "output_type": "execute_result"
    }
   ],
   "source": [
    "Pop2['Percentage'] = (Pop2['Unit Sales']/Pop2['Unit Sales'].sum())*100\n",
    "Pop2.head(3)"
   ]
  },
  {
   "cell_type": "code",
   "execution_count": 46,
   "metadata": {},
   "outputs": [
    {
     "data": {
      "image/png": "[encoded data removed]",
      "text/plain": [
       "<Figure size 648x360 with 1 Axes>"
      ]
     },
     "metadata": {},
     "output_type": "display_data"
    }
   ],
   "source": [
    "sns.set_palette(\"colorblind\", 12)\n",
    "\n",
    "fig, ax = plt.subplots(figsize=(9,5))\n",
    "\n",
    "fig.suptitle(\"Cluster 2 SKU Share Percentage\", fontsize=16, fontweight=\"bold\", y=1.02)\n",
    "\n",
    "patches, texts = plt.pie(Pop2.Percentage, startangle=90, radius=1.2)\n",
    "labels = ['{0} - {1:1.2f} %'.format(i,j) for i,j in zip(Pop2.index, Pop2.Percentage)]\n",
    "\n",
    "sort_legend = True\n",
    "if sort_legend:\n",
    "    patches, labels, dummy =  zip(*sorted(zip(patches, labels, Pop2.Percentage),\n",
    "                                          key=lambda x: x[2],\n",
    "                                          reverse=True))\n",
    "\n",
    "#draw circle\n",
    "centre_circle = plt.Circle((0,0),0.70,fc='white')\n",
    "fig = plt.gcf()\n",
    "fig.gca().add_artist(centre_circle)\n",
    "# Equal aspect ratio ensures that pie is drawn as a circle\n",
    "ax.axis('equal')    \n",
    "    \n",
    "plt.legend(patches, labels, loc='best', bbox_to_anchor=(-0.1, 1.),\n",
    "           fontsize=12)\n",
    "\n",
    "plt.show()"
   ]
  },
  {
   "cell_type": "markdown",
   "metadata": {},
   "source": [
    "It seems here that if a purchase has between 5 and 15 items, on average, 70% of that basket will contain SKUs from MA Excellent Products."
   ]
  },
  {
   "cell_type": "markdown",
   "metadata": {},
   "source": [
    "#### Cluster3"
   ]
  },
  {
   "cell_type": "code",
   "execution_count": 47,
   "metadata": {},
   "outputs": [
    {
     "data": {
      "text/html": [
       "<div>\n",
       "<style scoped>\n",
       "    .dataframe tbody tr th:only-of-type {\n",
       "        vertical-align: middle;\n",
       "    }\n",
       "\n",
       "    .dataframe tbody tr th {\n",
       "        vertical-align: top;\n",
       "    }\n",
       "\n",
       "    .dataframe thead th {\n",
       "        text-align: right;\n",
       "    }\n",
       "</style>\n",
       "<table border=\"1\" class=\"dataframe\">\n",
       "  <thead>\n",
       "    <tr style=\"text-align: right;\">\n",
       "      <th></th>\n",
       "      <th>SKU</th>\n",
       "      <th>Unit Sales</th>\n",
       "      <th>Dollar Sales</th>\n",
       "      <th>Month</th>\n",
       "      <th>Day of week</th>\n",
       "    </tr>\n",
       "    <tr>\n",
       "      <th>Date</th>\n",
       "      <th></th>\n",
       "      <th></th>\n",
       "      <th></th>\n",
       "      <th></th>\n",
       "      <th></th>\n",
       "    </tr>\n",
       "  </thead>\n",
       "  <tbody>\n",
       "    <tr>\n",
       "      <th>2016-05-02</th>\n",
       "      <td>50013000110</td>\n",
       "      <td>34</td>\n",
       "      <td>441.66</td>\n",
       "      <td>May</td>\n",
       "      <td>Mon</td>\n",
       "    </tr>\n",
       "    <tr>\n",
       "      <th>2016-05-03</th>\n",
       "      <td>50013000110</td>\n",
       "      <td>32</td>\n",
       "      <td>415.68</td>\n",
       "      <td>May</td>\n",
       "      <td>Tue</td>\n",
       "    </tr>\n",
       "    <tr>\n",
       "      <th>2016-05-04</th>\n",
       "      <td>50013000110</td>\n",
       "      <td>23</td>\n",
       "      <td>298.77</td>\n",
       "      <td>May</td>\n",
       "      <td>Wed</td>\n",
       "    </tr>\n",
       "    <tr>\n",
       "      <th>2016-05-05</th>\n",
       "      <td>50013000110</td>\n",
       "      <td>34</td>\n",
       "      <td>441.66</td>\n",
       "      <td>May</td>\n",
       "      <td>Thu</td>\n",
       "    </tr>\n",
       "    <tr>\n",
       "      <th>2016-05-06</th>\n",
       "      <td>50013000110</td>\n",
       "      <td>31</td>\n",
       "      <td>402.69</td>\n",
       "      <td>May</td>\n",
       "      <td>Fri</td>\n",
       "    </tr>\n",
       "  </tbody>\n",
       "</table>\n",
       "</div>"
      ],
      "text/plain": [
       "                    SKU  Unit Sales  Dollar Sales Month Day of week\n",
       "Date                                                               \n",
       "2016-05-02  50013000110          34        441.66   May         Mon\n",
       "2016-05-03  50013000110          32        415.68   May         Tue\n",
       "2016-05-04  50013000110          23        298.77   May         Wed\n",
       "2016-05-05  50013000110          34        441.66   May         Thu\n",
       "2016-05-06  50013000110          31        402.69   May         Fri"
      ]
     },
     "execution_count": 47,
     "metadata": {},
     "output_type": "execute_result"
    }
   ],
   "source": [
    "cluster3 = Store_312[Store_312[\"Unit Sales\"]>15]\n",
    "cluster3.head()"
   ]
  },
  {
   "cell_type": "code",
   "execution_count": 48,
   "metadata": {},
   "outputs": [
    {
     "name": "stdout",
     "output_type": "stream",
     "text": [
      "(3565, 5)\n",
      "(293, 5)\n"
     ]
    }
   ],
   "source": [
    "print(Store_312.shape)\n",
    "print(cluster3.shape)"
   ]
  },
  {
   "cell_type": "code",
   "execution_count": 49,
   "metadata": {},
   "outputs": [
    {
     "name": "stdout",
     "output_type": "stream",
     "text": [
      "These are the unique SKUs in cluster3:\n",
      " [50013000110  8000451112  8000520021]\n",
      "The number of unique SKUs in cluster3 is 3\n",
      "Store_312 has a set of unique SKUs with a length of 9\n"
     ]
    }
   ],
   "source": [
    "print(\"These are the unique SKUs in cluster3:\\n {}\".format(cluster3.SKU.unique()))\n",
    "print(\"The number of unique SKUs in cluster3 is {}\".format(len(cluster3.SKU.unique())))\n",
    "print(\"Store_312 has a set of unique SKUs with a length of {}\".format(len(Store_312.SKU.unique())))"
   ]
  },
  {
   "cell_type": "markdown",
   "metadata": {},
   "source": [
    "Fascinating. Cluster3 only has 3 unique SKUs. The one missing from both clusters 1 & 2 - 50013000110 - as well as 2 others from MA Excellent Products - 8000451112 and 8000520021.\n",
    "\n",
    "From earlier analysis, we can deduce from this insight that 8000451112 is the leading SKU in this cluster."
   ]
  },
  {
   "cell_type": "markdown",
   "metadata": {},
   "source": [
    "#### Percentage share of the clusters"
   ]
  },
  {
   "cell_type": "code",
   "execution_count": 50,
   "metadata": {},
   "outputs": [],
   "source": [
    "labels = [\"Cluster 1: Sales < 5\", \"Cluster 2: 5 <= Sales < 15\", \"Cluster 3: Sales > 15\"]\n",
    "clusters = [cluster1.shape[0], cluster2.shape[0], cluster3.shape[0]]\n",
    "percentages = (np.array(clusters)/Store_312.shape[0]) * 100"
   ]
  },
  {
   "cell_type": "code",
   "execution_count": 51,
   "metadata": {},
   "outputs": [
    {
     "data": {
      "image/png": "[encoded data removed]",
      "text/plain": [
       "<Figure size 432x288 with 1 Axes>"
      ]
     },
     "metadata": {},
     "output_type": "display_data"
    }
   ],
   "source": [
    "sns.set_palette(\"colorblind\", 12)\n",
    "\n",
    "fig3, ax3 = plt.subplots()\n",
    "ax3.pie(percentages, labels=labels, autopct='%1.1f%%', startangle=90)\n",
    "#draw circle\n",
    "centre_circle = plt.Circle((0,0),0.70,fc='white')\n",
    "fig = plt.gcf()\n",
    "fig.gca().add_artist(centre_circle)\n",
    "# Equal aspect ratio ensures that pie is drawn as a circle\n",
    "ax3.axis('equal')\n",
    "ax3.set_title(\"Percentage Shares of different Basket Sizes\", fontweight=\"bold\", fontsize=14)\n",
    "\n",
    "plt.tight_layout()\n",
    "plt.show()"
   ]
  },
  {
   "cell_type": "markdown",
   "metadata": {},
   "source": [
    "**Key take-aways from this exploration**:\n",
    " 1. SKUs from the vendor \"China Imports\" are bought extremely frequently but in basket sizes less than 5.\n",
    " 2. If a basket has a size of products between 5 and 15, they're most likely from MA Excellent Products.\n",
    " 3. A basket size greater than 15 will almost certainly only contain these 3 SKUs: 50013000110, 8000451112 & 8000520021. Although their purchase frequency is nowhere near that of the other 2, it has been steadily increasing over the last 2 years.\n",
    " 4. As the pie chart above shows, in a day,:\n",
    "     - Purchases of items less than 5 make up 73.5% of the entire sales.\n",
    "     - A basket size between 5 and 15 makes up 18.3% of the sales.\n",
    "     - Sales > 15 make up 8.2% of the sales.\n",
    "\n",
    "Basically, the bigger the basket size, the less frequent it is as a purchase."
   ]
  },
  {
   "cell_type": "markdown",
   "metadata": {},
   "source": [
    "_Now to go back to our time series_. We've seen what our data looks like when it is plotted daily, let's plot it in weekly buckets to notice if there's any pattern to weekly purchases."
   ]
  },
  {
   "cell_type": "markdown",
   "metadata": {},
   "source": [
    "### Weekly Seasonality"
   ]
  },
  {
   "cell_type": "code",
   "execution_count": 52,
   "metadata": {},
   "outputs": [
    {
     "data": {
      "image/png": "[encoded data removed]",
      "text/plain": [
       "<Figure size 864x432 with 1 Axes>"
      ]
     },
     "metadata": {},
     "output_type": "display_data"
    }
   ],
   "source": [
    "sns.set_style(\"white\")\n",
    "sns.set_palette(\"husl\", 12)\n",
    "\n",
    "plt.figure(figsize=(12,6))\n",
    "\n",
    "ax = sns.boxplot(data=Store_312, x='Day of week', y='Unit Sales')\n",
    "ax.set_ylabel(\"Unit Sales\")\n",
    "ax.set_xlabel(\"\", fontsize=12)\n",
    "ax.set_title(\"Weekly Sales Pattern\", fontweight=\"bold\", fontsize=14)\n",
    "ax.tick_params(labelsize=11)\n",
    "\n",
    "sns.despine(top=True, right=True, left=True, bottom=True, ax=ax)\n",
    "plt.show()"
   ]
  },
  {
   "cell_type": "markdown",
   "metadata": {},
   "source": [
    "The diagram above is a time series of boxplots of unit sales. Each boxplot shows the spread of sales in a given day for our time period. Because each boxplot groups all the sales on that particular day, we can get an average understanding of how sales behave in a week.\n",
    "\n",
    "From the graph above, we can see that sales are extremely slow on a Monday, with most of them  between 1 and 2. The median sales more or less remain the same throughout the week. However, we can see that the spread of sales is a litlle more far apart on a Wednesday, indicating a wider variety of sales. At the end of the week, Friday and Saturday, sales are extremely spread, indicating higher activity.\n",
    "\n",
    "Apart from Wednesday, the outliers, which we should imagine to be the third cluster we analysed before, remain more or less the same."
   ]
  },
  {
   "cell_type": "markdown",
   "metadata": {},
   "source": [
    "### Yearly Seasonality"
   ]
  },
  {
   "cell_type": "code",
   "execution_count": 53,
   "metadata": {},
   "outputs": [
    {
     "data": {
      "text/html": [
       "<div>\n",
       "<style scoped>\n",
       "    .dataframe tbody tr th:only-of-type {\n",
       "        vertical-align: middle;\n",
       "    }\n",
       "\n",
       "    .dataframe tbody tr th {\n",
       "        vertical-align: top;\n",
       "    }\n",
       "\n",
       "    .dataframe thead th {\n",
       "        text-align: right;\n",
       "    }\n",
       "</style>\n",
       "<table border=\"1\" class=\"dataframe\">\n",
       "  <thead>\n",
       "    <tr style=\"text-align: right;\">\n",
       "      <th></th>\n",
       "      <th>SKU</th>\n",
       "      <th>Unit Sales</th>\n",
       "      <th>Dollar Sales</th>\n",
       "      <th>Month</th>\n",
       "      <th>Day of week</th>\n",
       "      <th>Month_int</th>\n",
       "    </tr>\n",
       "    <tr>\n",
       "      <th>Date</th>\n",
       "      <th></th>\n",
       "      <th></th>\n",
       "      <th></th>\n",
       "      <th></th>\n",
       "      <th></th>\n",
       "      <th></th>\n",
       "    </tr>\n",
       "  </thead>\n",
       "  <tbody>\n",
       "    <tr>\n",
       "      <th>2014-08-04</th>\n",
       "      <td>50012011250</td>\n",
       "      <td>3</td>\n",
       "      <td>29.97</td>\n",
       "      <td>Aug</td>\n",
       "      <td>Mon</td>\n",
       "      <td>08</td>\n",
       "    </tr>\n",
       "    <tr>\n",
       "      <th>2014-08-05</th>\n",
       "      <td>50012011250</td>\n",
       "      <td>2</td>\n",
       "      <td>19.98</td>\n",
       "      <td>Aug</td>\n",
       "      <td>Tue</td>\n",
       "      <td>08</td>\n",
       "    </tr>\n",
       "    <tr>\n",
       "      <th>2014-08-06</th>\n",
       "      <td>50012011250</td>\n",
       "      <td>5</td>\n",
       "      <td>49.95</td>\n",
       "      <td>Aug</td>\n",
       "      <td>Wed</td>\n",
       "      <td>08</td>\n",
       "    </tr>\n",
       "    <tr>\n",
       "      <th>2014-08-07</th>\n",
       "      <td>50012011250</td>\n",
       "      <td>3</td>\n",
       "      <td>29.97</td>\n",
       "      <td>Aug</td>\n",
       "      <td>Thu</td>\n",
       "      <td>08</td>\n",
       "    </tr>\n",
       "    <tr>\n",
       "      <th>2014-08-08</th>\n",
       "      <td>50012011250</td>\n",
       "      <td>7</td>\n",
       "      <td>69.93</td>\n",
       "      <td>Aug</td>\n",
       "      <td>Fri</td>\n",
       "      <td>08</td>\n",
       "    </tr>\n",
       "  </tbody>\n",
       "</table>\n",
       "</div>"
      ],
      "text/plain": [
       "                    SKU  Unit Sales  Dollar Sales Month Day of week Month_int\n",
       "Date                                                                         \n",
       "2014-08-04  50012011250           3         29.97   Aug         Mon        08\n",
       "2014-08-05  50012011250           2         19.98   Aug         Tue        08\n",
       "2014-08-06  50012011250           5         49.95   Aug         Wed        08\n",
       "2014-08-07  50012011250           3         29.97   Aug         Thu        08\n",
       "2014-08-08  50012011250           7         69.93   Aug         Fri        08"
      ]
     },
     "execution_count": 53,
     "metadata": {},
     "output_type": "execute_result"
    }
   ],
   "source": [
    "Store_312[\"Month_int\"] = Store_312.index.strftime(\"%m\")\n",
    "Store_312.head()"
   ]
  },
  {
   "cell_type": "code",
   "execution_count": 54,
   "metadata": {},
   "outputs": [
    {
     "data": {
      "image/png": "[encoded data removed]",
      "text/plain": [
       "<Figure size 864x432 with 1 Axes>"
      ]
     },
     "metadata": {},
     "output_type": "display_data"
    }
   ],
   "source": [
    "sns.set_style(\"white\")\n",
    "sns.set_palette(\"husl\", 12)\n",
    "\n",
    "plt.figure(figsize=(12,6))\n",
    "\n",
    "ax = sns.boxplot(data=Store_312.sort_index(), x='Month_int', y='Unit Sales')\n",
    "ax.set_ylabel(\"Unit Sales\", fontsize=12)\n",
    "ax.set_xlabel(\"Month\", fontsize=12)\n",
    "ax.set_title(\"Monthly Sales Pattern\", fontweight=\"bold\", fontsize=14)\n",
    "ax.tick_params(labelsize=11)\n",
    "\n",
    "sns.despine(top=True, right=True, left=True, bottom=True, ax=ax)\n",
    "plt.show()"
   ]
  },
  {
   "cell_type": "markdown",
   "metadata": {},
   "source": [
    "Interesting yearly seasonality here. There is a greater spread of unit sales in the middle of the year, than there is at the end of it. May in particular actually has more outlier values than any other month, indicating peak sales in that period."
   ]
  },
  {
   "cell_type": "markdown",
   "metadata": {},
   "source": [
    "### Identifying a Trend"
   ]
  },
  {
   "cell_type": "markdown",
   "metadata": {},
   "source": [
    "Next up on our quest to see how unit sales behave over time, let's see if they form a trend over time."
   ]
  },
  {
   "cell_type": "markdown",
   "metadata": {},
   "source": [
    "Our data consists of multiple batches of sales on a single day. Therefore, if we were to plot a line chart on data that looks like that, it'll become very messy. To fix this, we can bin all sales on a particular day into a sum of those sales on that day. Let's do this on a copy of our data to preserve our dataset."
   ]
  },
  {
   "cell_type": "code",
   "execution_count": 55,
   "metadata": {},
   "outputs": [],
   "source": [
    "Store_312c = Store_312.resample(\"D\").sum()"
   ]
  },
  {
   "cell_type": "markdown",
   "metadata": {},
   "source": [
    "Our resampled dataset will now contain every single day from the time period provided, with sales aggregated by sum for that day. However, we can remember from our weekly seasonality boxplot that it didn't contain a Sunday. This is because TinyCo shops are closed on Sundays. The newly introduced Sundays will contain zeros, which we do not want. Let's remove them."
   ]
  },
  {
   "cell_type": "code",
   "execution_count": 56,
   "metadata": {},
   "outputs": [],
   "source": [
    "Store_312c = Store_312c.loc[Store_312c[\"Unit Sales\"]>0]"
   ]
  },
  {
   "cell_type": "markdown",
   "metadata": {},
   "source": [
    "The daily time series from before has a very high frequency variability, which is why it appears noisy. However, there is a pattern in that data and we can find it by decresing the frequency variability, i.e., by smoothing out seasonality. We've already established that there is weekly seasonality, so let's apply a 7-day rolling to our data."
   ]
  },
  {
   "cell_type": "code",
   "execution_count": 57,
   "metadata": {},
   "outputs": [
    {
     "data": {
      "image/png": "[encoded data removed]",
      "text/plain": [
       "<Figure size 1080x432 with 1 Axes>"
      ]
     },
     "metadata": {},
     "output_type": "display_data"
    }
   ],
   "source": [
    "fig, ax = plt.subplots(figsize=(15,6))\n",
    "\n",
    "ax.plot(Store_312c[\"Unit Sales\"], marker='.', alpha=0.5, linestyle='None', label=\"Daily TS\", color=\"grey\")\n",
    "ax.plot(Store_312c[\"Unit Sales\"].rolling(7, center=True).mean(), marker='.', label=\"7-d Rolling Mean\", color=\"navy\")\n",
    "ax.plot(Store_312c[\"Unit Sales\"].rolling(365, center=True, min_periods=120).mean(), label=\"Trend(365-d Rolling Mean)\", color=\"green\", linewidth=3)\n",
    "ax.set_ylabel(\"Unit Sales\")\n",
    "ax.set_title(\"Trend in Unit Sales\", fontsize=14, fontweight=\"bold\")\n",
    "ax.xaxis.set_major_locator(mdates.MonthLocator())\n",
    "ax.xaxis.set_major_formatter(mdates.DateFormatter('%b %y'))\n",
    "ax.legend(loc=\"upper left\")\n",
    "\n",
    "plt.xticks(rotation=90)\n",
    "\n",
    "sns.despine(top=True, right=True, left=True, bottom=True, ax=ax)\n",
    "plt.show()"
   ]
  },
  {
   "cell_type": "markdown",
   "metadata": {},
   "source": [
    "The grey dots are the daily resampled time series. They contain both weekly and annual seasonality, hence why they are all over the place.\n",
    "\n",
    "The navy blue line is a 7 day rolling mean. It averages out the weekly variation, but maintains the seasonality found through the year. Although this is an improvement on the dots, it still doesn't give a clear direction of where the trend is going.\n",
    "\n",
    "The green line is a 365 day rolling mean. It seeks out the seasonality in the year and averages that out as well, leaving us with a smooth line, which we can easily deduce direction of sales from.\n",
    "\n",
    "As we can see, the trend shows that the sales are steadily rising."
   ]
  },
  {
   "cell_type": "markdown",
   "metadata": {},
   "source": [
    "### 6. How do these SKUs behave differently in the other stores?"
   ]
  },
  {
   "cell_type": "markdown",
   "metadata": {},
   "source": [
    "This question can only be answered once the other 4 stores have gone through the processes in Part 1, as well as all the other ones in this notebook. For demonstrative processes, we'll end here, however.\n",
    "\n",
    "_You are free to go through the other stores on your own and add on my work and/or critic it if you'd like to._\n",
    "\n",
    "Please leave a comment in the comments section if you've any question or contributions.\n",
    "\n",
    "**End of Part 2**\n",
    "\n",
    "The third and final part of the project continues in the next notebook."
   ]
  },
  {
   "cell_type": "markdown",
   "metadata": {},
   "source": [
    "<br>\n",
    "<br>\n",
    "<br>\n",
    "<br>\n",
    "***\n",
    "<footer>_Author: Simbarashe Chikaura -- Data Analyst_</footer>\n",
    "***"
   ]
  }
 ],
 "metadata": {
  "kernelspec": {
   "display_name": "Python 3",
   "language": "python",
   "name": "python3"
  },
  "language_info": {
   "codemirror_mode": {
    "name": "ipython",
    "version": 3
   },
   "file_extension": ".py",
   "mimetype": "text/x-python",
   "name": "python",
   "nbconvert_exporter": "python",
   "pygments_lexer": "ipython3",
   "version": "3.7.1"
  }
 },
 "nbformat": 4,
 "nbformat_minor": 2
}
