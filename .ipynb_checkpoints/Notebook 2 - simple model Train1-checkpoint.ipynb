{
 "cells": [
  {
   "cell_type": "markdown",
   "metadata": {},
   "source": [
    "# Wazihub Soil Moisture Prediction Challenge\n",
    "\n",
    "Predict soil humidity using sensor data from low-cost DIY Internet of Things in Senegal"
   ]
  },
  {
   "cell_type": "code",
   "execution_count": 2,
   "metadata": {},
   "outputs": [],
   "source": [
    "# import packages\n",
    "import numpy as np\n",
    "import pandas as pd\n",
    "import matplotlib.pyplot as plt\n",
    "import matplotlib.gridspec as gridspec\n",
    "import seaborn as sns\n",
    "from scipy import stats"
   ]
  },
  {
   "cell_type": "code",
   "execution_count": 3,
   "metadata": {},
   "outputs": [],
   "source": [
    "# display options\n",
    "%matplotlib inline\n",
    "sns.set_style('whitegrid')\n",
    "pd.set_option('display.max_rows', 100)\n",
    "pd.set_option('display.max_columns', 100)\n",
    "pd.set_option('max_colwidth', 400)\n",
    "np.set_printoptions(linewidth=500)\n",
    "\n",
    "# random seed\n",
    "np.random.seed(6)"
   ]
  },
  {
   "cell_type": "markdown",
   "metadata": {},
   "source": [
    "### Prepare the data"
   ]
  },
  {
   "cell_type": "code",
   "execution_count": 4,
   "metadata": {},
   "outputs": [],
   "source": [
    "# get data\n",
    "Train1 = pd.read_csv(\"../data/Train1.csv\")\n",
    "Limits = pd.read_csv(\"../data/Limits.csv\", index_col=0)"
   ]
  },
  {
   "cell_type": "code",
   "execution_count": 5,
   "metadata": {},
   "outputs": [
    {
     "name": "stdout",
     "output_type": "stream",
     "text": [
      "Shape of the data: (8914, 9)\n"
     ]
    }
   ],
   "source": [
    "# choose data for training\n",
    "start = Limits[\"field1\"][\"train_start\"]\n",
    "end   = Limits[\"field1\"][\"train_end\"]\n",
    "data = Train1[(Train1[\"timestamp\"]>=start) & (Train1[\"timestamp\"]<=end)]\n",
    "print(\"Shape of the data:\", data.shape)"
   ]
  },
  {
   "cell_type": "code",
   "execution_count": 6,
   "metadata": {},
   "outputs": [],
   "source": [
    "def AddLag(df, lag=3, y=\"Humidity1\"):\n",
    "    data = pd.DataFrame()\n",
    "    data[y] = df[y]\n",
    "    for col in df.columns.values:\n",
    "        for p in range(1, lag+1):\n",
    "            name = col + \"(k-\" + str(p) + \")\"\n",
    "            nans = np.empty(p)\n",
    "            nans[:] = np.nan\n",
    "            data[name] = np.concatenate((nans, df[col].values[p:]))\n",
    "    return data.dropna()"
   ]
  },
  {
   "cell_type": "code",
   "execution_count": 7,
   "metadata": {},
   "outputs": [],
   "source": [
    "# add lag to data\n",
    "data_lag = AddLag(data.drop(columns=\"timestamp\"))"
   ]
  },
  {
   "cell_type": "markdown",
   "metadata": {},
   "source": [
    "### Additional preprocessing"
   ]
  },
  {
   "cell_type": "code",
   "execution_count": 8,
   "metadata": {},
   "outputs": [],
   "source": [
    "# import packages\n",
    "import sklearn.model_selection as ms\n",
    "from sklearn.preprocessing import RobustScaler, StandardScaler"
   ]
  },
  {
   "cell_type": "code",
   "execution_count": 9,
   "metadata": {},
   "outputs": [],
   "source": [
    "# get labels\n",
    "labels = np.array(data_lag[\"Humidity1\"])\n",
    "\n",
    "# get features\n",
    "features = np.array(data_lag.drop(columns=\"Humidity1\"))"
   ]
  },
  {
   "cell_type": "code",
   "execution_count": 20,
   "metadata": {},
   "outputs": [],
   "source": [
    "# divide data into train and dev sets\n",
    "X_train, X_dev = features[:-1153], features[-1153:]\n",
    "y_train, y_dev = labels[:-1153], labels[-1153:]"
   ]
  },
  {
   "cell_type": "code",
   "execution_count": 23,
   "metadata": {},
   "outputs": [],
   "source": [
    "# scale numerical features\n",
    "scaler = RobustScaler().fit(X_train)\n",
    "X_train = scaler.transform(X_train)\n",
    "X_dev = scaler.transform(X_dev)"
   ]
  },
  {
   "cell_type": "code",
   "execution_count": 27,
   "metadata": {},
   "outputs": [
    {
     "name": "stdout",
     "output_type": "stream",
     "text": [
      "1.14.0\n"
     ]
    }
   ],
   "source": [
    "import tensorflow as tf\n",
    "print(tf.__version__)"
   ]
  },
  {
   "cell_type": "markdown",
   "metadata": {},
   "source": [
    "### Model training"
   ]
  },
  {
   "cell_type": "code",
   "execution_count": 24,
   "metadata": {},
   "outputs": [],
   "source": [
    "# import packages\n",
    "import sklearn.linear_model as lm\n",
    "from sklearn.metrics import mean_squared_error"
   ]
  },
  {
   "cell_type": "code",
   "execution_count": 25,
   "metadata": {},
   "outputs": [
    {
     "name": "stdout",
     "output_type": "stream",
     "text": [
      "Ridge:\n",
      "RMSE = 0.0010662638582832093\n"
     ]
    }
   ],
   "source": [
    "# Ridge\n",
    "print(\"Ridge:\")\n",
    "    \n",
    "#evaluation on dev set\n",
    "mdl = lm.Ridge()\n",
    "y_hat = mdl.fit(X_train, y_train).predict(X_dev)\n",
    "rmse = np.sqrt(mean_squared_error(y_dev, y_hat))\n",
    "print(\"RMSE =\", rmse)"
   ]
  },
  {
   "cell_type": "code",
   "execution_count": null,
   "metadata": {},
   "outputs": [],
   "source": []
  }
 ],
 "metadata": {
  "kernelspec": {
   "display_name": "Python 3",
   "language": "python",
   "name": "python3"
  },
  "language_info": {
   "codemirror_mode": {
    "name": "ipython",
    "version": 3
   },
   "file_extension": ".py",
   "mimetype": "text/x-python",
   "name": "python",
   "nbconvert_exporter": "python",
   "pygments_lexer": "ipython3",
   "version": "3.7.1"
  }
 },
 "nbformat": 4,
 "nbformat_minor": 2
}
